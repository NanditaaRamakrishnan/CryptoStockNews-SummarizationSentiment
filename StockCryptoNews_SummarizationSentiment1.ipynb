{
  "nbformat": 4,
  "nbformat_minor": 0,
  "metadata": {
    "colab": {
      "provenance": [],
      "authorship_tag": "ABX9TyMNp+OaSddKhXUqy0Qh/BUI",
      "include_colab_link": true
    },
    "kernelspec": {
      "name": "python3",
      "display_name": "Python 3"
    },
    "language_info": {
      "name": "python"
    },
    "widgets": {
      "application/vnd.jupyter.widget-state+json": {
        "80218da235194747beaea7d931bc1de9": {
          "model_module": "@jupyter-widgets/controls",
          "model_name": "HBoxModel",
          "model_module_version": "1.5.0",
          "state": {
            "_dom_classes": [],
            "_model_module": "@jupyter-widgets/controls",
            "_model_module_version": "1.5.0",
            "_model_name": "HBoxModel",
            "_view_count": null,
            "_view_module": "@jupyter-widgets/controls",
            "_view_module_version": "1.5.0",
            "_view_name": "HBoxView",
            "box_style": "",
            "children": [
              "IPY_MODEL_7249940a7c1e4937addf600dcfa6b397",
              "IPY_MODEL_3a1e76ff05834c47a9b8f8a2f3de0e27",
              "IPY_MODEL_53c87d266dcf49f19e20dad1938a4cbd"
            ],
            "layout": "IPY_MODEL_378e3a33df5b41248d1a2aa80c91849a"
          }
        },
        "7249940a7c1e4937addf600dcfa6b397": {
          "model_module": "@jupyter-widgets/controls",
          "model_name": "HTMLModel",
          "model_module_version": "1.5.0",
          "state": {
            "_dom_classes": [],
            "_model_module": "@jupyter-widgets/controls",
            "_model_module_version": "1.5.0",
            "_model_name": "HTMLModel",
            "_view_count": null,
            "_view_module": "@jupyter-widgets/controls",
            "_view_module_version": "1.5.0",
            "_view_name": "HTMLView",
            "description": "",
            "description_tooltip": null,
            "layout": "IPY_MODEL_b1604aef74f541bda827cb3a400ae35b",
            "placeholder": "​",
            "style": "IPY_MODEL_2aca3ae825a3472187a8f19f5d605ffb",
            "value": "Downloading (…)&quot;spiece.model&quot;;: 100%"
          }
        },
        "3a1e76ff05834c47a9b8f8a2f3de0e27": {
          "model_module": "@jupyter-widgets/controls",
          "model_name": "FloatProgressModel",
          "model_module_version": "1.5.0",
          "state": {
            "_dom_classes": [],
            "_model_module": "@jupyter-widgets/controls",
            "_model_module_version": "1.5.0",
            "_model_name": "FloatProgressModel",
            "_view_count": null,
            "_view_module": "@jupyter-widgets/controls",
            "_view_module_version": "1.5.0",
            "_view_name": "ProgressView",
            "bar_style": "success",
            "description": "",
            "description_tooltip": null,
            "layout": "IPY_MODEL_86999cdff98f46bc994f15226b379a45",
            "max": 1912529,
            "min": 0,
            "orientation": "horizontal",
            "style": "IPY_MODEL_a143029e7f944ed58d1765bff83c2373",
            "value": 1912529
          }
        },
        "53c87d266dcf49f19e20dad1938a4cbd": {
          "model_module": "@jupyter-widgets/controls",
          "model_name": "HTMLModel",
          "model_module_version": "1.5.0",
          "state": {
            "_dom_classes": [],
            "_model_module": "@jupyter-widgets/controls",
            "_model_module_version": "1.5.0",
            "_model_name": "HTMLModel",
            "_view_count": null,
            "_view_module": "@jupyter-widgets/controls",
            "_view_module_version": "1.5.0",
            "_view_name": "HTMLView",
            "description": "",
            "description_tooltip": null,
            "layout": "IPY_MODEL_0b9df5e4465f4714b14c82774c75382e",
            "placeholder": "​",
            "style": "IPY_MODEL_a738826f4ef24a51bbbf69b8df3e9ba4",
            "value": " 1.91M/1.91M [00:00&lt;00:00, 5.85MB/s]"
          }
        },
        "378e3a33df5b41248d1a2aa80c91849a": {
          "model_module": "@jupyter-widgets/base",
          "model_name": "LayoutModel",
          "model_module_version": "1.2.0",
          "state": {
            "_model_module": "@jupyter-widgets/base",
            "_model_module_version": "1.2.0",
            "_model_name": "LayoutModel",
            "_view_count": null,
            "_view_module": "@jupyter-widgets/base",
            "_view_module_version": "1.2.0",
            "_view_name": "LayoutView",
            "align_content": null,
            "align_items": null,
            "align_self": null,
            "border": null,
            "bottom": null,
            "display": null,
            "flex": null,
            "flex_flow": null,
            "grid_area": null,
            "grid_auto_columns": null,
            "grid_auto_flow": null,
            "grid_auto_rows": null,
            "grid_column": null,
            "grid_gap": null,
            "grid_row": null,
            "grid_template_areas": null,
            "grid_template_columns": null,
            "grid_template_rows": null,
            "height": null,
            "justify_content": null,
            "justify_items": null,
            "left": null,
            "margin": null,
            "max_height": null,
            "max_width": null,
            "min_height": null,
            "min_width": null,
            "object_fit": null,
            "object_position": null,
            "order": null,
            "overflow": null,
            "overflow_x": null,
            "overflow_y": null,
            "padding": null,
            "right": null,
            "top": null,
            "visibility": null,
            "width": null
          }
        },
        "b1604aef74f541bda827cb3a400ae35b": {
          "model_module": "@jupyter-widgets/base",
          "model_name": "LayoutModel",
          "model_module_version": "1.2.0",
          "state": {
            "_model_module": "@jupyter-widgets/base",
            "_model_module_version": "1.2.0",
            "_model_name": "LayoutModel",
            "_view_count": null,
            "_view_module": "@jupyter-widgets/base",
            "_view_module_version": "1.2.0",
            "_view_name": "LayoutView",
            "align_content": null,
            "align_items": null,
            "align_self": null,
            "border": null,
            "bottom": null,
            "display": null,
            "flex": null,
            "flex_flow": null,
            "grid_area": null,
            "grid_auto_columns": null,
            "grid_auto_flow": null,
            "grid_auto_rows": null,
            "grid_column": null,
            "grid_gap": null,
            "grid_row": null,
            "grid_template_areas": null,
            "grid_template_columns": null,
            "grid_template_rows": null,
            "height": null,
            "justify_content": null,
            "justify_items": null,
            "left": null,
            "margin": null,
            "max_height": null,
            "max_width": null,
            "min_height": null,
            "min_width": null,
            "object_fit": null,
            "object_position": null,
            "order": null,
            "overflow": null,
            "overflow_x": null,
            "overflow_y": null,
            "padding": null,
            "right": null,
            "top": null,
            "visibility": null,
            "width": null
          }
        },
        "2aca3ae825a3472187a8f19f5d605ffb": {
          "model_module": "@jupyter-widgets/controls",
          "model_name": "DescriptionStyleModel",
          "model_module_version": "1.5.0",
          "state": {
            "_model_module": "@jupyter-widgets/controls",
            "_model_module_version": "1.5.0",
            "_model_name": "DescriptionStyleModel",
            "_view_count": null,
            "_view_module": "@jupyter-widgets/base",
            "_view_module_version": "1.2.0",
            "_view_name": "StyleView",
            "description_width": ""
          }
        },
        "86999cdff98f46bc994f15226b379a45": {
          "model_module": "@jupyter-widgets/base",
          "model_name": "LayoutModel",
          "model_module_version": "1.2.0",
          "state": {
            "_model_module": "@jupyter-widgets/base",
            "_model_module_version": "1.2.0",
            "_model_name": "LayoutModel",
            "_view_count": null,
            "_view_module": "@jupyter-widgets/base",
            "_view_module_version": "1.2.0",
            "_view_name": "LayoutView",
            "align_content": null,
            "align_items": null,
            "align_self": null,
            "border": null,
            "bottom": null,
            "display": null,
            "flex": null,
            "flex_flow": null,
            "grid_area": null,
            "grid_auto_columns": null,
            "grid_auto_flow": null,
            "grid_auto_rows": null,
            "grid_column": null,
            "grid_gap": null,
            "grid_row": null,
            "grid_template_areas": null,
            "grid_template_columns": null,
            "grid_template_rows": null,
            "height": null,
            "justify_content": null,
            "justify_items": null,
            "left": null,
            "margin": null,
            "max_height": null,
            "max_width": null,
            "min_height": null,
            "min_width": null,
            "object_fit": null,
            "object_position": null,
            "order": null,
            "overflow": null,
            "overflow_x": null,
            "overflow_y": null,
            "padding": null,
            "right": null,
            "top": null,
            "visibility": null,
            "width": null
          }
        },
        "a143029e7f944ed58d1765bff83c2373": {
          "model_module": "@jupyter-widgets/controls",
          "model_name": "ProgressStyleModel",
          "model_module_version": "1.5.0",
          "state": {
            "_model_module": "@jupyter-widgets/controls",
            "_model_module_version": "1.5.0",
            "_model_name": "ProgressStyleModel",
            "_view_count": null,
            "_view_module": "@jupyter-widgets/base",
            "_view_module_version": "1.2.0",
            "_view_name": "StyleView",
            "bar_color": null,
            "description_width": ""
          }
        },
        "0b9df5e4465f4714b14c82774c75382e": {
          "model_module": "@jupyter-widgets/base",
          "model_name": "LayoutModel",
          "model_module_version": "1.2.0",
          "state": {
            "_model_module": "@jupyter-widgets/base",
            "_model_module_version": "1.2.0",
            "_model_name": "LayoutModel",
            "_view_count": null,
            "_view_module": "@jupyter-widgets/base",
            "_view_module_version": "1.2.0",
            "_view_name": "LayoutView",
            "align_content": null,
            "align_items": null,
            "align_self": null,
            "border": null,
            "bottom": null,
            "display": null,
            "flex": null,
            "flex_flow": null,
            "grid_area": null,
            "grid_auto_columns": null,
            "grid_auto_flow": null,
            "grid_auto_rows": null,
            "grid_column": null,
            "grid_gap": null,
            "grid_row": null,
            "grid_template_areas": null,
            "grid_template_columns": null,
            "grid_template_rows": null,
            "height": null,
            "justify_content": null,
            "justify_items": null,
            "left": null,
            "margin": null,
            "max_height": null,
            "max_width": null,
            "min_height": null,
            "min_width": null,
            "object_fit": null,
            "object_position": null,
            "order": null,
            "overflow": null,
            "overflow_x": null,
            "overflow_y": null,
            "padding": null,
            "right": null,
            "top": null,
            "visibility": null,
            "width": null
          }
        },
        "a738826f4ef24a51bbbf69b8df3e9ba4": {
          "model_module": "@jupyter-widgets/controls",
          "model_name": "DescriptionStyleModel",
          "model_module_version": "1.5.0",
          "state": {
            "_model_module": "@jupyter-widgets/controls",
            "_model_module_version": "1.5.0",
            "_model_name": "DescriptionStyleModel",
            "_view_count": null,
            "_view_module": "@jupyter-widgets/base",
            "_view_module_version": "1.2.0",
            "_view_name": "StyleView",
            "description_width": ""
          }
        },
        "be35861154f3426f82787472fe2e528d": {
          "model_module": "@jupyter-widgets/controls",
          "model_name": "HBoxModel",
          "model_module_version": "1.5.0",
          "state": {
            "_dom_classes": [],
            "_model_module": "@jupyter-widgets/controls",
            "_model_module_version": "1.5.0",
            "_model_name": "HBoxModel",
            "_view_count": null,
            "_view_module": "@jupyter-widgets/controls",
            "_view_module_version": "1.5.0",
            "_view_name": "HBoxView",
            "box_style": "",
            "children": [
              "IPY_MODEL_114770b49a6f4f6eb3c4c5aabd61e9b4",
              "IPY_MODEL_bc222ecf2a1f4004b9d6f19cf1291b2d",
              "IPY_MODEL_23e9a7ee456a4ff183ae1c9c0c88b462"
            ],
            "layout": "IPY_MODEL_2129518e4f814ade8e40caa0cb3fbe1b"
          }
        },
        "114770b49a6f4f6eb3c4c5aabd61e9b4": {
          "model_module": "@jupyter-widgets/controls",
          "model_name": "HTMLModel",
          "model_module_version": "1.5.0",
          "state": {
            "_dom_classes": [],
            "_model_module": "@jupyter-widgets/controls",
            "_model_module_version": "1.5.0",
            "_model_name": "HTMLModel",
            "_view_count": null,
            "_view_module": "@jupyter-widgets/controls",
            "_view_module_version": "1.5.0",
            "_view_name": "HTMLView",
            "description": "",
            "description_tooltip": null,
            "layout": "IPY_MODEL_483221572558487ead194a2c06008c89",
            "placeholder": "​",
            "style": "IPY_MODEL_235466760b174516880e874ab3e6527e",
            "value": "Downloading (…)cial_tokens_map.json: 100%"
          }
        },
        "bc222ecf2a1f4004b9d6f19cf1291b2d": {
          "model_module": "@jupyter-widgets/controls",
          "model_name": "FloatProgressModel",
          "model_module_version": "1.5.0",
          "state": {
            "_dom_classes": [],
            "_model_module": "@jupyter-widgets/controls",
            "_model_module_version": "1.5.0",
            "_model_name": "FloatProgressModel",
            "_view_count": null,
            "_view_module": "@jupyter-widgets/controls",
            "_view_module_version": "1.5.0",
            "_view_name": "ProgressView",
            "bar_style": "success",
            "description": "",
            "description_tooltip": null,
            "layout": "IPY_MODEL_f61bf771986049e9b537c713b046f57a",
            "max": 1341,
            "min": 0,
            "orientation": "horizontal",
            "style": "IPY_MODEL_28dc5a00fe9c4ef2b99279f0682d7921",
            "value": 1341
          }
        },
        "23e9a7ee456a4ff183ae1c9c0c88b462": {
          "model_module": "@jupyter-widgets/controls",
          "model_name": "HTMLModel",
          "model_module_version": "1.5.0",
          "state": {
            "_dom_classes": [],
            "_model_module": "@jupyter-widgets/controls",
            "_model_module_version": "1.5.0",
            "_model_name": "HTMLModel",
            "_view_count": null,
            "_view_module": "@jupyter-widgets/controls",
            "_view_module_version": "1.5.0",
            "_view_name": "HTMLView",
            "description": "",
            "description_tooltip": null,
            "layout": "IPY_MODEL_7b763d35508447ba8e24ee4789365c1e",
            "placeholder": "​",
            "style": "IPY_MODEL_01e5a70a1f1e41559b60970cb1037d5a",
            "value": " 1.34k/1.34k [00:00&lt;00:00, 15.3kB/s]"
          }
        },
        "2129518e4f814ade8e40caa0cb3fbe1b": {
          "model_module": "@jupyter-widgets/base",
          "model_name": "LayoutModel",
          "model_module_version": "1.2.0",
          "state": {
            "_model_module": "@jupyter-widgets/base",
            "_model_module_version": "1.2.0",
            "_model_name": "LayoutModel",
            "_view_count": null,
            "_view_module": "@jupyter-widgets/base",
            "_view_module_version": "1.2.0",
            "_view_name": "LayoutView",
            "align_content": null,
            "align_items": null,
            "align_self": null,
            "border": null,
            "bottom": null,
            "display": null,
            "flex": null,
            "flex_flow": null,
            "grid_area": null,
            "grid_auto_columns": null,
            "grid_auto_flow": null,
            "grid_auto_rows": null,
            "grid_column": null,
            "grid_gap": null,
            "grid_row": null,
            "grid_template_areas": null,
            "grid_template_columns": null,
            "grid_template_rows": null,
            "height": null,
            "justify_content": null,
            "justify_items": null,
            "left": null,
            "margin": null,
            "max_height": null,
            "max_width": null,
            "min_height": null,
            "min_width": null,
            "object_fit": null,
            "object_position": null,
            "order": null,
            "overflow": null,
            "overflow_x": null,
            "overflow_y": null,
            "padding": null,
            "right": null,
            "top": null,
            "visibility": null,
            "width": null
          }
        },
        "483221572558487ead194a2c06008c89": {
          "model_module": "@jupyter-widgets/base",
          "model_name": "LayoutModel",
          "model_module_version": "1.2.0",
          "state": {
            "_model_module": "@jupyter-widgets/base",
            "_model_module_version": "1.2.0",
            "_model_name": "LayoutModel",
            "_view_count": null,
            "_view_module": "@jupyter-widgets/base",
            "_view_module_version": "1.2.0",
            "_view_name": "LayoutView",
            "align_content": null,
            "align_items": null,
            "align_self": null,
            "border": null,
            "bottom": null,
            "display": null,
            "flex": null,
            "flex_flow": null,
            "grid_area": null,
            "grid_auto_columns": null,
            "grid_auto_flow": null,
            "grid_auto_rows": null,
            "grid_column": null,
            "grid_gap": null,
            "grid_row": null,
            "grid_template_areas": null,
            "grid_template_columns": null,
            "grid_template_rows": null,
            "height": null,
            "justify_content": null,
            "justify_items": null,
            "left": null,
            "margin": null,
            "max_height": null,
            "max_width": null,
            "min_height": null,
            "min_width": null,
            "object_fit": null,
            "object_position": null,
            "order": null,
            "overflow": null,
            "overflow_x": null,
            "overflow_y": null,
            "padding": null,
            "right": null,
            "top": null,
            "visibility": null,
            "width": null
          }
        },
        "235466760b174516880e874ab3e6527e": {
          "model_module": "@jupyter-widgets/controls",
          "model_name": "DescriptionStyleModel",
          "model_module_version": "1.5.0",
          "state": {
            "_model_module": "@jupyter-widgets/controls",
            "_model_module_version": "1.5.0",
            "_model_name": "DescriptionStyleModel",
            "_view_count": null,
            "_view_module": "@jupyter-widgets/base",
            "_view_module_version": "1.2.0",
            "_view_name": "StyleView",
            "description_width": ""
          }
        },
        "f61bf771986049e9b537c713b046f57a": {
          "model_module": "@jupyter-widgets/base",
          "model_name": "LayoutModel",
          "model_module_version": "1.2.0",
          "state": {
            "_model_module": "@jupyter-widgets/base",
            "_model_module_version": "1.2.0",
            "_model_name": "LayoutModel",
            "_view_count": null,
            "_view_module": "@jupyter-widgets/base",
            "_view_module_version": "1.2.0",
            "_view_name": "LayoutView",
            "align_content": null,
            "align_items": null,
            "align_self": null,
            "border": null,
            "bottom": null,
            "display": null,
            "flex": null,
            "flex_flow": null,
            "grid_area": null,
            "grid_auto_columns": null,
            "grid_auto_flow": null,
            "grid_auto_rows": null,
            "grid_column": null,
            "grid_gap": null,
            "grid_row": null,
            "grid_template_areas": null,
            "grid_template_columns": null,
            "grid_template_rows": null,
            "height": null,
            "justify_content": null,
            "justify_items": null,
            "left": null,
            "margin": null,
            "max_height": null,
            "max_width": null,
            "min_height": null,
            "min_width": null,
            "object_fit": null,
            "object_position": null,
            "order": null,
            "overflow": null,
            "overflow_x": null,
            "overflow_y": null,
            "padding": null,
            "right": null,
            "top": null,
            "visibility": null,
            "width": null
          }
        },
        "28dc5a00fe9c4ef2b99279f0682d7921": {
          "model_module": "@jupyter-widgets/controls",
          "model_name": "ProgressStyleModel",
          "model_module_version": "1.5.0",
          "state": {
            "_model_module": "@jupyter-widgets/controls",
            "_model_module_version": "1.5.0",
            "_model_name": "ProgressStyleModel",
            "_view_count": null,
            "_view_module": "@jupyter-widgets/base",
            "_view_module_version": "1.2.0",
            "_view_name": "StyleView",
            "bar_color": null,
            "description_width": ""
          }
        },
        "7b763d35508447ba8e24ee4789365c1e": {
          "model_module": "@jupyter-widgets/base",
          "model_name": "LayoutModel",
          "model_module_version": "1.2.0",
          "state": {
            "_model_module": "@jupyter-widgets/base",
            "_model_module_version": "1.2.0",
            "_model_name": "LayoutModel",
            "_view_count": null,
            "_view_module": "@jupyter-widgets/base",
            "_view_module_version": "1.2.0",
            "_view_name": "LayoutView",
            "align_content": null,
            "align_items": null,
            "align_self": null,
            "border": null,
            "bottom": null,
            "display": null,
            "flex": null,
            "flex_flow": null,
            "grid_area": null,
            "grid_auto_columns": null,
            "grid_auto_flow": null,
            "grid_auto_rows": null,
            "grid_column": null,
            "grid_gap": null,
            "grid_row": null,
            "grid_template_areas": null,
            "grid_template_columns": null,
            "grid_template_rows": null,
            "height": null,
            "justify_content": null,
            "justify_items": null,
            "left": null,
            "margin": null,
            "max_height": null,
            "max_width": null,
            "min_height": null,
            "min_width": null,
            "object_fit": null,
            "object_position": null,
            "order": null,
            "overflow": null,
            "overflow_x": null,
            "overflow_y": null,
            "padding": null,
            "right": null,
            "top": null,
            "visibility": null,
            "width": null
          }
        },
        "01e5a70a1f1e41559b60970cb1037d5a": {
          "model_module": "@jupyter-widgets/controls",
          "model_name": "DescriptionStyleModel",
          "model_module_version": "1.5.0",
          "state": {
            "_model_module": "@jupyter-widgets/controls",
            "_model_module_version": "1.5.0",
            "_model_name": "DescriptionStyleModel",
            "_view_count": null,
            "_view_module": "@jupyter-widgets/base",
            "_view_module_version": "1.2.0",
            "_view_name": "StyleView",
            "description_width": ""
          }
        },
        "cd413fefbd87454fa47788580b7349cb": {
          "model_module": "@jupyter-widgets/controls",
          "model_name": "HBoxModel",
          "model_module_version": "1.5.0",
          "state": {
            "_dom_classes": [],
            "_model_module": "@jupyter-widgets/controls",
            "_model_module_version": "1.5.0",
            "_model_name": "HBoxModel",
            "_view_count": null,
            "_view_module": "@jupyter-widgets/controls",
            "_view_module_version": "1.5.0",
            "_view_name": "HBoxView",
            "box_style": "",
            "children": [
              "IPY_MODEL_bc0ad316138f48b9b6e32ac05979ae82",
              "IPY_MODEL_ca57f3ab3df248708872a2e32ce4c9ae",
              "IPY_MODEL_af218ec326f8453295b64b64b6f7db2f"
            ],
            "layout": "IPY_MODEL_266e1444b340419fab2d844c1762f04b"
          }
        },
        "bc0ad316138f48b9b6e32ac05979ae82": {
          "model_module": "@jupyter-widgets/controls",
          "model_name": "HTMLModel",
          "model_module_version": "1.5.0",
          "state": {
            "_dom_classes": [],
            "_model_module": "@jupyter-widgets/controls",
            "_model_module_version": "1.5.0",
            "_model_name": "HTMLModel",
            "_view_count": null,
            "_view_module": "@jupyter-widgets/controls",
            "_view_module_version": "1.5.0",
            "_view_name": "HTMLView",
            "description": "",
            "description_tooltip": null,
            "layout": "IPY_MODEL_2f00d712bd854e1ba01b4f23e14ea962",
            "placeholder": "​",
            "style": "IPY_MODEL_c206fb26f7f4463a9785ce67850d7c35",
            "value": "Downloading (…)okenizer_config.json: 100%"
          }
        },
        "ca57f3ab3df248708872a2e32ce4c9ae": {
          "model_module": "@jupyter-widgets/controls",
          "model_name": "FloatProgressModel",
          "model_module_version": "1.5.0",
          "state": {
            "_dom_classes": [],
            "_model_module": "@jupyter-widgets/controls",
            "_model_module_version": "1.5.0",
            "_model_name": "FloatProgressModel",
            "_view_count": null,
            "_view_module": "@jupyter-widgets/controls",
            "_view_module_version": "1.5.0",
            "_view_name": "ProgressView",
            "bar_style": "success",
            "description": "",
            "description_tooltip": null,
            "layout": "IPY_MODEL_26f56f2824fb44128977ac9ef53d0bfc",
            "max": 1436,
            "min": 0,
            "orientation": "horizontal",
            "style": "IPY_MODEL_2006c6dbe1d9447fbf4bf66c6020cefa",
            "value": 1436
          }
        },
        "af218ec326f8453295b64b64b6f7db2f": {
          "model_module": "@jupyter-widgets/controls",
          "model_name": "HTMLModel",
          "model_module_version": "1.5.0",
          "state": {
            "_dom_classes": [],
            "_model_module": "@jupyter-widgets/controls",
            "_model_module_version": "1.5.0",
            "_model_name": "HTMLModel",
            "_view_count": null,
            "_view_module": "@jupyter-widgets/controls",
            "_view_module_version": "1.5.0",
            "_view_name": "HTMLView",
            "description": "",
            "description_tooltip": null,
            "layout": "IPY_MODEL_16cf1ef897ca49ad81b8a294d9165108",
            "placeholder": "​",
            "style": "IPY_MODEL_6984801bf0a349f4ac12e45383faeb07",
            "value": " 1.44k/1.44k [00:00&lt;00:00, 24.0kB/s]"
          }
        },
        "266e1444b340419fab2d844c1762f04b": {
          "model_module": "@jupyter-widgets/base",
          "model_name": "LayoutModel",
          "model_module_version": "1.2.0",
          "state": {
            "_model_module": "@jupyter-widgets/base",
            "_model_module_version": "1.2.0",
            "_model_name": "LayoutModel",
            "_view_count": null,
            "_view_module": "@jupyter-widgets/base",
            "_view_module_version": "1.2.0",
            "_view_name": "LayoutView",
            "align_content": null,
            "align_items": null,
            "align_self": null,
            "border": null,
            "bottom": null,
            "display": null,
            "flex": null,
            "flex_flow": null,
            "grid_area": null,
            "grid_auto_columns": null,
            "grid_auto_flow": null,
            "grid_auto_rows": null,
            "grid_column": null,
            "grid_gap": null,
            "grid_row": null,
            "grid_template_areas": null,
            "grid_template_columns": null,
            "grid_template_rows": null,
            "height": null,
            "justify_content": null,
            "justify_items": null,
            "left": null,
            "margin": null,
            "max_height": null,
            "max_width": null,
            "min_height": null,
            "min_width": null,
            "object_fit": null,
            "object_position": null,
            "order": null,
            "overflow": null,
            "overflow_x": null,
            "overflow_y": null,
            "padding": null,
            "right": null,
            "top": null,
            "visibility": null,
            "width": null
          }
        },
        "2f00d712bd854e1ba01b4f23e14ea962": {
          "model_module": "@jupyter-widgets/base",
          "model_name": "LayoutModel",
          "model_module_version": "1.2.0",
          "state": {
            "_model_module": "@jupyter-widgets/base",
            "_model_module_version": "1.2.0",
            "_model_name": "LayoutModel",
            "_view_count": null,
            "_view_module": "@jupyter-widgets/base",
            "_view_module_version": "1.2.0",
            "_view_name": "LayoutView",
            "align_content": null,
            "align_items": null,
            "align_self": null,
            "border": null,
            "bottom": null,
            "display": null,
            "flex": null,
            "flex_flow": null,
            "grid_area": null,
            "grid_auto_columns": null,
            "grid_auto_flow": null,
            "grid_auto_rows": null,
            "grid_column": null,
            "grid_gap": null,
            "grid_row": null,
            "grid_template_areas": null,
            "grid_template_columns": null,
            "grid_template_rows": null,
            "height": null,
            "justify_content": null,
            "justify_items": null,
            "left": null,
            "margin": null,
            "max_height": null,
            "max_width": null,
            "min_height": null,
            "min_width": null,
            "object_fit": null,
            "object_position": null,
            "order": null,
            "overflow": null,
            "overflow_x": null,
            "overflow_y": null,
            "padding": null,
            "right": null,
            "top": null,
            "visibility": null,
            "width": null
          }
        },
        "c206fb26f7f4463a9785ce67850d7c35": {
          "model_module": "@jupyter-widgets/controls",
          "model_name": "DescriptionStyleModel",
          "model_module_version": "1.5.0",
          "state": {
            "_model_module": "@jupyter-widgets/controls",
            "_model_module_version": "1.5.0",
            "_model_name": "DescriptionStyleModel",
            "_view_count": null,
            "_view_module": "@jupyter-widgets/base",
            "_view_module_version": "1.2.0",
            "_view_name": "StyleView",
            "description_width": ""
          }
        },
        "26f56f2824fb44128977ac9ef53d0bfc": {
          "model_module": "@jupyter-widgets/base",
          "model_name": "LayoutModel",
          "model_module_version": "1.2.0",
          "state": {
            "_model_module": "@jupyter-widgets/base",
            "_model_module_version": "1.2.0",
            "_model_name": "LayoutModel",
            "_view_count": null,
            "_view_module": "@jupyter-widgets/base",
            "_view_module_version": "1.2.0",
            "_view_name": "LayoutView",
            "align_content": null,
            "align_items": null,
            "align_self": null,
            "border": null,
            "bottom": null,
            "display": null,
            "flex": null,
            "flex_flow": null,
            "grid_area": null,
            "grid_auto_columns": null,
            "grid_auto_flow": null,
            "grid_auto_rows": null,
            "grid_column": null,
            "grid_gap": null,
            "grid_row": null,
            "grid_template_areas": null,
            "grid_template_columns": null,
            "grid_template_rows": null,
            "height": null,
            "justify_content": null,
            "justify_items": null,
            "left": null,
            "margin": null,
            "max_height": null,
            "max_width": null,
            "min_height": null,
            "min_width": null,
            "object_fit": null,
            "object_position": null,
            "order": null,
            "overflow": null,
            "overflow_x": null,
            "overflow_y": null,
            "padding": null,
            "right": null,
            "top": null,
            "visibility": null,
            "width": null
          }
        },
        "2006c6dbe1d9447fbf4bf66c6020cefa": {
          "model_module": "@jupyter-widgets/controls",
          "model_name": "ProgressStyleModel",
          "model_module_version": "1.5.0",
          "state": {
            "_model_module": "@jupyter-widgets/controls",
            "_model_module_version": "1.5.0",
            "_model_name": "ProgressStyleModel",
            "_view_count": null,
            "_view_module": "@jupyter-widgets/base",
            "_view_module_version": "1.2.0",
            "_view_name": "StyleView",
            "bar_color": null,
            "description_width": ""
          }
        },
        "16cf1ef897ca49ad81b8a294d9165108": {
          "model_module": "@jupyter-widgets/base",
          "model_name": "LayoutModel",
          "model_module_version": "1.2.0",
          "state": {
            "_model_module": "@jupyter-widgets/base",
            "_model_module_version": "1.2.0",
            "_model_name": "LayoutModel",
            "_view_count": null,
            "_view_module": "@jupyter-widgets/base",
            "_view_module_version": "1.2.0",
            "_view_name": "LayoutView",
            "align_content": null,
            "align_items": null,
            "align_self": null,
            "border": null,
            "bottom": null,
            "display": null,
            "flex": null,
            "flex_flow": null,
            "grid_area": null,
            "grid_auto_columns": null,
            "grid_auto_flow": null,
            "grid_auto_rows": null,
            "grid_column": null,
            "grid_gap": null,
            "grid_row": null,
            "grid_template_areas": null,
            "grid_template_columns": null,
            "grid_template_rows": null,
            "height": null,
            "justify_content": null,
            "justify_items": null,
            "left": null,
            "margin": null,
            "max_height": null,
            "max_width": null,
            "min_height": null,
            "min_width": null,
            "object_fit": null,
            "object_position": null,
            "order": null,
            "overflow": null,
            "overflow_x": null,
            "overflow_y": null,
            "padding": null,
            "right": null,
            "top": null,
            "visibility": null,
            "width": null
          }
        },
        "6984801bf0a349f4ac12e45383faeb07": {
          "model_module": "@jupyter-widgets/controls",
          "model_name": "DescriptionStyleModel",
          "model_module_version": "1.5.0",
          "state": {
            "_model_module": "@jupyter-widgets/controls",
            "_model_module_version": "1.5.0",
            "_model_name": "DescriptionStyleModel",
            "_view_count": null,
            "_view_module": "@jupyter-widgets/base",
            "_view_module_version": "1.2.0",
            "_view_name": "StyleView",
            "description_width": ""
          }
        },
        "c498dd0711e446c0aade121f51d8362c": {
          "model_module": "@jupyter-widgets/controls",
          "model_name": "HBoxModel",
          "model_module_version": "1.5.0",
          "state": {
            "_dom_classes": [],
            "_model_module": "@jupyter-widgets/controls",
            "_model_module_version": "1.5.0",
            "_model_name": "HBoxModel",
            "_view_count": null,
            "_view_module": "@jupyter-widgets/controls",
            "_view_module_version": "1.5.0",
            "_view_name": "HBoxView",
            "box_style": "",
            "children": [
              "IPY_MODEL_784940fa9cdd47419b1c0a70f764c499",
              "IPY_MODEL_b3f34d5a37c447ef9ebf8d125919b2a0",
              "IPY_MODEL_21af79dba8bb4771acff30f0f99585f5"
            ],
            "layout": "IPY_MODEL_5e0c33fced8942d0a61b34dc4f1f97a5"
          }
        },
        "784940fa9cdd47419b1c0a70f764c499": {
          "model_module": "@jupyter-widgets/controls",
          "model_name": "HTMLModel",
          "model_module_version": "1.5.0",
          "state": {
            "_dom_classes": [],
            "_model_module": "@jupyter-widgets/controls",
            "_model_module_version": "1.5.0",
            "_model_name": "HTMLModel",
            "_view_count": null,
            "_view_module": "@jupyter-widgets/controls",
            "_view_module_version": "1.5.0",
            "_view_name": "HTMLView",
            "description": "",
            "description_tooltip": null,
            "layout": "IPY_MODEL_baa086ad2d3a47c5b1f616f0fbf9862c",
            "placeholder": "​",
            "style": "IPY_MODEL_5930c5e54e344b1e82753639ac6f4242",
            "value": "Downloading (…)lve/main/config.json: 100%"
          }
        },
        "b3f34d5a37c447ef9ebf8d125919b2a0": {
          "model_module": "@jupyter-widgets/controls",
          "model_name": "FloatProgressModel",
          "model_module_version": "1.5.0",
          "state": {
            "_dom_classes": [],
            "_model_module": "@jupyter-widgets/controls",
            "_model_module_version": "1.5.0",
            "_model_name": "FloatProgressModel",
            "_view_count": null,
            "_view_module": "@jupyter-widgets/controls",
            "_view_module_version": "1.5.0",
            "_view_name": "ProgressView",
            "bar_style": "success",
            "description": "",
            "description_tooltip": null,
            "layout": "IPY_MODEL_9a979f6ae6324f9a929aa65f5b72f8ba",
            "max": 1274,
            "min": 0,
            "orientation": "horizontal",
            "style": "IPY_MODEL_285e1f0567504438bc8fb450a12d2819",
            "value": 1274
          }
        },
        "21af79dba8bb4771acff30f0f99585f5": {
          "model_module": "@jupyter-widgets/controls",
          "model_name": "HTMLModel",
          "model_module_version": "1.5.0",
          "state": {
            "_dom_classes": [],
            "_model_module": "@jupyter-widgets/controls",
            "_model_module_version": "1.5.0",
            "_model_name": "HTMLModel",
            "_view_count": null,
            "_view_module": "@jupyter-widgets/controls",
            "_view_module_version": "1.5.0",
            "_view_name": "HTMLView",
            "description": "",
            "description_tooltip": null,
            "layout": "IPY_MODEL_9947ee985ea4492da481ae9bc64598aa",
            "placeholder": "​",
            "style": "IPY_MODEL_3ac10cd5e72d435bb18aeb6b00d60035",
            "value": " 1.27k/1.27k [00:00&lt;00:00, 18.3kB/s]"
          }
        },
        "5e0c33fced8942d0a61b34dc4f1f97a5": {
          "model_module": "@jupyter-widgets/base",
          "model_name": "LayoutModel",
          "model_module_version": "1.2.0",
          "state": {
            "_model_module": "@jupyter-widgets/base",
            "_model_module_version": "1.2.0",
            "_model_name": "LayoutModel",
            "_view_count": null,
            "_view_module": "@jupyter-widgets/base",
            "_view_module_version": "1.2.0",
            "_view_name": "LayoutView",
            "align_content": null,
            "align_items": null,
            "align_self": null,
            "border": null,
            "bottom": null,
            "display": null,
            "flex": null,
            "flex_flow": null,
            "grid_area": null,
            "grid_auto_columns": null,
            "grid_auto_flow": null,
            "grid_auto_rows": null,
            "grid_column": null,
            "grid_gap": null,
            "grid_row": null,
            "grid_template_areas": null,
            "grid_template_columns": null,
            "grid_template_rows": null,
            "height": null,
            "justify_content": null,
            "justify_items": null,
            "left": null,
            "margin": null,
            "max_height": null,
            "max_width": null,
            "min_height": null,
            "min_width": null,
            "object_fit": null,
            "object_position": null,
            "order": null,
            "overflow": null,
            "overflow_x": null,
            "overflow_y": null,
            "padding": null,
            "right": null,
            "top": null,
            "visibility": null,
            "width": null
          }
        },
        "baa086ad2d3a47c5b1f616f0fbf9862c": {
          "model_module": "@jupyter-widgets/base",
          "model_name": "LayoutModel",
          "model_module_version": "1.2.0",
          "state": {
            "_model_module": "@jupyter-widgets/base",
            "_model_module_version": "1.2.0",
            "_model_name": "LayoutModel",
            "_view_count": null,
            "_view_module": "@jupyter-widgets/base",
            "_view_module_version": "1.2.0",
            "_view_name": "LayoutView",
            "align_content": null,
            "align_items": null,
            "align_self": null,
            "border": null,
            "bottom": null,
            "display": null,
            "flex": null,
            "flex_flow": null,
            "grid_area": null,
            "grid_auto_columns": null,
            "grid_auto_flow": null,
            "grid_auto_rows": null,
            "grid_column": null,
            "grid_gap": null,
            "grid_row": null,
            "grid_template_areas": null,
            "grid_template_columns": null,
            "grid_template_rows": null,
            "height": null,
            "justify_content": null,
            "justify_items": null,
            "left": null,
            "margin": null,
            "max_height": null,
            "max_width": null,
            "min_height": null,
            "min_width": null,
            "object_fit": null,
            "object_position": null,
            "order": null,
            "overflow": null,
            "overflow_x": null,
            "overflow_y": null,
            "padding": null,
            "right": null,
            "top": null,
            "visibility": null,
            "width": null
          }
        },
        "5930c5e54e344b1e82753639ac6f4242": {
          "model_module": "@jupyter-widgets/controls",
          "model_name": "DescriptionStyleModel",
          "model_module_version": "1.5.0",
          "state": {
            "_model_module": "@jupyter-widgets/controls",
            "_model_module_version": "1.5.0",
            "_model_name": "DescriptionStyleModel",
            "_view_count": null,
            "_view_module": "@jupyter-widgets/base",
            "_view_module_version": "1.2.0",
            "_view_name": "StyleView",
            "description_width": ""
          }
        },
        "9a979f6ae6324f9a929aa65f5b72f8ba": {
          "model_module": "@jupyter-widgets/base",
          "model_name": "LayoutModel",
          "model_module_version": "1.2.0",
          "state": {
            "_model_module": "@jupyter-widgets/base",
            "_model_module_version": "1.2.0",
            "_model_name": "LayoutModel",
            "_view_count": null,
            "_view_module": "@jupyter-widgets/base",
            "_view_module_version": "1.2.0",
            "_view_name": "LayoutView",
            "align_content": null,
            "align_items": null,
            "align_self": null,
            "border": null,
            "bottom": null,
            "display": null,
            "flex": null,
            "flex_flow": null,
            "grid_area": null,
            "grid_auto_columns": null,
            "grid_auto_flow": null,
            "grid_auto_rows": null,
            "grid_column": null,
            "grid_gap": null,
            "grid_row": null,
            "grid_template_areas": null,
            "grid_template_columns": null,
            "grid_template_rows": null,
            "height": null,
            "justify_content": null,
            "justify_items": null,
            "left": null,
            "margin": null,
            "max_height": null,
            "max_width": null,
            "min_height": null,
            "min_width": null,
            "object_fit": null,
            "object_position": null,
            "order": null,
            "overflow": null,
            "overflow_x": null,
            "overflow_y": null,
            "padding": null,
            "right": null,
            "top": null,
            "visibility": null,
            "width": null
          }
        },
        "285e1f0567504438bc8fb450a12d2819": {
          "model_module": "@jupyter-widgets/controls",
          "model_name": "ProgressStyleModel",
          "model_module_version": "1.5.0",
          "state": {
            "_model_module": "@jupyter-widgets/controls",
            "_model_module_version": "1.5.0",
            "_model_name": "ProgressStyleModel",
            "_view_count": null,
            "_view_module": "@jupyter-widgets/base",
            "_view_module_version": "1.2.0",
            "_view_name": "StyleView",
            "bar_color": null,
            "description_width": ""
          }
        },
        "9947ee985ea4492da481ae9bc64598aa": {
          "model_module": "@jupyter-widgets/base",
          "model_name": "LayoutModel",
          "model_module_version": "1.2.0",
          "state": {
            "_model_module": "@jupyter-widgets/base",
            "_model_module_version": "1.2.0",
            "_model_name": "LayoutModel",
            "_view_count": null,
            "_view_module": "@jupyter-widgets/base",
            "_view_module_version": "1.2.0",
            "_view_name": "LayoutView",
            "align_content": null,
            "align_items": null,
            "align_self": null,
            "border": null,
            "bottom": null,
            "display": null,
            "flex": null,
            "flex_flow": null,
            "grid_area": null,
            "grid_auto_columns": null,
            "grid_auto_flow": null,
            "grid_auto_rows": null,
            "grid_column": null,
            "grid_gap": null,
            "grid_row": null,
            "grid_template_areas": null,
            "grid_template_columns": null,
            "grid_template_rows": null,
            "height": null,
            "justify_content": null,
            "justify_items": null,
            "left": null,
            "margin": null,
            "max_height": null,
            "max_width": null,
            "min_height": null,
            "min_width": null,
            "object_fit": null,
            "object_position": null,
            "order": null,
            "overflow": null,
            "overflow_x": null,
            "overflow_y": null,
            "padding": null,
            "right": null,
            "top": null,
            "visibility": null,
            "width": null
          }
        },
        "3ac10cd5e72d435bb18aeb6b00d60035": {
          "model_module": "@jupyter-widgets/controls",
          "model_name": "DescriptionStyleModel",
          "model_module_version": "1.5.0",
          "state": {
            "_model_module": "@jupyter-widgets/controls",
            "_model_module_version": "1.5.0",
            "_model_name": "DescriptionStyleModel",
            "_view_count": null,
            "_view_module": "@jupyter-widgets/base",
            "_view_module_version": "1.2.0",
            "_view_name": "StyleView",
            "description_width": ""
          }
        },
        "4b89194d9abc4db995e14d5946054cad": {
          "model_module": "@jupyter-widgets/controls",
          "model_name": "HBoxModel",
          "model_module_version": "1.5.0",
          "state": {
            "_dom_classes": [],
            "_model_module": "@jupyter-widgets/controls",
            "_model_module_version": "1.5.0",
            "_model_name": "HBoxModel",
            "_view_count": null,
            "_view_module": "@jupyter-widgets/controls",
            "_view_module_version": "1.5.0",
            "_view_name": "HBoxView",
            "box_style": "",
            "children": [
              "IPY_MODEL_67519a4012d743708a24f7890876fa4d",
              "IPY_MODEL_aa4f540a526e4aba990bcec729755eb8",
              "IPY_MODEL_0be13025518a48c7b7e3a2fde9add28a"
            ],
            "layout": "IPY_MODEL_e5fa83156b2348c28906afa570a272ce"
          }
        },
        "67519a4012d743708a24f7890876fa4d": {
          "model_module": "@jupyter-widgets/controls",
          "model_name": "HTMLModel",
          "model_module_version": "1.5.0",
          "state": {
            "_dom_classes": [],
            "_model_module": "@jupyter-widgets/controls",
            "_model_module_version": "1.5.0",
            "_model_name": "HTMLModel",
            "_view_count": null,
            "_view_module": "@jupyter-widgets/controls",
            "_view_module_version": "1.5.0",
            "_view_name": "HTMLView",
            "description": "",
            "description_tooltip": null,
            "layout": "IPY_MODEL_d4793d609fd34855906604dc339b1851",
            "placeholder": "​",
            "style": "IPY_MODEL_14c537e1831b40acbdcc36bb8295ed2f",
            "value": "Downloading (…)&quot;pytorch_model.bin&quot;;: 100%"
          }
        },
        "aa4f540a526e4aba990bcec729755eb8": {
          "model_module": "@jupyter-widgets/controls",
          "model_name": "FloatProgressModel",
          "model_module_version": "1.5.0",
          "state": {
            "_dom_classes": [],
            "_model_module": "@jupyter-widgets/controls",
            "_model_module_version": "1.5.0",
            "_model_name": "FloatProgressModel",
            "_view_count": null,
            "_view_module": "@jupyter-widgets/controls",
            "_view_module_version": "1.5.0",
            "_view_name": "ProgressView",
            "bar_style": "success",
            "description": "",
            "description_tooltip": null,
            "layout": "IPY_MODEL_6ee4efdd246f4bfb988b2764bcfb6ee4",
            "max": 2275419259,
            "min": 0,
            "orientation": "horizontal",
            "style": "IPY_MODEL_d6f3369bf51e4687a86b185fe7bb594a",
            "value": 2275419259
          }
        },
        "0be13025518a48c7b7e3a2fde9add28a": {
          "model_module": "@jupyter-widgets/controls",
          "model_name": "HTMLModel",
          "model_module_version": "1.5.0",
          "state": {
            "_dom_classes": [],
            "_model_module": "@jupyter-widgets/controls",
            "_model_module_version": "1.5.0",
            "_model_name": "HTMLModel",
            "_view_count": null,
            "_view_module": "@jupyter-widgets/controls",
            "_view_module_version": "1.5.0",
            "_view_name": "HTMLView",
            "description": "",
            "description_tooltip": null,
            "layout": "IPY_MODEL_d034ad89629343998f4307ecdac12e06",
            "placeholder": "​",
            "style": "IPY_MODEL_e2205b4817db4777b19c0ca6bc7d5817",
            "value": " 2.28G/2.28G [00:30&lt;00:00, 98.2MB/s]"
          }
        },
        "e5fa83156b2348c28906afa570a272ce": {
          "model_module": "@jupyter-widgets/base",
          "model_name": "LayoutModel",
          "model_module_version": "1.2.0",
          "state": {
            "_model_module": "@jupyter-widgets/base",
            "_model_module_version": "1.2.0",
            "_model_name": "LayoutModel",
            "_view_count": null,
            "_view_module": "@jupyter-widgets/base",
            "_view_module_version": "1.2.0",
            "_view_name": "LayoutView",
            "align_content": null,
            "align_items": null,
            "align_self": null,
            "border": null,
            "bottom": null,
            "display": null,
            "flex": null,
            "flex_flow": null,
            "grid_area": null,
            "grid_auto_columns": null,
            "grid_auto_flow": null,
            "grid_auto_rows": null,
            "grid_column": null,
            "grid_gap": null,
            "grid_row": null,
            "grid_template_areas": null,
            "grid_template_columns": null,
            "grid_template_rows": null,
            "height": null,
            "justify_content": null,
            "justify_items": null,
            "left": null,
            "margin": null,
            "max_height": null,
            "max_width": null,
            "min_height": null,
            "min_width": null,
            "object_fit": null,
            "object_position": null,
            "order": null,
            "overflow": null,
            "overflow_x": null,
            "overflow_y": null,
            "padding": null,
            "right": null,
            "top": null,
            "visibility": null,
            "width": null
          }
        },
        "d4793d609fd34855906604dc339b1851": {
          "model_module": "@jupyter-widgets/base",
          "model_name": "LayoutModel",
          "model_module_version": "1.2.0",
          "state": {
            "_model_module": "@jupyter-widgets/base",
            "_model_module_version": "1.2.0",
            "_model_name": "LayoutModel",
            "_view_count": null,
            "_view_module": "@jupyter-widgets/base",
            "_view_module_version": "1.2.0",
            "_view_name": "LayoutView",
            "align_content": null,
            "align_items": null,
            "align_self": null,
            "border": null,
            "bottom": null,
            "display": null,
            "flex": null,
            "flex_flow": null,
            "grid_area": null,
            "grid_auto_columns": null,
            "grid_auto_flow": null,
            "grid_auto_rows": null,
            "grid_column": null,
            "grid_gap": null,
            "grid_row": null,
            "grid_template_areas": null,
            "grid_template_columns": null,
            "grid_template_rows": null,
            "height": null,
            "justify_content": null,
            "justify_items": null,
            "left": null,
            "margin": null,
            "max_height": null,
            "max_width": null,
            "min_height": null,
            "min_width": null,
            "object_fit": null,
            "object_position": null,
            "order": null,
            "overflow": null,
            "overflow_x": null,
            "overflow_y": null,
            "padding": null,
            "right": null,
            "top": null,
            "visibility": null,
            "width": null
          }
        },
        "14c537e1831b40acbdcc36bb8295ed2f": {
          "model_module": "@jupyter-widgets/controls",
          "model_name": "DescriptionStyleModel",
          "model_module_version": "1.5.0",
          "state": {
            "_model_module": "@jupyter-widgets/controls",
            "_model_module_version": "1.5.0",
            "_model_name": "DescriptionStyleModel",
            "_view_count": null,
            "_view_module": "@jupyter-widgets/base",
            "_view_module_version": "1.2.0",
            "_view_name": "StyleView",
            "description_width": ""
          }
        },
        "6ee4efdd246f4bfb988b2764bcfb6ee4": {
          "model_module": "@jupyter-widgets/base",
          "model_name": "LayoutModel",
          "model_module_version": "1.2.0",
          "state": {
            "_model_module": "@jupyter-widgets/base",
            "_model_module_version": "1.2.0",
            "_model_name": "LayoutModel",
            "_view_count": null,
            "_view_module": "@jupyter-widgets/base",
            "_view_module_version": "1.2.0",
            "_view_name": "LayoutView",
            "align_content": null,
            "align_items": null,
            "align_self": null,
            "border": null,
            "bottom": null,
            "display": null,
            "flex": null,
            "flex_flow": null,
            "grid_area": null,
            "grid_auto_columns": null,
            "grid_auto_flow": null,
            "grid_auto_rows": null,
            "grid_column": null,
            "grid_gap": null,
            "grid_row": null,
            "grid_template_areas": null,
            "grid_template_columns": null,
            "grid_template_rows": null,
            "height": null,
            "justify_content": null,
            "justify_items": null,
            "left": null,
            "margin": null,
            "max_height": null,
            "max_width": null,
            "min_height": null,
            "min_width": null,
            "object_fit": null,
            "object_position": null,
            "order": null,
            "overflow": null,
            "overflow_x": null,
            "overflow_y": null,
            "padding": null,
            "right": null,
            "top": null,
            "visibility": null,
            "width": null
          }
        },
        "d6f3369bf51e4687a86b185fe7bb594a": {
          "model_module": "@jupyter-widgets/controls",
          "model_name": "ProgressStyleModel",
          "model_module_version": "1.5.0",
          "state": {
            "_model_module": "@jupyter-widgets/controls",
            "_model_module_version": "1.5.0",
            "_model_name": "ProgressStyleModel",
            "_view_count": null,
            "_view_module": "@jupyter-widgets/base",
            "_view_module_version": "1.2.0",
            "_view_name": "StyleView",
            "bar_color": null,
            "description_width": ""
          }
        },
        "d034ad89629343998f4307ecdac12e06": {
          "model_module": "@jupyter-widgets/base",
          "model_name": "LayoutModel",
          "model_module_version": "1.2.0",
          "state": {
            "_model_module": "@jupyter-widgets/base",
            "_model_module_version": "1.2.0",
            "_model_name": "LayoutModel",
            "_view_count": null,
            "_view_module": "@jupyter-widgets/base",
            "_view_module_version": "1.2.0",
            "_view_name": "LayoutView",
            "align_content": null,
            "align_items": null,
            "align_self": null,
            "border": null,
            "bottom": null,
            "display": null,
            "flex": null,
            "flex_flow": null,
            "grid_area": null,
            "grid_auto_columns": null,
            "grid_auto_flow": null,
            "grid_auto_rows": null,
            "grid_column": null,
            "grid_gap": null,
            "grid_row": null,
            "grid_template_areas": null,
            "grid_template_columns": null,
            "grid_template_rows": null,
            "height": null,
            "justify_content": null,
            "justify_items": null,
            "left": null,
            "margin": null,
            "max_height": null,
            "max_width": null,
            "min_height": null,
            "min_width": null,
            "object_fit": null,
            "object_position": null,
            "order": null,
            "overflow": null,
            "overflow_x": null,
            "overflow_y": null,
            "padding": null,
            "right": null,
            "top": null,
            "visibility": null,
            "width": null
          }
        },
        "e2205b4817db4777b19c0ca6bc7d5817": {
          "model_module": "@jupyter-widgets/controls",
          "model_name": "DescriptionStyleModel",
          "model_module_version": "1.5.0",
          "state": {
            "_model_module": "@jupyter-widgets/controls",
            "_model_module_version": "1.5.0",
            "_model_name": "DescriptionStyleModel",
            "_view_count": null,
            "_view_module": "@jupyter-widgets/base",
            "_view_module_version": "1.2.0",
            "_view_name": "StyleView",
            "description_width": ""
          }
        },
        "92d6ec505af2424ea80b840f68b109fd": {
          "model_module": "@jupyter-widgets/controls",
          "model_name": "HBoxModel",
          "model_module_version": "1.5.0",
          "state": {
            "_dom_classes": [],
            "_model_module": "@jupyter-widgets/controls",
            "_model_module_version": "1.5.0",
            "_model_name": "HBoxModel",
            "_view_count": null,
            "_view_module": "@jupyter-widgets/controls",
            "_view_module_version": "1.5.0",
            "_view_name": "HBoxView",
            "box_style": "",
            "children": [
              "IPY_MODEL_ec87abaf892d4e36b549c6596e2ecd59",
              "IPY_MODEL_bd2dad26d58a477c965540774619b433",
              "IPY_MODEL_0a34476bfd204926a2c0bc1628172569"
            ],
            "layout": "IPY_MODEL_f34c75bd6a0f4d23b383102de010986c"
          }
        },
        "ec87abaf892d4e36b549c6596e2ecd59": {
          "model_module": "@jupyter-widgets/controls",
          "model_name": "HTMLModel",
          "model_module_version": "1.5.0",
          "state": {
            "_dom_classes": [],
            "_model_module": "@jupyter-widgets/controls",
            "_model_module_version": "1.5.0",
            "_model_name": "HTMLModel",
            "_view_count": null,
            "_view_module": "@jupyter-widgets/controls",
            "_view_module_version": "1.5.0",
            "_view_name": "HTMLView",
            "description": "",
            "description_tooltip": null,
            "layout": "IPY_MODEL_f7be61fb114a434d9e850b6ef099d43c",
            "placeholder": "​",
            "style": "IPY_MODEL_790e72f75f92449a8638f530acc991c0",
            "value": "Downloading (…)lve/main/config.json: 100%"
          }
        },
        "bd2dad26d58a477c965540774619b433": {
          "model_module": "@jupyter-widgets/controls",
          "model_name": "FloatProgressModel",
          "model_module_version": "1.5.0",
          "state": {
            "_dom_classes": [],
            "_model_module": "@jupyter-widgets/controls",
            "_model_module_version": "1.5.0",
            "_model_name": "FloatProgressModel",
            "_view_count": null,
            "_view_module": "@jupyter-widgets/controls",
            "_view_module_version": "1.5.0",
            "_view_name": "ProgressView",
            "bar_style": "success",
            "description": "",
            "description_tooltip": null,
            "layout": "IPY_MODEL_2f92fac804604dddabf1b0afbf605ba0",
            "max": 629,
            "min": 0,
            "orientation": "horizontal",
            "style": "IPY_MODEL_caa88098493b49c39d9355dbf0245d6a",
            "value": 629
          }
        },
        "0a34476bfd204926a2c0bc1628172569": {
          "model_module": "@jupyter-widgets/controls",
          "model_name": "HTMLModel",
          "model_module_version": "1.5.0",
          "state": {
            "_dom_classes": [],
            "_model_module": "@jupyter-widgets/controls",
            "_model_module_version": "1.5.0",
            "_model_name": "HTMLModel",
            "_view_count": null,
            "_view_module": "@jupyter-widgets/controls",
            "_view_module_version": "1.5.0",
            "_view_name": "HTMLView",
            "description": "",
            "description_tooltip": null,
            "layout": "IPY_MODEL_9df77b2077b8496ebef286866a2b2297",
            "placeholder": "​",
            "style": "IPY_MODEL_975e4be627724b9cb905fc9fefb2eb92",
            "value": " 629/629 [00:00&lt;00:00, 20.8kB/s]"
          }
        },
        "f34c75bd6a0f4d23b383102de010986c": {
          "model_module": "@jupyter-widgets/base",
          "model_name": "LayoutModel",
          "model_module_version": "1.2.0",
          "state": {
            "_model_module": "@jupyter-widgets/base",
            "_model_module_version": "1.2.0",
            "_model_name": "LayoutModel",
            "_view_count": null,
            "_view_module": "@jupyter-widgets/base",
            "_view_module_version": "1.2.0",
            "_view_name": "LayoutView",
            "align_content": null,
            "align_items": null,
            "align_self": null,
            "border": null,
            "bottom": null,
            "display": null,
            "flex": null,
            "flex_flow": null,
            "grid_area": null,
            "grid_auto_columns": null,
            "grid_auto_flow": null,
            "grid_auto_rows": null,
            "grid_column": null,
            "grid_gap": null,
            "grid_row": null,
            "grid_template_areas": null,
            "grid_template_columns": null,
            "grid_template_rows": null,
            "height": null,
            "justify_content": null,
            "justify_items": null,
            "left": null,
            "margin": null,
            "max_height": null,
            "max_width": null,
            "min_height": null,
            "min_width": null,
            "object_fit": null,
            "object_position": null,
            "order": null,
            "overflow": null,
            "overflow_x": null,
            "overflow_y": null,
            "padding": null,
            "right": null,
            "top": null,
            "visibility": null,
            "width": null
          }
        },
        "f7be61fb114a434d9e850b6ef099d43c": {
          "model_module": "@jupyter-widgets/base",
          "model_name": "LayoutModel",
          "model_module_version": "1.2.0",
          "state": {
            "_model_module": "@jupyter-widgets/base",
            "_model_module_version": "1.2.0",
            "_model_name": "LayoutModel",
            "_view_count": null,
            "_view_module": "@jupyter-widgets/base",
            "_view_module_version": "1.2.0",
            "_view_name": "LayoutView",
            "align_content": null,
            "align_items": null,
            "align_self": null,
            "border": null,
            "bottom": null,
            "display": null,
            "flex": null,
            "flex_flow": null,
            "grid_area": null,
            "grid_auto_columns": null,
            "grid_auto_flow": null,
            "grid_auto_rows": null,
            "grid_column": null,
            "grid_gap": null,
            "grid_row": null,
            "grid_template_areas": null,
            "grid_template_columns": null,
            "grid_template_rows": null,
            "height": null,
            "justify_content": null,
            "justify_items": null,
            "left": null,
            "margin": null,
            "max_height": null,
            "max_width": null,
            "min_height": null,
            "min_width": null,
            "object_fit": null,
            "object_position": null,
            "order": null,
            "overflow": null,
            "overflow_x": null,
            "overflow_y": null,
            "padding": null,
            "right": null,
            "top": null,
            "visibility": null,
            "width": null
          }
        },
        "790e72f75f92449a8638f530acc991c0": {
          "model_module": "@jupyter-widgets/controls",
          "model_name": "DescriptionStyleModel",
          "model_module_version": "1.5.0",
          "state": {
            "_model_module": "@jupyter-widgets/controls",
            "_model_module_version": "1.5.0",
            "_model_name": "DescriptionStyleModel",
            "_view_count": null,
            "_view_module": "@jupyter-widgets/base",
            "_view_module_version": "1.2.0",
            "_view_name": "StyleView",
            "description_width": ""
          }
        },
        "2f92fac804604dddabf1b0afbf605ba0": {
          "model_module": "@jupyter-widgets/base",
          "model_name": "LayoutModel",
          "model_module_version": "1.2.0",
          "state": {
            "_model_module": "@jupyter-widgets/base",
            "_model_module_version": "1.2.0",
            "_model_name": "LayoutModel",
            "_view_count": null,
            "_view_module": "@jupyter-widgets/base",
            "_view_module_version": "1.2.0",
            "_view_name": "LayoutView",
            "align_content": null,
            "align_items": null,
            "align_self": null,
            "border": null,
            "bottom": null,
            "display": null,
            "flex": null,
            "flex_flow": null,
            "grid_area": null,
            "grid_auto_columns": null,
            "grid_auto_flow": null,
            "grid_auto_rows": null,
            "grid_column": null,
            "grid_gap": null,
            "grid_row": null,
            "grid_template_areas": null,
            "grid_template_columns": null,
            "grid_template_rows": null,
            "height": null,
            "justify_content": null,
            "justify_items": null,
            "left": null,
            "margin": null,
            "max_height": null,
            "max_width": null,
            "min_height": null,
            "min_width": null,
            "object_fit": null,
            "object_position": null,
            "order": null,
            "overflow": null,
            "overflow_x": null,
            "overflow_y": null,
            "padding": null,
            "right": null,
            "top": null,
            "visibility": null,
            "width": null
          }
        },
        "caa88098493b49c39d9355dbf0245d6a": {
          "model_module": "@jupyter-widgets/controls",
          "model_name": "ProgressStyleModel",
          "model_module_version": "1.5.0",
          "state": {
            "_model_module": "@jupyter-widgets/controls",
            "_model_module_version": "1.5.0",
            "_model_name": "ProgressStyleModel",
            "_view_count": null,
            "_view_module": "@jupyter-widgets/base",
            "_view_module_version": "1.2.0",
            "_view_name": "StyleView",
            "bar_color": null,
            "description_width": ""
          }
        },
        "9df77b2077b8496ebef286866a2b2297": {
          "model_module": "@jupyter-widgets/base",
          "model_name": "LayoutModel",
          "model_module_version": "1.2.0",
          "state": {
            "_model_module": "@jupyter-widgets/base",
            "_model_module_version": "1.2.0",
            "_model_name": "LayoutModel",
            "_view_count": null,
            "_view_module": "@jupyter-widgets/base",
            "_view_module_version": "1.2.0",
            "_view_name": "LayoutView",
            "align_content": null,
            "align_items": null,
            "align_self": null,
            "border": null,
            "bottom": null,
            "display": null,
            "flex": null,
            "flex_flow": null,
            "grid_area": null,
            "grid_auto_columns": null,
            "grid_auto_flow": null,
            "grid_auto_rows": null,
            "grid_column": null,
            "grid_gap": null,
            "grid_row": null,
            "grid_template_areas": null,
            "grid_template_columns": null,
            "grid_template_rows": null,
            "height": null,
            "justify_content": null,
            "justify_items": null,
            "left": null,
            "margin": null,
            "max_height": null,
            "max_width": null,
            "min_height": null,
            "min_width": null,
            "object_fit": null,
            "object_position": null,
            "order": null,
            "overflow": null,
            "overflow_x": null,
            "overflow_y": null,
            "padding": null,
            "right": null,
            "top": null,
            "visibility": null,
            "width": null
          }
        },
        "975e4be627724b9cb905fc9fefb2eb92": {
          "model_module": "@jupyter-widgets/controls",
          "model_name": "DescriptionStyleModel",
          "model_module_version": "1.5.0",
          "state": {
            "_model_module": "@jupyter-widgets/controls",
            "_model_module_version": "1.5.0",
            "_model_name": "DescriptionStyleModel",
            "_view_count": null,
            "_view_module": "@jupyter-widgets/base",
            "_view_module_version": "1.2.0",
            "_view_name": "StyleView",
            "description_width": ""
          }
        },
        "979c4e75678d405daeb1dc2413711c5b": {
          "model_module": "@jupyter-widgets/controls",
          "model_name": "HBoxModel",
          "model_module_version": "1.5.0",
          "state": {
            "_dom_classes": [],
            "_model_module": "@jupyter-widgets/controls",
            "_model_module_version": "1.5.0",
            "_model_name": "HBoxModel",
            "_view_count": null,
            "_view_module": "@jupyter-widgets/controls",
            "_view_module_version": "1.5.0",
            "_view_name": "HBoxView",
            "box_style": "",
            "children": [
              "IPY_MODEL_505a8f72ba74488889a23859d383d775",
              "IPY_MODEL_fbdf47006aa747f1a03458db1a0b0bac",
              "IPY_MODEL_45746dfa135646f98a4ad65c2b6464ef"
            ],
            "layout": "IPY_MODEL_eb34394166d8483f98701317603029f2"
          }
        },
        "505a8f72ba74488889a23859d383d775": {
          "model_module": "@jupyter-widgets/controls",
          "model_name": "HTMLModel",
          "model_module_version": "1.5.0",
          "state": {
            "_dom_classes": [],
            "_model_module": "@jupyter-widgets/controls",
            "_model_module_version": "1.5.0",
            "_model_name": "HTMLModel",
            "_view_count": null,
            "_view_module": "@jupyter-widgets/controls",
            "_view_module_version": "1.5.0",
            "_view_name": "HTMLView",
            "description": "",
            "description_tooltip": null,
            "layout": "IPY_MODEL_ff1421a9bd22437e95aa51ac3c303d6e",
            "placeholder": "​",
            "style": "IPY_MODEL_a19c80b74c1d4c97b1e041051c910009",
            "value": "Downloading (…)&quot;pytorch_model.bin&quot;;: 100%"
          }
        },
        "fbdf47006aa747f1a03458db1a0b0bac": {
          "model_module": "@jupyter-widgets/controls",
          "model_name": "FloatProgressModel",
          "model_module_version": "1.5.0",
          "state": {
            "_dom_classes": [],
            "_model_module": "@jupyter-widgets/controls",
            "_model_module_version": "1.5.0",
            "_model_name": "FloatProgressModel",
            "_view_count": null,
            "_view_module": "@jupyter-widgets/controls",
            "_view_module_version": "1.5.0",
            "_view_name": "ProgressView",
            "bar_style": "success",
            "description": "",
            "description_tooltip": null,
            "layout": "IPY_MODEL_44dabdc116a14a40a2420c298a9a60bc",
            "max": 267844284,
            "min": 0,
            "orientation": "horizontal",
            "style": "IPY_MODEL_b42269bb1f3f4cb28bca77c91a2f66bd",
            "value": 267844284
          }
        },
        "45746dfa135646f98a4ad65c2b6464ef": {
          "model_module": "@jupyter-widgets/controls",
          "model_name": "HTMLModel",
          "model_module_version": "1.5.0",
          "state": {
            "_dom_classes": [],
            "_model_module": "@jupyter-widgets/controls",
            "_model_module_version": "1.5.0",
            "_model_name": "HTMLModel",
            "_view_count": null,
            "_view_module": "@jupyter-widgets/controls",
            "_view_module_version": "1.5.0",
            "_view_name": "HTMLView",
            "description": "",
            "description_tooltip": null,
            "layout": "IPY_MODEL_70cb6220f8d14530b674c774a247def6",
            "placeholder": "​",
            "style": "IPY_MODEL_17555ea44e98482a9971745776a0b0b7",
            "value": " 268M/268M [00:03&lt;00:00, 66.7MB/s]"
          }
        },
        "eb34394166d8483f98701317603029f2": {
          "model_module": "@jupyter-widgets/base",
          "model_name": "LayoutModel",
          "model_module_version": "1.2.0",
          "state": {
            "_model_module": "@jupyter-widgets/base",
            "_model_module_version": "1.2.0",
            "_model_name": "LayoutModel",
            "_view_count": null,
            "_view_module": "@jupyter-widgets/base",
            "_view_module_version": "1.2.0",
            "_view_name": "LayoutView",
            "align_content": null,
            "align_items": null,
            "align_self": null,
            "border": null,
            "bottom": null,
            "display": null,
            "flex": null,
            "flex_flow": null,
            "grid_area": null,
            "grid_auto_columns": null,
            "grid_auto_flow": null,
            "grid_auto_rows": null,
            "grid_column": null,
            "grid_gap": null,
            "grid_row": null,
            "grid_template_areas": null,
            "grid_template_columns": null,
            "grid_template_rows": null,
            "height": null,
            "justify_content": null,
            "justify_items": null,
            "left": null,
            "margin": null,
            "max_height": null,
            "max_width": null,
            "min_height": null,
            "min_width": null,
            "object_fit": null,
            "object_position": null,
            "order": null,
            "overflow": null,
            "overflow_x": null,
            "overflow_y": null,
            "padding": null,
            "right": null,
            "top": null,
            "visibility": null,
            "width": null
          }
        },
        "ff1421a9bd22437e95aa51ac3c303d6e": {
          "model_module": "@jupyter-widgets/base",
          "model_name": "LayoutModel",
          "model_module_version": "1.2.0",
          "state": {
            "_model_module": "@jupyter-widgets/base",
            "_model_module_version": "1.2.0",
            "_model_name": "LayoutModel",
            "_view_count": null,
            "_view_module": "@jupyter-widgets/base",
            "_view_module_version": "1.2.0",
            "_view_name": "LayoutView",
            "align_content": null,
            "align_items": null,
            "align_self": null,
            "border": null,
            "bottom": null,
            "display": null,
            "flex": null,
            "flex_flow": null,
            "grid_area": null,
            "grid_auto_columns": null,
            "grid_auto_flow": null,
            "grid_auto_rows": null,
            "grid_column": null,
            "grid_gap": null,
            "grid_row": null,
            "grid_template_areas": null,
            "grid_template_columns": null,
            "grid_template_rows": null,
            "height": null,
            "justify_content": null,
            "justify_items": null,
            "left": null,
            "margin": null,
            "max_height": null,
            "max_width": null,
            "min_height": null,
            "min_width": null,
            "object_fit": null,
            "object_position": null,
            "order": null,
            "overflow": null,
            "overflow_x": null,
            "overflow_y": null,
            "padding": null,
            "right": null,
            "top": null,
            "visibility": null,
            "width": null
          }
        },
        "a19c80b74c1d4c97b1e041051c910009": {
          "model_module": "@jupyter-widgets/controls",
          "model_name": "DescriptionStyleModel",
          "model_module_version": "1.5.0",
          "state": {
            "_model_module": "@jupyter-widgets/controls",
            "_model_module_version": "1.5.0",
            "_model_name": "DescriptionStyleModel",
            "_view_count": null,
            "_view_module": "@jupyter-widgets/base",
            "_view_module_version": "1.2.0",
            "_view_name": "StyleView",
            "description_width": ""
          }
        },
        "44dabdc116a14a40a2420c298a9a60bc": {
          "model_module": "@jupyter-widgets/base",
          "model_name": "LayoutModel",
          "model_module_version": "1.2.0",
          "state": {
            "_model_module": "@jupyter-widgets/base",
            "_model_module_version": "1.2.0",
            "_model_name": "LayoutModel",
            "_view_count": null,
            "_view_module": "@jupyter-widgets/base",
            "_view_module_version": "1.2.0",
            "_view_name": "LayoutView",
            "align_content": null,
            "align_items": null,
            "align_self": null,
            "border": null,
            "bottom": null,
            "display": null,
            "flex": null,
            "flex_flow": null,
            "grid_area": null,
            "grid_auto_columns": null,
            "grid_auto_flow": null,
            "grid_auto_rows": null,
            "grid_column": null,
            "grid_gap": null,
            "grid_row": null,
            "grid_template_areas": null,
            "grid_template_columns": null,
            "grid_template_rows": null,
            "height": null,
            "justify_content": null,
            "justify_items": null,
            "left": null,
            "margin": null,
            "max_height": null,
            "max_width": null,
            "min_height": null,
            "min_width": null,
            "object_fit": null,
            "object_position": null,
            "order": null,
            "overflow": null,
            "overflow_x": null,
            "overflow_y": null,
            "padding": null,
            "right": null,
            "top": null,
            "visibility": null,
            "width": null
          }
        },
        "b42269bb1f3f4cb28bca77c91a2f66bd": {
          "model_module": "@jupyter-widgets/controls",
          "model_name": "ProgressStyleModel",
          "model_module_version": "1.5.0",
          "state": {
            "_model_module": "@jupyter-widgets/controls",
            "_model_module_version": "1.5.0",
            "_model_name": "ProgressStyleModel",
            "_view_count": null,
            "_view_module": "@jupyter-widgets/base",
            "_view_module_version": "1.2.0",
            "_view_name": "StyleView",
            "bar_color": null,
            "description_width": ""
          }
        },
        "70cb6220f8d14530b674c774a247def6": {
          "model_module": "@jupyter-widgets/base",
          "model_name": "LayoutModel",
          "model_module_version": "1.2.0",
          "state": {
            "_model_module": "@jupyter-widgets/base",
            "_model_module_version": "1.2.0",
            "_model_name": "LayoutModel",
            "_view_count": null,
            "_view_module": "@jupyter-widgets/base",
            "_view_module_version": "1.2.0",
            "_view_name": "LayoutView",
            "align_content": null,
            "align_items": null,
            "align_self": null,
            "border": null,
            "bottom": null,
            "display": null,
            "flex": null,
            "flex_flow": null,
            "grid_area": null,
            "grid_auto_columns": null,
            "grid_auto_flow": null,
            "grid_auto_rows": null,
            "grid_column": null,
            "grid_gap": null,
            "grid_row": null,
            "grid_template_areas": null,
            "grid_template_columns": null,
            "grid_template_rows": null,
            "height": null,
            "justify_content": null,
            "justify_items": null,
            "left": null,
            "margin": null,
            "max_height": null,
            "max_width": null,
            "min_height": null,
            "min_width": null,
            "object_fit": null,
            "object_position": null,
            "order": null,
            "overflow": null,
            "overflow_x": null,
            "overflow_y": null,
            "padding": null,
            "right": null,
            "top": null,
            "visibility": null,
            "width": null
          }
        },
        "17555ea44e98482a9971745776a0b0b7": {
          "model_module": "@jupyter-widgets/controls",
          "model_name": "DescriptionStyleModel",
          "model_module_version": "1.5.0",
          "state": {
            "_model_module": "@jupyter-widgets/controls",
            "_model_module_version": "1.5.0",
            "_model_name": "DescriptionStyleModel",
            "_view_count": null,
            "_view_module": "@jupyter-widgets/base",
            "_view_module_version": "1.2.0",
            "_view_name": "StyleView",
            "description_width": ""
          }
        },
        "9198107ea43049868bd759d9c50c6d90": {
          "model_module": "@jupyter-widgets/controls",
          "model_name": "HBoxModel",
          "model_module_version": "1.5.0",
          "state": {
            "_dom_classes": [],
            "_model_module": "@jupyter-widgets/controls",
            "_model_module_version": "1.5.0",
            "_model_name": "HBoxModel",
            "_view_count": null,
            "_view_module": "@jupyter-widgets/controls",
            "_view_module_version": "1.5.0",
            "_view_name": "HBoxView",
            "box_style": "",
            "children": [
              "IPY_MODEL_1b56607fce4e4788b1f51c7692e4c00b",
              "IPY_MODEL_ea5f3765893e4e9788609cbe30c9014e",
              "IPY_MODEL_ece9f7eaef0b40adbcd75b8a733756ac"
            ],
            "layout": "IPY_MODEL_abed80e8652140a697f41adc6e952236"
          }
        },
        "1b56607fce4e4788b1f51c7692e4c00b": {
          "model_module": "@jupyter-widgets/controls",
          "model_name": "HTMLModel",
          "model_module_version": "1.5.0",
          "state": {
            "_dom_classes": [],
            "_model_module": "@jupyter-widgets/controls",
            "_model_module_version": "1.5.0",
            "_model_name": "HTMLModel",
            "_view_count": null,
            "_view_module": "@jupyter-widgets/controls",
            "_view_module_version": "1.5.0",
            "_view_name": "HTMLView",
            "description": "",
            "description_tooltip": null,
            "layout": "IPY_MODEL_c952a82d0b8f4207a18487ca3d60d420",
            "placeholder": "​",
            "style": "IPY_MODEL_c191e97ca40948819a43c58a47593f85",
            "value": "Downloading (…)okenizer_config.json: 100%"
          }
        },
        "ea5f3765893e4e9788609cbe30c9014e": {
          "model_module": "@jupyter-widgets/controls",
          "model_name": "FloatProgressModel",
          "model_module_version": "1.5.0",
          "state": {
            "_dom_classes": [],
            "_model_module": "@jupyter-widgets/controls",
            "_model_module_version": "1.5.0",
            "_model_name": "FloatProgressModel",
            "_view_count": null,
            "_view_module": "@jupyter-widgets/controls",
            "_view_module_version": "1.5.0",
            "_view_name": "ProgressView",
            "bar_style": "success",
            "description": "",
            "description_tooltip": null,
            "layout": "IPY_MODEL_703e9308d9404bf39d3f8759512d7672",
            "max": 48,
            "min": 0,
            "orientation": "horizontal",
            "style": "IPY_MODEL_f869a08b18c5409f8ee41f4e90a44b6b",
            "value": 48
          }
        },
        "ece9f7eaef0b40adbcd75b8a733756ac": {
          "model_module": "@jupyter-widgets/controls",
          "model_name": "HTMLModel",
          "model_module_version": "1.5.0",
          "state": {
            "_dom_classes": [],
            "_model_module": "@jupyter-widgets/controls",
            "_model_module_version": "1.5.0",
            "_model_name": "HTMLModel",
            "_view_count": null,
            "_view_module": "@jupyter-widgets/controls",
            "_view_module_version": "1.5.0",
            "_view_name": "HTMLView",
            "description": "",
            "description_tooltip": null,
            "layout": "IPY_MODEL_fb2a8237cf3b4a1485aba87590431e95",
            "placeholder": "​",
            "style": "IPY_MODEL_52bb8cb4fe8a4f63a5f2966d6515497a",
            "value": " 48.0/48.0 [00:00&lt;00:00, 1.51kB/s]"
          }
        },
        "abed80e8652140a697f41adc6e952236": {
          "model_module": "@jupyter-widgets/base",
          "model_name": "LayoutModel",
          "model_module_version": "1.2.0",
          "state": {
            "_model_module": "@jupyter-widgets/base",
            "_model_module_version": "1.2.0",
            "_model_name": "LayoutModel",
            "_view_count": null,
            "_view_module": "@jupyter-widgets/base",
            "_view_module_version": "1.2.0",
            "_view_name": "LayoutView",
            "align_content": null,
            "align_items": null,
            "align_self": null,
            "border": null,
            "bottom": null,
            "display": null,
            "flex": null,
            "flex_flow": null,
            "grid_area": null,
            "grid_auto_columns": null,
            "grid_auto_flow": null,
            "grid_auto_rows": null,
            "grid_column": null,
            "grid_gap": null,
            "grid_row": null,
            "grid_template_areas": null,
            "grid_template_columns": null,
            "grid_template_rows": null,
            "height": null,
            "justify_content": null,
            "justify_items": null,
            "left": null,
            "margin": null,
            "max_height": null,
            "max_width": null,
            "min_height": null,
            "min_width": null,
            "object_fit": null,
            "object_position": null,
            "order": null,
            "overflow": null,
            "overflow_x": null,
            "overflow_y": null,
            "padding": null,
            "right": null,
            "top": null,
            "visibility": null,
            "width": null
          }
        },
        "c952a82d0b8f4207a18487ca3d60d420": {
          "model_module": "@jupyter-widgets/base",
          "model_name": "LayoutModel",
          "model_module_version": "1.2.0",
          "state": {
            "_model_module": "@jupyter-widgets/base",
            "_model_module_version": "1.2.0",
            "_model_name": "LayoutModel",
            "_view_count": null,
            "_view_module": "@jupyter-widgets/base",
            "_view_module_version": "1.2.0",
            "_view_name": "LayoutView",
            "align_content": null,
            "align_items": null,
            "align_self": null,
            "border": null,
            "bottom": null,
            "display": null,
            "flex": null,
            "flex_flow": null,
            "grid_area": null,
            "grid_auto_columns": null,
            "grid_auto_flow": null,
            "grid_auto_rows": null,
            "grid_column": null,
            "grid_gap": null,
            "grid_row": null,
            "grid_template_areas": null,
            "grid_template_columns": null,
            "grid_template_rows": null,
            "height": null,
            "justify_content": null,
            "justify_items": null,
            "left": null,
            "margin": null,
            "max_height": null,
            "max_width": null,
            "min_height": null,
            "min_width": null,
            "object_fit": null,
            "object_position": null,
            "order": null,
            "overflow": null,
            "overflow_x": null,
            "overflow_y": null,
            "padding": null,
            "right": null,
            "top": null,
            "visibility": null,
            "width": null
          }
        },
        "c191e97ca40948819a43c58a47593f85": {
          "model_module": "@jupyter-widgets/controls",
          "model_name": "DescriptionStyleModel",
          "model_module_version": "1.5.0",
          "state": {
            "_model_module": "@jupyter-widgets/controls",
            "_model_module_version": "1.5.0",
            "_model_name": "DescriptionStyleModel",
            "_view_count": null,
            "_view_module": "@jupyter-widgets/base",
            "_view_module_version": "1.2.0",
            "_view_name": "StyleView",
            "description_width": ""
          }
        },
        "703e9308d9404bf39d3f8759512d7672": {
          "model_module": "@jupyter-widgets/base",
          "model_name": "LayoutModel",
          "model_module_version": "1.2.0",
          "state": {
            "_model_module": "@jupyter-widgets/base",
            "_model_module_version": "1.2.0",
            "_model_name": "LayoutModel",
            "_view_count": null,
            "_view_module": "@jupyter-widgets/base",
            "_view_module_version": "1.2.0",
            "_view_name": "LayoutView",
            "align_content": null,
            "align_items": null,
            "align_self": null,
            "border": null,
            "bottom": null,
            "display": null,
            "flex": null,
            "flex_flow": null,
            "grid_area": null,
            "grid_auto_columns": null,
            "grid_auto_flow": null,
            "grid_auto_rows": null,
            "grid_column": null,
            "grid_gap": null,
            "grid_row": null,
            "grid_template_areas": null,
            "grid_template_columns": null,
            "grid_template_rows": null,
            "height": null,
            "justify_content": null,
            "justify_items": null,
            "left": null,
            "margin": null,
            "max_height": null,
            "max_width": null,
            "min_height": null,
            "min_width": null,
            "object_fit": null,
            "object_position": null,
            "order": null,
            "overflow": null,
            "overflow_x": null,
            "overflow_y": null,
            "padding": null,
            "right": null,
            "top": null,
            "visibility": null,
            "width": null
          }
        },
        "f869a08b18c5409f8ee41f4e90a44b6b": {
          "model_module": "@jupyter-widgets/controls",
          "model_name": "ProgressStyleModel",
          "model_module_version": "1.5.0",
          "state": {
            "_model_module": "@jupyter-widgets/controls",
            "_model_module_version": "1.5.0",
            "_model_name": "ProgressStyleModel",
            "_view_count": null,
            "_view_module": "@jupyter-widgets/base",
            "_view_module_version": "1.2.0",
            "_view_name": "StyleView",
            "bar_color": null,
            "description_width": ""
          }
        },
        "fb2a8237cf3b4a1485aba87590431e95": {
          "model_module": "@jupyter-widgets/base",
          "model_name": "LayoutModel",
          "model_module_version": "1.2.0",
          "state": {
            "_model_module": "@jupyter-widgets/base",
            "_model_module_version": "1.2.0",
            "_model_name": "LayoutModel",
            "_view_count": null,
            "_view_module": "@jupyter-widgets/base",
            "_view_module_version": "1.2.0",
            "_view_name": "LayoutView",
            "align_content": null,
            "align_items": null,
            "align_self": null,
            "border": null,
            "bottom": null,
            "display": null,
            "flex": null,
            "flex_flow": null,
            "grid_area": null,
            "grid_auto_columns": null,
            "grid_auto_flow": null,
            "grid_auto_rows": null,
            "grid_column": null,
            "grid_gap": null,
            "grid_row": null,
            "grid_template_areas": null,
            "grid_template_columns": null,
            "grid_template_rows": null,
            "height": null,
            "justify_content": null,
            "justify_items": null,
            "left": null,
            "margin": null,
            "max_height": null,
            "max_width": null,
            "min_height": null,
            "min_width": null,
            "object_fit": null,
            "object_position": null,
            "order": null,
            "overflow": null,
            "overflow_x": null,
            "overflow_y": null,
            "padding": null,
            "right": null,
            "top": null,
            "visibility": null,
            "width": null
          }
        },
        "52bb8cb4fe8a4f63a5f2966d6515497a": {
          "model_module": "@jupyter-widgets/controls",
          "model_name": "DescriptionStyleModel",
          "model_module_version": "1.5.0",
          "state": {
            "_model_module": "@jupyter-widgets/controls",
            "_model_module_version": "1.5.0",
            "_model_name": "DescriptionStyleModel",
            "_view_count": null,
            "_view_module": "@jupyter-widgets/base",
            "_view_module_version": "1.2.0",
            "_view_name": "StyleView",
            "description_width": ""
          }
        },
        "0aa3c249a0e14f8388ceaef22ea62f54": {
          "model_module": "@jupyter-widgets/controls",
          "model_name": "HBoxModel",
          "model_module_version": "1.5.0",
          "state": {
            "_dom_classes": [],
            "_model_module": "@jupyter-widgets/controls",
            "_model_module_version": "1.5.0",
            "_model_name": "HBoxModel",
            "_view_count": null,
            "_view_module": "@jupyter-widgets/controls",
            "_view_module_version": "1.5.0",
            "_view_name": "HBoxView",
            "box_style": "",
            "children": [
              "IPY_MODEL_8606d8c47df74e27a7e30e6690d97813",
              "IPY_MODEL_bc9f2eaec8a0457397bd03d38f2f06e1",
              "IPY_MODEL_3e8206db7ef347e68be104d3dcfe1368"
            ],
            "layout": "IPY_MODEL_f979b09d741242e79f401a1685781998"
          }
        },
        "8606d8c47df74e27a7e30e6690d97813": {
          "model_module": "@jupyter-widgets/controls",
          "model_name": "HTMLModel",
          "model_module_version": "1.5.0",
          "state": {
            "_dom_classes": [],
            "_model_module": "@jupyter-widgets/controls",
            "_model_module_version": "1.5.0",
            "_model_name": "HTMLModel",
            "_view_count": null,
            "_view_module": "@jupyter-widgets/controls",
            "_view_module_version": "1.5.0",
            "_view_name": "HTMLView",
            "description": "",
            "description_tooltip": null,
            "layout": "IPY_MODEL_2430bbcd035c468c925ca306a1b24a3a",
            "placeholder": "​",
            "style": "IPY_MODEL_0edcee3361514681a5203f784a390ac8",
            "value": "Downloading (…)solve/main/vocab.txt: 100%"
          }
        },
        "bc9f2eaec8a0457397bd03d38f2f06e1": {
          "model_module": "@jupyter-widgets/controls",
          "model_name": "FloatProgressModel",
          "model_module_version": "1.5.0",
          "state": {
            "_dom_classes": [],
            "_model_module": "@jupyter-widgets/controls",
            "_model_module_version": "1.5.0",
            "_model_name": "FloatProgressModel",
            "_view_count": null,
            "_view_module": "@jupyter-widgets/controls",
            "_view_module_version": "1.5.0",
            "_view_name": "ProgressView",
            "bar_style": "success",
            "description": "",
            "description_tooltip": null,
            "layout": "IPY_MODEL_24dcd46ada814a31b40f635dac5e2cb9",
            "max": 231508,
            "min": 0,
            "orientation": "horizontal",
            "style": "IPY_MODEL_155ccd5ef8ed47f7b5652338fdee35a6",
            "value": 231508
          }
        },
        "3e8206db7ef347e68be104d3dcfe1368": {
          "model_module": "@jupyter-widgets/controls",
          "model_name": "HTMLModel",
          "model_module_version": "1.5.0",
          "state": {
            "_dom_classes": [],
            "_model_module": "@jupyter-widgets/controls",
            "_model_module_version": "1.5.0",
            "_model_name": "HTMLModel",
            "_view_count": null,
            "_view_module": "@jupyter-widgets/controls",
            "_view_module_version": "1.5.0",
            "_view_name": "HTMLView",
            "description": "",
            "description_tooltip": null,
            "layout": "IPY_MODEL_414ba1f20b434dd4a437fa81a45500e1",
            "placeholder": "​",
            "style": "IPY_MODEL_33a90f8471da42d99b5acdbd59cef6cb",
            "value": " 232k/232k [00:00&lt;00:00, 2.73MB/s]"
          }
        },
        "f979b09d741242e79f401a1685781998": {
          "model_module": "@jupyter-widgets/base",
          "model_name": "LayoutModel",
          "model_module_version": "1.2.0",
          "state": {
            "_model_module": "@jupyter-widgets/base",
            "_model_module_version": "1.2.0",
            "_model_name": "LayoutModel",
            "_view_count": null,
            "_view_module": "@jupyter-widgets/base",
            "_view_module_version": "1.2.0",
            "_view_name": "LayoutView",
            "align_content": null,
            "align_items": null,
            "align_self": null,
            "border": null,
            "bottom": null,
            "display": null,
            "flex": null,
            "flex_flow": null,
            "grid_area": null,
            "grid_auto_columns": null,
            "grid_auto_flow": null,
            "grid_auto_rows": null,
            "grid_column": null,
            "grid_gap": null,
            "grid_row": null,
            "grid_template_areas": null,
            "grid_template_columns": null,
            "grid_template_rows": null,
            "height": null,
            "justify_content": null,
            "justify_items": null,
            "left": null,
            "margin": null,
            "max_height": null,
            "max_width": null,
            "min_height": null,
            "min_width": null,
            "object_fit": null,
            "object_position": null,
            "order": null,
            "overflow": null,
            "overflow_x": null,
            "overflow_y": null,
            "padding": null,
            "right": null,
            "top": null,
            "visibility": null,
            "width": null
          }
        },
        "2430bbcd035c468c925ca306a1b24a3a": {
          "model_module": "@jupyter-widgets/base",
          "model_name": "LayoutModel",
          "model_module_version": "1.2.0",
          "state": {
            "_model_module": "@jupyter-widgets/base",
            "_model_module_version": "1.2.0",
            "_model_name": "LayoutModel",
            "_view_count": null,
            "_view_module": "@jupyter-widgets/base",
            "_view_module_version": "1.2.0",
            "_view_name": "LayoutView",
            "align_content": null,
            "align_items": null,
            "align_self": null,
            "border": null,
            "bottom": null,
            "display": null,
            "flex": null,
            "flex_flow": null,
            "grid_area": null,
            "grid_auto_columns": null,
            "grid_auto_flow": null,
            "grid_auto_rows": null,
            "grid_column": null,
            "grid_gap": null,
            "grid_row": null,
            "grid_template_areas": null,
            "grid_template_columns": null,
            "grid_template_rows": null,
            "height": null,
            "justify_content": null,
            "justify_items": null,
            "left": null,
            "margin": null,
            "max_height": null,
            "max_width": null,
            "min_height": null,
            "min_width": null,
            "object_fit": null,
            "object_position": null,
            "order": null,
            "overflow": null,
            "overflow_x": null,
            "overflow_y": null,
            "padding": null,
            "right": null,
            "top": null,
            "visibility": null,
            "width": null
          }
        },
        "0edcee3361514681a5203f784a390ac8": {
          "model_module": "@jupyter-widgets/controls",
          "model_name": "DescriptionStyleModel",
          "model_module_version": "1.5.0",
          "state": {
            "_model_module": "@jupyter-widgets/controls",
            "_model_module_version": "1.5.0",
            "_model_name": "DescriptionStyleModel",
            "_view_count": null,
            "_view_module": "@jupyter-widgets/base",
            "_view_module_version": "1.2.0",
            "_view_name": "StyleView",
            "description_width": ""
          }
        },
        "24dcd46ada814a31b40f635dac5e2cb9": {
          "model_module": "@jupyter-widgets/base",
          "model_name": "LayoutModel",
          "model_module_version": "1.2.0",
          "state": {
            "_model_module": "@jupyter-widgets/base",
            "_model_module_version": "1.2.0",
            "_model_name": "LayoutModel",
            "_view_count": null,
            "_view_module": "@jupyter-widgets/base",
            "_view_module_version": "1.2.0",
            "_view_name": "LayoutView",
            "align_content": null,
            "align_items": null,
            "align_self": null,
            "border": null,
            "bottom": null,
            "display": null,
            "flex": null,
            "flex_flow": null,
            "grid_area": null,
            "grid_auto_columns": null,
            "grid_auto_flow": null,
            "grid_auto_rows": null,
            "grid_column": null,
            "grid_gap": null,
            "grid_row": null,
            "grid_template_areas": null,
            "grid_template_columns": null,
            "grid_template_rows": null,
            "height": null,
            "justify_content": null,
            "justify_items": null,
            "left": null,
            "margin": null,
            "max_height": null,
            "max_width": null,
            "min_height": null,
            "min_width": null,
            "object_fit": null,
            "object_position": null,
            "order": null,
            "overflow": null,
            "overflow_x": null,
            "overflow_y": null,
            "padding": null,
            "right": null,
            "top": null,
            "visibility": null,
            "width": null
          }
        },
        "155ccd5ef8ed47f7b5652338fdee35a6": {
          "model_module": "@jupyter-widgets/controls",
          "model_name": "ProgressStyleModel",
          "model_module_version": "1.5.0",
          "state": {
            "_model_module": "@jupyter-widgets/controls",
            "_model_module_version": "1.5.0",
            "_model_name": "ProgressStyleModel",
            "_view_count": null,
            "_view_module": "@jupyter-widgets/base",
            "_view_module_version": "1.2.0",
            "_view_name": "StyleView",
            "bar_color": null,
            "description_width": ""
          }
        },
        "414ba1f20b434dd4a437fa81a45500e1": {
          "model_module": "@jupyter-widgets/base",
          "model_name": "LayoutModel",
          "model_module_version": "1.2.0",
          "state": {
            "_model_module": "@jupyter-widgets/base",
            "_model_module_version": "1.2.0",
            "_model_name": "LayoutModel",
            "_view_count": null,
            "_view_module": "@jupyter-widgets/base",
            "_view_module_version": "1.2.0",
            "_view_name": "LayoutView",
            "align_content": null,
            "align_items": null,
            "align_self": null,
            "border": null,
            "bottom": null,
            "display": null,
            "flex": null,
            "flex_flow": null,
            "grid_area": null,
            "grid_auto_columns": null,
            "grid_auto_flow": null,
            "grid_auto_rows": null,
            "grid_column": null,
            "grid_gap": null,
            "grid_row": null,
            "grid_template_areas": null,
            "grid_template_columns": null,
            "grid_template_rows": null,
            "height": null,
            "justify_content": null,
            "justify_items": null,
            "left": null,
            "margin": null,
            "max_height": null,
            "max_width": null,
            "min_height": null,
            "min_width": null,
            "object_fit": null,
            "object_position": null,
            "order": null,
            "overflow": null,
            "overflow_x": null,
            "overflow_y": null,
            "padding": null,
            "right": null,
            "top": null,
            "visibility": null,
            "width": null
          }
        },
        "33a90f8471da42d99b5acdbd59cef6cb": {
          "model_module": "@jupyter-widgets/controls",
          "model_name": "DescriptionStyleModel",
          "model_module_version": "1.5.0",
          "state": {
            "_model_module": "@jupyter-widgets/controls",
            "_model_module_version": "1.5.0",
            "_model_name": "DescriptionStyleModel",
            "_view_count": null,
            "_view_module": "@jupyter-widgets/base",
            "_view_module_version": "1.2.0",
            "_view_name": "StyleView",
            "description_width": ""
          }
        }
      }
    }
  },
  "cells": [
    {
      "cell_type": "markdown",
      "metadata": {
        "id": "view-in-github",
        "colab_type": "text"
      },
      "source": [
        "<a href=\"https://colab.research.google.com/github/NanditaaRamakrishnan/CryptoStockNews-SummarizationSentiment/blob/main/StockCryptoNews_SummarizationSentiment1.ipynb\" target=\"_parent\"><img src=\"https://colab.research.google.com/assets/colab-badge.svg\" alt=\"Open In Colab\"/></a>"
      ]
    },
    {
      "cell_type": "markdown",
      "source": [
        "Install and Import Dependancies "
      ],
      "metadata": {
        "id": "M6JRzke52iT9"
      }
    },
    {
      "cell_type": "code",
      "execution_count": null,
      "metadata": {
        "colab": {
          "base_uri": "https://localhost:8080/"
        },
        "id": "Z4JCFDbu2OG5",
        "outputId": "305b9be4-26fc-478b-be5d-5eddd043164e"
      },
      "outputs": [
        {
          "output_type": "stream",
          "name": "stdout",
          "text": [
            "Looking in indexes: https://pypi.org/simple, https://us-python.pkg.dev/colab-wheels/public/simple/\n",
            "Collecting transformers\n",
            "  Downloading transformers-4.26.0-py3-none-any.whl (6.3 MB)\n",
            "\u001b[2K     \u001b[90m━━━━━━━━━━━━━━━━━━━━━━━━━━━━━━━━━━━━━━━━\u001b[0m \u001b[32m6.3/6.3 MB\u001b[0m \u001b[31m34.4 MB/s\u001b[0m eta \u001b[36m0:00:00\u001b[0m\n",
            "\u001b[?25hCollecting tokenizers!=0.11.3,<0.14,>=0.11.1\n",
            "  Downloading tokenizers-0.13.2-cp38-cp38-manylinux_2_17_x86_64.manylinux2014_x86_64.whl (7.6 MB)\n",
            "\u001b[2K     \u001b[90m━━━━━━━━━━━━━━━━━━━━━━━━━━━━━━━━━━━━━━━━\u001b[0m \u001b[32m7.6/7.6 MB\u001b[0m \u001b[31m86.1 MB/s\u001b[0m eta \u001b[36m0:00:00\u001b[0m\n",
            "\u001b[?25hRequirement already satisfied: numpy>=1.17 in /usr/local/lib/python3.8/dist-packages (from transformers) (1.21.6)\n",
            "Requirement already satisfied: pyyaml>=5.1 in /usr/local/lib/python3.8/dist-packages (from transformers) (6.0)\n",
            "Requirement already satisfied: requests in /usr/local/lib/python3.8/dist-packages (from transformers) (2.25.1)\n",
            "Requirement already satisfied: regex!=2019.12.17 in /usr/local/lib/python3.8/dist-packages (from transformers) (2022.6.2)\n",
            "Requirement already satisfied: filelock in /usr/local/lib/python3.8/dist-packages (from transformers) (3.9.0)\n",
            "Requirement already satisfied: tqdm>=4.27 in /usr/local/lib/python3.8/dist-packages (from transformers) (4.64.1)\n",
            "Requirement already satisfied: packaging>=20.0 in /usr/local/lib/python3.8/dist-packages (from transformers) (23.0)\n",
            "Collecting huggingface-hub<1.0,>=0.11.0\n",
            "  Downloading huggingface_hub-0.12.0-py3-none-any.whl (190 kB)\n",
            "\u001b[2K     \u001b[90m━━━━━━━━━━━━━━━━━━━━━━━━━━━━━━━━━━━━━━\u001b[0m \u001b[32m190.3/190.3 KB\u001b[0m \u001b[31m20.9 MB/s\u001b[0m eta \u001b[36m0:00:00\u001b[0m\n",
            "\u001b[?25hRequirement already satisfied: typing-extensions>=3.7.4.3 in /usr/local/lib/python3.8/dist-packages (from huggingface-hub<1.0,>=0.11.0->transformers) (4.4.0)\n",
            "Requirement already satisfied: urllib3<1.27,>=1.21.1 in /usr/local/lib/python3.8/dist-packages (from requests->transformers) (1.24.3)\n",
            "Requirement already satisfied: chardet<5,>=3.0.2 in /usr/local/lib/python3.8/dist-packages (from requests->transformers) (4.0.0)\n",
            "Requirement already satisfied: certifi>=2017.4.17 in /usr/local/lib/python3.8/dist-packages (from requests->transformers) (2022.12.7)\n",
            "Requirement already satisfied: idna<3,>=2.5 in /usr/local/lib/python3.8/dist-packages (from requests->transformers) (2.10)\n",
            "Installing collected packages: tokenizers, huggingface-hub, transformers\n",
            "Successfully installed huggingface-hub-0.12.0 tokenizers-0.13.2 transformers-4.26.0\n"
          ]
        }
      ],
      "source": [
        "!pip install transformers"
      ]
    },
    {
      "cell_type": "code",
      "source": [
        " !pip install sentencepiece"
      ],
      "metadata": {
        "colab": {
          "base_uri": "https://localhost:8080/"
        },
        "id": "94nL9YLj2PDZ",
        "outputId": "929bcd35-6ca2-4ed0-aa3a-9bd317d54610"
      },
      "execution_count": null,
      "outputs": [
        {
          "output_type": "stream",
          "name": "stdout",
          "text": [
            "Looking in indexes: https://pypi.org/simple, https://us-python.pkg.dev/colab-wheels/public/simple/\n",
            "Collecting sentencepiece\n",
            "  Downloading sentencepiece-0.1.97-cp38-cp38-manylinux_2_17_x86_64.manylinux2014_x86_64.whl (1.3 MB)\n",
            "\u001b[2K     \u001b[90m━━━━━━━━━━━━━━━━━━━━━━━━━━━━━━━━━━━━━━━━\u001b[0m \u001b[32m1.3/1.3 MB\u001b[0m \u001b[31m18.5 MB/s\u001b[0m eta \u001b[36m0:00:00\u001b[0m\n",
            "\u001b[?25hInstalling collected packages: sentencepiece\n",
            "Successfully installed sentencepiece-0.1.97\n"
          ]
        }
      ]
    },
    {
      "cell_type": "code",
      "source": [
        "from transformers import PegasusTokenizer, PegasusForConditionalGeneration\n",
        "from bs4 import BeautifulSoup\n",
        "import requests"
      ],
      "metadata": {
        "id": "Wqeb_dse2VbA"
      },
      "execution_count": null,
      "outputs": []
    },
    {
      "cell_type": "markdown",
      "source": [
        "Set Up Summarization Model"
      ],
      "metadata": {
        "id": "f69tFp_L2aBf"
      }
    },
    {
      "cell_type": "code",
      "source": [
        "model_name = \"human-centered-summarization/financial-summarization-pegasus\"\n",
        "tokenizer = PegasusTokenizer.from_pretrained(model_name)\n",
        "model = PegasusForConditionalGeneration.from_pretrained(model_name)"
      ],
      "metadata": {
        "colab": {
          "base_uri": "https://localhost:8080/",
          "height": 177,
          "referenced_widgets": [
            "80218da235194747beaea7d931bc1de9",
            "7249940a7c1e4937addf600dcfa6b397",
            "3a1e76ff05834c47a9b8f8a2f3de0e27",
            "53c87d266dcf49f19e20dad1938a4cbd",
            "378e3a33df5b41248d1a2aa80c91849a",
            "b1604aef74f541bda827cb3a400ae35b",
            "2aca3ae825a3472187a8f19f5d605ffb",
            "86999cdff98f46bc994f15226b379a45",
            "a143029e7f944ed58d1765bff83c2373",
            "0b9df5e4465f4714b14c82774c75382e",
            "a738826f4ef24a51bbbf69b8df3e9ba4",
            "be35861154f3426f82787472fe2e528d",
            "114770b49a6f4f6eb3c4c5aabd61e9b4",
            "bc222ecf2a1f4004b9d6f19cf1291b2d",
            "23e9a7ee456a4ff183ae1c9c0c88b462",
            "2129518e4f814ade8e40caa0cb3fbe1b",
            "483221572558487ead194a2c06008c89",
            "235466760b174516880e874ab3e6527e",
            "f61bf771986049e9b537c713b046f57a",
            "28dc5a00fe9c4ef2b99279f0682d7921",
            "7b763d35508447ba8e24ee4789365c1e",
            "01e5a70a1f1e41559b60970cb1037d5a",
            "cd413fefbd87454fa47788580b7349cb",
            "bc0ad316138f48b9b6e32ac05979ae82",
            "ca57f3ab3df248708872a2e32ce4c9ae",
            "af218ec326f8453295b64b64b6f7db2f",
            "266e1444b340419fab2d844c1762f04b",
            "2f00d712bd854e1ba01b4f23e14ea962",
            "c206fb26f7f4463a9785ce67850d7c35",
            "26f56f2824fb44128977ac9ef53d0bfc",
            "2006c6dbe1d9447fbf4bf66c6020cefa",
            "16cf1ef897ca49ad81b8a294d9165108",
            "6984801bf0a349f4ac12e45383faeb07",
            "c498dd0711e446c0aade121f51d8362c",
            "784940fa9cdd47419b1c0a70f764c499",
            "b3f34d5a37c447ef9ebf8d125919b2a0",
            "21af79dba8bb4771acff30f0f99585f5",
            "5e0c33fced8942d0a61b34dc4f1f97a5",
            "baa086ad2d3a47c5b1f616f0fbf9862c",
            "5930c5e54e344b1e82753639ac6f4242",
            "9a979f6ae6324f9a929aa65f5b72f8ba",
            "285e1f0567504438bc8fb450a12d2819",
            "9947ee985ea4492da481ae9bc64598aa",
            "3ac10cd5e72d435bb18aeb6b00d60035",
            "4b89194d9abc4db995e14d5946054cad",
            "67519a4012d743708a24f7890876fa4d",
            "aa4f540a526e4aba990bcec729755eb8",
            "0be13025518a48c7b7e3a2fde9add28a",
            "e5fa83156b2348c28906afa570a272ce",
            "d4793d609fd34855906604dc339b1851",
            "14c537e1831b40acbdcc36bb8295ed2f",
            "6ee4efdd246f4bfb988b2764bcfb6ee4",
            "d6f3369bf51e4687a86b185fe7bb594a",
            "d034ad89629343998f4307ecdac12e06",
            "e2205b4817db4777b19c0ca6bc7d5817"
          ]
        },
        "id": "bzV3k2iz2Zd8",
        "outputId": "7e876d2c-e964-40bd-d15b-02f4582a85d0"
      },
      "execution_count": null,
      "outputs": [
        {
          "output_type": "display_data",
          "data": {
            "text/plain": [
              "Downloading (…)\"spiece.model\";:   0%|          | 0.00/1.91M [00:00<?, ?B/s]"
            ],
            "application/vnd.jupyter.widget-view+json": {
              "version_major": 2,
              "version_minor": 0,
              "model_id": "80218da235194747beaea7d931bc1de9"
            }
          },
          "metadata": {}
        },
        {
          "output_type": "display_data",
          "data": {
            "text/plain": [
              "Downloading (…)cial_tokens_map.json:   0%|          | 0.00/1.34k [00:00<?, ?B/s]"
            ],
            "application/vnd.jupyter.widget-view+json": {
              "version_major": 2,
              "version_minor": 0,
              "model_id": "be35861154f3426f82787472fe2e528d"
            }
          },
          "metadata": {}
        },
        {
          "output_type": "display_data",
          "data": {
            "text/plain": [
              "Downloading (…)okenizer_config.json:   0%|          | 0.00/1.44k [00:00<?, ?B/s]"
            ],
            "application/vnd.jupyter.widget-view+json": {
              "version_major": 2,
              "version_minor": 0,
              "model_id": "cd413fefbd87454fa47788580b7349cb"
            }
          },
          "metadata": {}
        },
        {
          "output_type": "display_data",
          "data": {
            "text/plain": [
              "Downloading (…)lve/main/config.json:   0%|          | 0.00/1.27k [00:00<?, ?B/s]"
            ],
            "application/vnd.jupyter.widget-view+json": {
              "version_major": 2,
              "version_minor": 0,
              "model_id": "c498dd0711e446c0aade121f51d8362c"
            }
          },
          "metadata": {}
        },
        {
          "output_type": "display_data",
          "data": {
            "text/plain": [
              "Downloading (…)\"pytorch_model.bin\";:   0%|          | 0.00/2.28G [00:00<?, ?B/s]"
            ],
            "application/vnd.jupyter.widget-view+json": {
              "version_major": 2,
              "version_minor": 0,
              "model_id": "4b89194d9abc4db995e14d5946054cad"
            }
          },
          "metadata": {}
        }
      ]
    },
    {
      "cell_type": "markdown",
      "source": [
        "Summarize a Single Article "
      ],
      "metadata": {
        "id": "OcP2lQVG3kY2"
      }
    },
    {
      "cell_type": "code",
      "source": [
        "url = \"https://economictimes.indiatimes.com/markets/expert-view/better-fund-utilization-helped-to-expand-our-nims-umesh-revankar/articleshow/97547538.cms\"\n",
        "r = requests.get(url)\n",
        "soup = BeautifulSoup(r.text, 'html.parser')\n",
        "paragraphs = soup.find_all('p')"
      ],
      "metadata": {
        "id": "ycZT40Z026Hk"
      },
      "execution_count": null,
      "outputs": []
    },
    {
      "cell_type": "code",
      "source": [
        "paragraphs[0].text"
      ],
      "metadata": {
        "colab": {
          "base_uri": "https://localhost:8080/",
          "height": 35
        },
        "id": "n2E0_0zO3tY7",
        "outputId": "ff8cba27-54af-487f-86a4-daa64124f46e"
      },
      "execution_count": null,
      "outputs": [
        {
          "output_type": "execute_result",
          "data": {
            "text/plain": [
              "'Don’t miss out on ET Prime stories! Get your daily dose of business updates on WhatsApp. click here!'"
            ],
            "application/vnd.google.colaboratory.intrinsic+json": {
              "type": "string"
            }
          },
          "metadata": {},
          "execution_count": 8
        }
      ]
    },
    {
      "cell_type": "code",
      "source": [
        "text = [paragraph.text for paragraph in paragraphs]\n",
        "words = ' '.join(text).split(' ')[:400]\n",
        "ARTICLE = ' '.join(words)"
      ],
      "metadata": {
        "id": "OYZDXCNN3x1-"
      },
      "execution_count": null,
      "outputs": []
    },
    {
      "cell_type": "code",
      "source": [
        "ARTICLE\n"
      ],
      "metadata": {
        "colab": {
          "base_uri": "https://localhost:8080/",
          "height": 139
        },
        "id": "qOTGGLa44RXb",
        "outputId": "3830279e-7f48-4037-de2b-b01fc231ac29"
      },
      "execution_count": null,
      "outputs": [
        {
          "output_type": "execute_result",
          "data": {
            "text/plain": [
              "'Don’t miss out on ET Prime stories! Get your daily dose of business updates on WhatsApp. click here! The fall in most Adani Group stocks continued on Thursday, wiping out a further ₹1.34 lakh crore off their market capitalisation, totaling ₹8.79 lakh crore or $110 billion of erosion in six trading sessions. Tata Sons has been exploring the possibility of being exempted from a Reserve Bank of India (RBI) notification, issued in October 2021, that included it among the top 10 non-banking financial companies (NBFCs) in terms of asset size, said people with knowledge of the matter. Tata Sons is the holding company of the Tata Group companies.  India’s public sector financial institutions are in a very strong position and their exposure to one private company would not create difficulty for them, finance secretary TV Somanathan told ET in response to a question on developments at the Adani Group. Download The Economic Times News App to get Daily Market Updates & Live Business News. 11 Advance1 Decline 22 Advance28 Decline 4 Advance6 Decline 38 Advance12 Decline 26 Advance4 Decline NSE BSE All Mutual Funds Top Tax Saving Mutual Funds Better Than Fixed Deposits Low Cost High Return Funds Best Hybrid Funds Best Large Cap Funds SIP’s starting Rs. 500 Top Performing Mid Caps Promising Multi Cap Funds Top Rated Funds Top Performing Index Funds Why follow tips? Choose your winners rationally in 3 simple steps! Trending Now Popular Categories Hot on Web In Case you missed it Top Calculators Top Searched Companies Top Definitions Most Searched IFSC Codes Top Prime Articles Top Story Listing Top Slideshow Top Trending Topics Top Videos Private Companies Popular Articles Most Searched Articles Follow us on: Find this comment offensive? Choose your reason below and click on the Report button. This will alert our moderators to take action Reason for reporting: Your Reason has been Reported to the admin. Log In/Connect with: Will be displayed Will not be displayed Will be displayed Worry not. You’re just a step away. Login to read the full story. Unlock your 30 days free access to ETPrime now. Login to Unlock *No card details required  To read full story, subscribe to ET Prime ₹34 per week \\n                    Billed annually at \\n       '"
            ],
            "application/vnd.google.colaboratory.intrinsic+json": {
              "type": "string"
            }
          },
          "metadata": {},
          "execution_count": 10
        }
      ]
    },
    {
      "cell_type": "code",
      "source": [
        "input_ids = tokenizer.encode(ARTICLE, return_tensors='pt')\n",
        "output = model.generate(input_ids, max_length=55, num_beams=5, early_stopping=True)\n",
        "summary = tokenizer.decode(output[0], skip_special_tokens=True)"
      ],
      "metadata": {
        "id": "sx0YyIyI4a2M"
      },
      "execution_count": null,
      "outputs": []
    },
    {
      "cell_type": "code",
      "source": [
        "summary"
      ],
      "metadata": {
        "colab": {
          "base_uri": "https://localhost:8080/",
          "height": 52
        },
        "id": "NLGdStid5lpE",
        "outputId": "3033a50e-d9d5-469b-d470-e5a7fbcd133c"
      },
      "execution_count": null,
      "outputs": [
        {
          "output_type": "execute_result",
          "data": {
            "text/plain": [
              "'Tata Sons exploring possibility of being exempted from RBI notification. Public sector financial institutions in strong position, finance secretary says'"
            ],
            "application/vnd.google.colaboratory.intrinsic+json": {
              "type": "string"
            }
          },
          "metadata": {},
          "execution_count": 12
        }
      ]
    },
    {
      "cell_type": "markdown",
      "source": [
        "News and Sentiment Pipeline "
      ],
      "metadata": {
        "id": "YTotzUoT5wSc"
      }
    },
    {
      "cell_type": "code",
      "source": [
        "monitored_tickers = ['GME', 'TSLA', 'BTC']"
      ],
      "metadata": {
        "id": "7QHxj_z552nM"
      },
      "execution_count": null,
      "outputs": []
    },
    {
      "cell_type": "code",
      "source": [
        "#Serach for stock news using Google and Yahoo Finance\n",
        "def search_for_stock_news_urls(ticker):\n",
        "    search_url = \"https://www.google.com/search?q=yahoo+finance+{}&tbm=nws\".format(ticker)\n",
        "    r = requests.get(search_url)\n",
        "    soup = BeautifulSoup(r.text, 'html.parser')\n",
        "    atags = soup.find_all('a')\n",
        "    hrefs = [link['href'] for link in atags]\n",
        "    return hrefs "
      ],
      "metadata": {
        "id": "MGVnznXv7XkD"
      },
      "execution_count": null,
      "outputs": []
    },
    {
      "cell_type": "code",
      "source": [
        "raw_urls = {ticker:search_for_stock_news_urls(ticker) for ticker in monitored_tickers}\n",
        "raw_urls"
      ],
      "metadata": {
        "colab": {
          "base_uri": "https://localhost:8080/"
        },
        "id": "Wh3ivh-jAUva",
        "outputId": "8a3deb8e-629f-4999-acbc-ca04153f05c3"
      },
      "execution_count": null,
      "outputs": [
        {
          "output_type": "execute_result",
          "data": {
            "text/plain": [
              "{'GME': ['/?sa=X&ved=0ahUKEwiqrKmZmPn8AhUARzABHWISBdIQOwgC',\n",
              "  '/search?q=yahoo+finance+GME&tbm=nws&ie=UTF-8&gbv=1&sei=AujcY6qjB4COwbkP4qSUkA0',\n",
              "  '/search?q=yahoo+finance+GME&ie=UTF-8&source=lnms&sa=X&ved=0ahUKEwiqrKmZmPn8AhUARzABHWISBdIQ_AUIBSgA',\n",
              "  '/search?q=yahoo+finance+GME&ie=UTF-8&tbm=vid&source=lnms&sa=X&ved=0ahUKEwiqrKmZmPn8AhUARzABHWISBdIQ_AUIBygC',\n",
              "  '/search?q=yahoo+finance+GME&ie=UTF-8&tbm=isch&source=lnms&sa=X&ved=0ahUKEwiqrKmZmPn8AhUARzABHWISBdIQ_AUICCgD',\n",
              "  'https://maps.google.com/maps?q=yahoo+finance+GME&um=1&ie=UTF-8&sa=X&ved=0ahUKEwiqrKmZmPn8AhUARzABHWISBdIQ_AUICSgE',\n",
              "  '/search?q=yahoo+finance+GME&ie=UTF-8&tbm=shop&source=lnms&sa=X&ved=0ahUKEwiqrKmZmPn8AhUARzABHWISBdIQ_AUICigF',\n",
              "  '/search?q=yahoo+finance+GME&ie=UTF-8&tbm=bks&source=lnms&sa=X&ved=0ahUKEwiqrKmZmPn8AhUARzABHWISBdIQ_AUICygG',\n",
              "  '/advanced_search',\n",
              "  '/search?q=yahoo+finance+GME&ie=UTF-8&tbm=nws&source=lnt&tbs=qdr:h&sa=X&ved=0ahUKEwiqrKmZmPn8AhUARzABHWISBdIQpwUIDQ',\n",
              "  '/search?q=yahoo+finance+GME&ie=UTF-8&tbm=nws&source=lnt&tbs=qdr:d&sa=X&ved=0ahUKEwiqrKmZmPn8AhUARzABHWISBdIQpwUIDg',\n",
              "  '/search?q=yahoo+finance+GME&ie=UTF-8&tbm=nws&source=lnt&tbs=qdr:w&sa=X&ved=0ahUKEwiqrKmZmPn8AhUARzABHWISBdIQpwUIDw',\n",
              "  '/search?q=yahoo+finance+GME&ie=UTF-8&tbm=nws&source=lnt&tbs=qdr:m&sa=X&ved=0ahUKEwiqrKmZmPn8AhUARzABHWISBdIQpwUIEA',\n",
              "  '/search?q=yahoo+finance+GME&ie=UTF-8&tbm=nws&source=lnt&tbs=qdr:y&sa=X&ved=0ahUKEwiqrKmZmPn8AhUARzABHWISBdIQpwUIEQ',\n",
              "  '/search?q=yahoo+finance+GME&ie=UTF-8&tbm=nws&source=lnt&tbs=ar:1&sa=X&ved=0ahUKEwiqrKmZmPn8AhUARzABHWISBdIQpwUIEg',\n",
              "  '/search?q=yahoo+finance+GME&ie=UTF-8&tbm=nws&source=lnt&tbs=sbd:1&sa=X&ved=0ahUKEwiqrKmZmPn8AhUARzABHWISBdIQpwUIFA',\n",
              "  '/url?q=https://finance.yahoo.com/news/strength-seen-gamestop-gme-14-144602277.html&sa=U&ved=2ahUKEwiqrKmZmPn8AhUARzABHWISBdIQxfQBegQIARAC&usg=AOvVaw39LQPCrSUn4JFZRLeFS1qv',\n",
              "  '/url?q=https://finance.yahoo.com/news/meme-stocks-i-bought-amc-thinking-it-would-be-the-next-tesla-retail-trader-on-2-year-anniversary-of-craze-150734011.html&sa=U&ved=2ahUKEwiqrKmZmPn8AhUARzABHWISBdIQxfQBegQICRAC&usg=AOvVaw2HDdLJGFLRIhl_UBJygX7t',\n",
              "  '/url?q=https://finance.yahoo.com/news/why-game-stop-stock-is-probably-dead-money-for-a-while-according-to-one-analyst-180851839.html&sa=U&ved=2ahUKEwiqrKmZmPn8AhUARzABHWISBdIQxfQBegQIBhAC&usg=AOvVaw1W96RImbtZa4TseUY3sD4J',\n",
              "  '/url?q=https://finance.yahoo.com/news/meme-stock-mania-5-lessons-220010930.html&sa=U&ved=2ahUKEwiqrKmZmPn8AhUARzABHWISBdIQxfQBegQICBAC&usg=AOvVaw0h2ovuVt8y1iiYz5tVcHFb',\n",
              "  '/url?q=https://finance.yahoo.com/news/tesla-arkk-meme-stocks-rally-2021-energy-technology-markets-195153458.html&sa=U&ved=2ahUKEwiqrKmZmPn8AhUARzABHWISBdIQxfQBegQIBxAC&usg=AOvVaw1WBMQrcQmCllLFgNTFuz4B',\n",
              "  '/url?q=https://finance.yahoo.com/news/12-best-one-dollar-stocks-143215032.html&sa=U&ved=2ahUKEwiqrKmZmPn8AhUARzABHWISBdIQxfQBegQIBBAC&usg=AOvVaw0XPs-VWocf9GZfYWNMvIFc',\n",
              "  '/url?q=https://finance.yahoo.com/news/equus-software-releases-2022-global-135300919.html&sa=U&ved=2ahUKEwiqrKmZmPn8AhUARzABHWISBdIQxfQBegQIBRAC&usg=AOvVaw2IuNBVWUdKOnHPEKN4OAPC',\n",
              "  '/url?q=https://finance.yahoo.com/news/bed-bath-beyond-timeline-loan-default-bankruptcy-212526437.html&sa=U&ved=2ahUKEwiqrKmZmPn8AhUARzABHWISBdIQxfQBegQIABAC&usg=AOvVaw0oFEjEZY9PAgY6BAyp5AMe',\n",
              "  '/url?q=https://ca.finance.yahoo.com/news/bed-bath-beyond-surged-105-185829217.html&sa=U&ved=2ahUKEwiqrKmZmPn8AhUARzABHWISBdIQxfQBegQIAhAC&usg=AOvVaw1EVtv9lt9bOHvFfAW3YncV',\n",
              "  '/url?q=https://finance.yahoo.com/news/midday-movers-airline-stocks-tesla-135534803.html&sa=U&ved=2ahUKEwiqrKmZmPn8AhUARzABHWISBdIQxfQBegQIAxAC&usg=AOvVaw2fEo1hPTKONOBr2OvQc-_8',\n",
              "  '/search?q=yahoo+finance+GME&ie=UTF-8&tbm=nws&ei=AujcY6qjB4COwbkP4qSUkA0&start=10&sa=N',\n",
              "  '/url?q=https://support.google.com/websearch%3Fp%3Dws_settings_location%26hl%3Den&sa=U&ved=0ahUKEwiqrKmZmPn8AhUARzABHWISBdIQty4IUw&usg=AOvVaw25aeVqBNpg6j1Lt-GONXts',\n",
              "  '/url?q=https://accounts.google.com/ServiceLogin%3Fcontinue%3Dhttps://www.google.com/search%253Fq%253Dyahoo%252Bfinance%252BGME%2526tbm%253Dnws%26hl%3Den&sa=U&ved=0ahUKEwiqrKmZmPn8AhUARzABHWISBdIQxs8CCFQ&usg=AOvVaw0VCxdszxpRtMy4f1_EM6B-',\n",
              "  'https://www.google.com/preferences?hl=en&fg=1&sa=X&ved=0ahUKEwiqrKmZmPn8AhUARzABHWISBdIQ5fUCCFU',\n",
              "  'https://policies.google.com/privacy?hl=en&fg=1',\n",
              "  'https://policies.google.com/terms?hl=en&fg=1',\n",
              "  '/setprefs?hl=en&prev=https://www.google.com/search?q%3Dyahoo%2Bfinance%2BGME%26tbm%3Dnws%26pccc%3D1&sig=0_tJUHSszzJEVi8NzFbUzuwGrarmQ%3D&cs=2&sa=X&ved=0ahUKEwiqrKmZmPn8AhUARzABHWISBdIQjcAJCFY'],\n",
              " 'TSLA': ['/?sa=X&ved=0ahUKEwiw1MCZmPn8AhWMsIQIHRFSDHQQOwgC',\n",
              "  '/search?q=yahoo+finance+TSLA&tbm=nws&ie=UTF-8&gbv=1&sei=AujcY7DLHozhkvQPkaSxoAc',\n",
              "  '/search?q=yahoo+finance+TSLA&ie=UTF-8&source=lnms&sa=X&ved=0ahUKEwiw1MCZmPn8AhWMsIQIHRFSDHQQ_AUIBSgA',\n",
              "  '/search?q=yahoo+finance+TSLA&ie=UTF-8&tbm=isch&source=lnms&sa=X&ved=0ahUKEwiw1MCZmPn8AhWMsIQIHRFSDHQQ_AUIBygC',\n",
              "  '/search?q=yahoo+finance+TSLA&ie=UTF-8&tbm=vid&source=lnms&sa=X&ved=0ahUKEwiw1MCZmPn8AhWMsIQIHRFSDHQQ_AUICCgD',\n",
              "  'https://maps.google.com/maps?q=yahoo+finance+TSLA&um=1&ie=UTF-8&sa=X&ved=0ahUKEwiw1MCZmPn8AhWMsIQIHRFSDHQQ_AUICSgE',\n",
              "  '/search?q=yahoo+finance+TSLA&ie=UTF-8&tbm=shop&source=lnms&sa=X&ved=0ahUKEwiw1MCZmPn8AhWMsIQIHRFSDHQQ_AUICigF',\n",
              "  '/search?q=yahoo+finance+TSLA&ie=UTF-8&tbm=bks&source=lnms&sa=X&ved=0ahUKEwiw1MCZmPn8AhWMsIQIHRFSDHQQ_AUICygG',\n",
              "  '/advanced_search',\n",
              "  '/search?q=yahoo+finance+TSLA&ie=UTF-8&tbm=nws&source=lnt&tbs=qdr:h&sa=X&ved=0ahUKEwiw1MCZmPn8AhWMsIQIHRFSDHQQpwUIDQ',\n",
              "  '/search?q=yahoo+finance+TSLA&ie=UTF-8&tbm=nws&source=lnt&tbs=qdr:d&sa=X&ved=0ahUKEwiw1MCZmPn8AhWMsIQIHRFSDHQQpwUIDg',\n",
              "  '/search?q=yahoo+finance+TSLA&ie=UTF-8&tbm=nws&source=lnt&tbs=qdr:w&sa=X&ved=0ahUKEwiw1MCZmPn8AhWMsIQIHRFSDHQQpwUIDw',\n",
              "  '/search?q=yahoo+finance+TSLA&ie=UTF-8&tbm=nws&source=lnt&tbs=qdr:m&sa=X&ved=0ahUKEwiw1MCZmPn8AhWMsIQIHRFSDHQQpwUIEA',\n",
              "  '/search?q=yahoo+finance+TSLA&ie=UTF-8&tbm=nws&source=lnt&tbs=qdr:y&sa=X&ved=0ahUKEwiw1MCZmPn8AhWMsIQIHRFSDHQQpwUIEQ',\n",
              "  '/search?q=yahoo+finance+TSLA&ie=UTF-8&tbm=nws&source=lnt&tbs=ar:1&sa=X&ved=0ahUKEwiw1MCZmPn8AhWMsIQIHRFSDHQQpwUIEg',\n",
              "  '/search?q=yahoo+finance+TSLA&ie=UTF-8&tbm=nws&source=lnt&tbs=sbd:1&sa=X&ved=0ahUKEwiw1MCZmPn8AhWMsIQIHRFSDHQQpwUIFA',\n",
              "  '/url?q=https://finance.yahoo.com/news/cathie-wood-on-tesla-price-cuts-rival-ev-makers-will-have-trouble-keeping-up-174435735.html&sa=U&ved=2ahUKEwiw1MCZmPn8AhWMsIQIHRFSDHQQxfQBegQIBBAC&usg=AOvVaw0mXdeAax2nZudH1ACGxR7_',\n",
              "  '/url?q=https://finance.yahoo.com/news/tesla-stock-jp-morgan-note-pours-cold-water-on-sizzling-rally-110737838.html&sa=U&ved=2ahUKEwiw1MCZmPn8AhWMsIQIHRFSDHQQxfQBegQICRAC&usg=AOvVaw2PA1iQG0N0rOe3yKmyG7oa',\n",
              "  '/url?q=https://ca.finance.yahoo.com/news/tesla-one-stock-ark-invests-191323292.html&sa=U&ved=2ahUKEwiw1MCZmPn8AhWMsIQIHRFSDHQQxfQBegQIAxAC&usg=AOvVaw1fl3rbSWPAYFURXYOyxaNI',\n",
              "  '/url?q=https://finance.yahoo.com/news/tesla-stock-heres-goldmans-most-important-takeaway-from-musks-earnings-call-110543602.html&sa=U&ved=2ahUKEwiw1MCZmPn8AhWMsIQIHRFSDHQQxfQBegQICBAC&usg=AOvVaw0j5qod7OLvkeVg_UVAnbHA',\n",
              "  '/url?q=https://finance.yahoo.com/news/auto-draft-180527207.html&sa=U&ved=2ahUKEwiw1MCZmPn8AhWMsIQIHRFSDHQQxfQBegQIBRAC&usg=AOvVaw3BZ1G9pdC4_d_K6YMNuXzh',\n",
              "  '/url?q=https://finance.yahoo.com/news/tesla-arkk-meme-stocks-rally-2021-energy-technology-markets-195153458.html&sa=U&ved=2ahUKEwiw1MCZmPn8AhWMsIQIHRFSDHQQxfQBegQIABAC&usg=AOvVaw1bKjniCcoggg32Ah1Tryu1',\n",
              "  '/url?q=https://finance.yahoo.com/news/stocks-moving-in-after-hours-tesla-ibm-servicenow-levi-231917403.html&sa=U&ved=2ahUKEwiw1MCZmPn8AhWMsIQIHRFSDHQQxfQBegQIBhAC&usg=AOvVaw3K0QutONd9vOi_-DvszKEi',\n",
              "  '/url?q=https://finance.yahoo.com/news/tesla-stock-investors-buying-piper-sandler-165217005.html&sa=U&ved=2ahUKEwiw1MCZmPn8AhWMsIQIHRFSDHQQxfQBegQIBxAC&usg=AOvVaw3lpMwdYvHDFVVnb_mquMuD',\n",
              "  '/url?q=https://finance.yahoo.com/news/tesla-sold-66-051-china-085022824.html&sa=U&ved=2ahUKEwiw1MCZmPn8AhWMsIQIHRFSDHQQxfQBegQIAhAC&usg=AOvVaw0_FpZBqxepu6_qHBRclnr8',\n",
              "  '/url?q=https://finance.yahoo.com/news/the-enemy-is-inside-of-tesla-wall-street-analyst-warns-on-elon-musk-182658984.html&sa=U&ved=2ahUKEwiw1MCZmPn8AhWMsIQIHRFSDHQQxfQBegQIARAC&usg=AOvVaw3h47-0JmB_6BUPG8HC3JJJ',\n",
              "  '/search?q=yahoo+finance+TSLA&ie=UTF-8&tbm=nws&ei=AujcY7DLHozhkvQPkaSxoAc&start=10&sa=N',\n",
              "  '/url?q=https://support.google.com/websearch%3Fp%3Dws_settings_location%26hl%3Den&sa=U&ved=0ahUKEwiw1MCZmPn8AhWMsIQIHRFSDHQQty4IUw&usg=AOvVaw2vptKHv1wUNz7OjXIHphMu',\n",
              "  '/url?q=https://accounts.google.com/ServiceLogin%3Fcontinue%3Dhttps://www.google.com/search%253Fq%253Dyahoo%252Bfinance%252BTSLA%2526tbm%253Dnws%26hl%3Den&sa=U&ved=0ahUKEwiw1MCZmPn8AhWMsIQIHRFSDHQQxs8CCFQ&usg=AOvVaw0mX_uMMwLjLDCBb_h2nKzg',\n",
              "  'https://www.google.com/preferences?hl=en&fg=1&sa=X&ved=0ahUKEwiw1MCZmPn8AhWMsIQIHRFSDHQQ5fUCCFU',\n",
              "  'https://policies.google.com/privacy?hl=en&fg=1',\n",
              "  'https://policies.google.com/terms?hl=en&fg=1'],\n",
              " 'BTC': ['/?sa=X&ved=0ahUKEwjpmuCZmPn8AhWVTTABHbI5BM8QOwgC',\n",
              "  '/search?q=yahoo+finance+BTC&tbm=nws&ie=UTF-8&gbv=1&sei=A-jcY6mNAZWbwbkPsvOQ-Aw',\n",
              "  '/search?q=yahoo+finance+BTC&ie=UTF-8&source=lnms&sa=X&ved=0ahUKEwjpmuCZmPn8AhWVTTABHbI5BM8Q_AUIBSgA',\n",
              "  '/search?q=yahoo+finance+BTC&ie=UTF-8&tbm=isch&source=lnms&sa=X&ved=0ahUKEwjpmuCZmPn8AhWVTTABHbI5BM8Q_AUIBygC',\n",
              "  '/search?q=yahoo+finance+BTC&ie=UTF-8&tbm=vid&source=lnms&sa=X&ved=0ahUKEwjpmuCZmPn8AhWVTTABHbI5BM8Q_AUICCgD',\n",
              "  'https://maps.google.com/maps?q=yahoo+finance+BTC&um=1&ie=UTF-8&sa=X&ved=0ahUKEwjpmuCZmPn8AhWVTTABHbI5BM8Q_AUICSgE',\n",
              "  '/search?q=yahoo+finance+BTC&ie=UTF-8&tbm=shop&source=lnms&sa=X&ved=0ahUKEwjpmuCZmPn8AhWVTTABHbI5BM8Q_AUICigF',\n",
              "  '/search?q=yahoo+finance+BTC&ie=UTF-8&tbm=bks&source=lnms&sa=X&ved=0ahUKEwjpmuCZmPn8AhWVTTABHbI5BM8Q_AUICygG',\n",
              "  '/advanced_search',\n",
              "  '/search?q=yahoo+finance+BTC&ie=UTF-8&tbm=nws&source=lnt&tbs=qdr:h&sa=X&ved=0ahUKEwjpmuCZmPn8AhWVTTABHbI5BM8QpwUIDQ',\n",
              "  '/search?q=yahoo+finance+BTC&ie=UTF-8&tbm=nws&source=lnt&tbs=qdr:d&sa=X&ved=0ahUKEwjpmuCZmPn8AhWVTTABHbI5BM8QpwUIDg',\n",
              "  '/search?q=yahoo+finance+BTC&ie=UTF-8&tbm=nws&source=lnt&tbs=qdr:w&sa=X&ved=0ahUKEwjpmuCZmPn8AhWVTTABHbI5BM8QpwUIDw',\n",
              "  '/search?q=yahoo+finance+BTC&ie=UTF-8&tbm=nws&source=lnt&tbs=qdr:m&sa=X&ved=0ahUKEwjpmuCZmPn8AhWVTTABHbI5BM8QpwUIEA',\n",
              "  '/search?q=yahoo+finance+BTC&ie=UTF-8&tbm=nws&source=lnt&tbs=qdr:y&sa=X&ved=0ahUKEwjpmuCZmPn8AhWVTTABHbI5BM8QpwUIEQ',\n",
              "  '/search?q=yahoo+finance+BTC&ie=UTF-8&tbm=nws&source=lnt&tbs=ar:1&sa=X&ved=0ahUKEwjpmuCZmPn8AhWVTTABHbI5BM8QpwUIEg',\n",
              "  '/search?q=yahoo+finance+BTC&ie=UTF-8&tbm=nws&source=lnt&tbs=sbd:1&sa=X&ved=0ahUKEwjpmuCZmPn8AhWVTTABHbI5BM8QpwUIFA',\n",
              "  '/url?q=https://finance.yahoo.com/news/first-mover-asia-bitcoin-dips-021449928.html&sa=U&ved=2ahUKEwjpmuCZmPn8AhWVTTABHbI5BM8QxfQBegQIARAC&usg=AOvVaw1MG0DMCD0-sNzwUaDFjjvM',\n",
              "  '/url?q=https://finance.yahoo.com/news/marathon-digital-holdings-announces-bitcoin-233000428.html&sa=U&ved=2ahUKEwjpmuCZmPn8AhWVTTABHbI5BM8QxfQBegQICRAC&usg=AOvVaw2o9KSZafEVUaxpDV3F1wHO',\n",
              "  '/url?q=https://finance.yahoo.com/news/crypto-market-post-fed-rally-222957560.html&sa=U&ved=2ahUKEwjpmuCZmPn8AhWVTTABHbI5BM8QxfQBegQIABAC&usg=AOvVaw17vQ5BTXRNEup9VKbcMJ28',\n",
              "  '/url?q=https://finance.yahoo.com/news/bitcoin-jumps-highest-since-august-014833211.html&sa=U&ved=2ahUKEwjpmuCZmPn8AhWVTTABHbI5BM8QxfQBegQIBxAC&usg=AOvVaw0EIlwei2lHpiAEKkU5JV0l',\n",
              "  '/url?q=https://finance.yahoo.com/news/cleanspark-releases-january-2023-bitcoin-140000819.html&sa=U&ved=2ahUKEwjpmuCZmPn8AhWVTTABHbI5BM8QxfQBegQIBRAC&usg=AOvVaw0l2sGXebH2xP05AoIZJg9i',\n",
              "  '/url?q=https://finance.yahoo.com/news/cipher-mining-announces-january-2023-210500754.html&sa=U&ved=2ahUKEwjpmuCZmPn8AhWVTTABHbI5BM8QxfQBegQIBhAC&usg=AOvVaw3D2fqqXa7VnhKmK8Du0je8',\n",
              "  '/url?q=https://finance.yahoo.com/news/bitfarms-mines-486-bitcoin-january-120000978.html&sa=U&ved=2ahUKEwjpmuCZmPn8AhWVTTABHbI5BM8QxfQBegQIBBAC&usg=AOvVaw0iwNRSrfmJlMwpSCx02Jhn',\n",
              "  '/url?q=https://finance.yahoo.com/news/bitcoin-closes-out-best-january-since-2013-232215270.html&sa=U&ved=2ahUKEwjpmuCZmPn8AhWVTTABHbI5BM8QxfQBegQIAhAC&usg=AOvVaw08-YiQt3rufQXyrrXb3oOA',\n",
              "  '/url?q=https://finance.yahoo.com/news/markets-bitcoin-ether-drop-dogecoin-110909157.html&sa=U&ved=2ahUKEwjpmuCZmPn8AhWVTTABHbI5BM8QxfQBegQICBAC&usg=AOvVaw0vsPFjcQr9joxa5Z-xbhZA',\n",
              "  '/url?q=https://finance.yahoo.com/news/bitcoin-suffers-largest-daily-plunge-231303525.html&sa=U&ved=2ahUKEwjpmuCZmPn8AhWVTTABHbI5BM8QxfQBegQIAxAC&usg=AOvVaw07Q2MXyKTUerpclKpteyGH',\n",
              "  '/search?q=yahoo+finance+BTC&ie=UTF-8&tbm=nws&ei=A-jcY6mNAZWbwbkPsvOQ-Aw&start=10&sa=N',\n",
              "  '/url?q=https://support.google.com/websearch%3Fp%3Dws_settings_location%26hl%3Den&sa=U&ved=0ahUKEwjpmuCZmPn8AhWVTTABHbI5BM8Qty4IUw&usg=AOvVaw37oF_jxYOa_Ic_XP2otKd8',\n",
              "  '/url?q=https://accounts.google.com/ServiceLogin%3Fcontinue%3Dhttps://www.google.com/search%253Fq%253Dyahoo%252Bfinance%252BBTC%2526tbm%253Dnws%26hl%3Den&sa=U&ved=0ahUKEwjpmuCZmPn8AhWVTTABHbI5BM8Qxs8CCFQ&usg=AOvVaw3Yfmeo8JFhYQMdhjmZuw4a',\n",
              "  'https://www.google.com/preferences?hl=en&fg=1&sa=X&ved=0ahUKEwjpmuCZmPn8AhWVTTABHbI5BM8Q5fUCCFU',\n",
              "  'https://policies.google.com/privacy?hl=en&fg=1',\n",
              "  'https://policies.google.com/terms?hl=en&fg=1']}"
            ]
          },
          "metadata": {},
          "execution_count": 15
        }
      ]
    },
    {
      "cell_type": "code",
      "source": [
        "raw_urls"
      ],
      "metadata": {
        "colab": {
          "base_uri": "https://localhost:8080/"
        },
        "id": "y7miQgjYAlGJ",
        "outputId": "da7ca351-cb2e-44a0-d8b2-02bb22f687bb"
      },
      "execution_count": null,
      "outputs": [
        {
          "output_type": "execute_result",
          "data": {
            "text/plain": [
              "{'GME': ['/?sa=X&ved=0ahUKEwiqrKmZmPn8AhUARzABHWISBdIQOwgC',\n",
              "  '/search?q=yahoo+finance+GME&tbm=nws&ie=UTF-8&gbv=1&sei=AujcY6qjB4COwbkP4qSUkA0',\n",
              "  '/search?q=yahoo+finance+GME&ie=UTF-8&source=lnms&sa=X&ved=0ahUKEwiqrKmZmPn8AhUARzABHWISBdIQ_AUIBSgA',\n",
              "  '/search?q=yahoo+finance+GME&ie=UTF-8&tbm=vid&source=lnms&sa=X&ved=0ahUKEwiqrKmZmPn8AhUARzABHWISBdIQ_AUIBygC',\n",
              "  '/search?q=yahoo+finance+GME&ie=UTF-8&tbm=isch&source=lnms&sa=X&ved=0ahUKEwiqrKmZmPn8AhUARzABHWISBdIQ_AUICCgD',\n",
              "  'https://maps.google.com/maps?q=yahoo+finance+GME&um=1&ie=UTF-8&sa=X&ved=0ahUKEwiqrKmZmPn8AhUARzABHWISBdIQ_AUICSgE',\n",
              "  '/search?q=yahoo+finance+GME&ie=UTF-8&tbm=shop&source=lnms&sa=X&ved=0ahUKEwiqrKmZmPn8AhUARzABHWISBdIQ_AUICigF',\n",
              "  '/search?q=yahoo+finance+GME&ie=UTF-8&tbm=bks&source=lnms&sa=X&ved=0ahUKEwiqrKmZmPn8AhUARzABHWISBdIQ_AUICygG',\n",
              "  '/advanced_search',\n",
              "  '/search?q=yahoo+finance+GME&ie=UTF-8&tbm=nws&source=lnt&tbs=qdr:h&sa=X&ved=0ahUKEwiqrKmZmPn8AhUARzABHWISBdIQpwUIDQ',\n",
              "  '/search?q=yahoo+finance+GME&ie=UTF-8&tbm=nws&source=lnt&tbs=qdr:d&sa=X&ved=0ahUKEwiqrKmZmPn8AhUARzABHWISBdIQpwUIDg',\n",
              "  '/search?q=yahoo+finance+GME&ie=UTF-8&tbm=nws&source=lnt&tbs=qdr:w&sa=X&ved=0ahUKEwiqrKmZmPn8AhUARzABHWISBdIQpwUIDw',\n",
              "  '/search?q=yahoo+finance+GME&ie=UTF-8&tbm=nws&source=lnt&tbs=qdr:m&sa=X&ved=0ahUKEwiqrKmZmPn8AhUARzABHWISBdIQpwUIEA',\n",
              "  '/search?q=yahoo+finance+GME&ie=UTF-8&tbm=nws&source=lnt&tbs=qdr:y&sa=X&ved=0ahUKEwiqrKmZmPn8AhUARzABHWISBdIQpwUIEQ',\n",
              "  '/search?q=yahoo+finance+GME&ie=UTF-8&tbm=nws&source=lnt&tbs=ar:1&sa=X&ved=0ahUKEwiqrKmZmPn8AhUARzABHWISBdIQpwUIEg',\n",
              "  '/search?q=yahoo+finance+GME&ie=UTF-8&tbm=nws&source=lnt&tbs=sbd:1&sa=X&ved=0ahUKEwiqrKmZmPn8AhUARzABHWISBdIQpwUIFA',\n",
              "  '/url?q=https://finance.yahoo.com/news/strength-seen-gamestop-gme-14-144602277.html&sa=U&ved=2ahUKEwiqrKmZmPn8AhUARzABHWISBdIQxfQBegQIARAC&usg=AOvVaw39LQPCrSUn4JFZRLeFS1qv',\n",
              "  '/url?q=https://finance.yahoo.com/news/meme-stocks-i-bought-amc-thinking-it-would-be-the-next-tesla-retail-trader-on-2-year-anniversary-of-craze-150734011.html&sa=U&ved=2ahUKEwiqrKmZmPn8AhUARzABHWISBdIQxfQBegQICRAC&usg=AOvVaw2HDdLJGFLRIhl_UBJygX7t',\n",
              "  '/url?q=https://finance.yahoo.com/news/why-game-stop-stock-is-probably-dead-money-for-a-while-according-to-one-analyst-180851839.html&sa=U&ved=2ahUKEwiqrKmZmPn8AhUARzABHWISBdIQxfQBegQIBhAC&usg=AOvVaw1W96RImbtZa4TseUY3sD4J',\n",
              "  '/url?q=https://finance.yahoo.com/news/meme-stock-mania-5-lessons-220010930.html&sa=U&ved=2ahUKEwiqrKmZmPn8AhUARzABHWISBdIQxfQBegQICBAC&usg=AOvVaw0h2ovuVt8y1iiYz5tVcHFb',\n",
              "  '/url?q=https://finance.yahoo.com/news/tesla-arkk-meme-stocks-rally-2021-energy-technology-markets-195153458.html&sa=U&ved=2ahUKEwiqrKmZmPn8AhUARzABHWISBdIQxfQBegQIBxAC&usg=AOvVaw1WBMQrcQmCllLFgNTFuz4B',\n",
              "  '/url?q=https://finance.yahoo.com/news/12-best-one-dollar-stocks-143215032.html&sa=U&ved=2ahUKEwiqrKmZmPn8AhUARzABHWISBdIQxfQBegQIBBAC&usg=AOvVaw0XPs-VWocf9GZfYWNMvIFc',\n",
              "  '/url?q=https://finance.yahoo.com/news/equus-software-releases-2022-global-135300919.html&sa=U&ved=2ahUKEwiqrKmZmPn8AhUARzABHWISBdIQxfQBegQIBRAC&usg=AOvVaw2IuNBVWUdKOnHPEKN4OAPC',\n",
              "  '/url?q=https://finance.yahoo.com/news/bed-bath-beyond-timeline-loan-default-bankruptcy-212526437.html&sa=U&ved=2ahUKEwiqrKmZmPn8AhUARzABHWISBdIQxfQBegQIABAC&usg=AOvVaw0oFEjEZY9PAgY6BAyp5AMe',\n",
              "  '/url?q=https://ca.finance.yahoo.com/news/bed-bath-beyond-surged-105-185829217.html&sa=U&ved=2ahUKEwiqrKmZmPn8AhUARzABHWISBdIQxfQBegQIAhAC&usg=AOvVaw1EVtv9lt9bOHvFfAW3YncV',\n",
              "  '/url?q=https://finance.yahoo.com/news/midday-movers-airline-stocks-tesla-135534803.html&sa=U&ved=2ahUKEwiqrKmZmPn8AhUARzABHWISBdIQxfQBegQIAxAC&usg=AOvVaw2fEo1hPTKONOBr2OvQc-_8',\n",
              "  '/search?q=yahoo+finance+GME&ie=UTF-8&tbm=nws&ei=AujcY6qjB4COwbkP4qSUkA0&start=10&sa=N',\n",
              "  '/url?q=https://support.google.com/websearch%3Fp%3Dws_settings_location%26hl%3Den&sa=U&ved=0ahUKEwiqrKmZmPn8AhUARzABHWISBdIQty4IUw&usg=AOvVaw25aeVqBNpg6j1Lt-GONXts',\n",
              "  '/url?q=https://accounts.google.com/ServiceLogin%3Fcontinue%3Dhttps://www.google.com/search%253Fq%253Dyahoo%252Bfinance%252BGME%2526tbm%253Dnws%26hl%3Den&sa=U&ved=0ahUKEwiqrKmZmPn8AhUARzABHWISBdIQxs8CCFQ&usg=AOvVaw0VCxdszxpRtMy4f1_EM6B-',\n",
              "  'https://www.google.com/preferences?hl=en&fg=1&sa=X&ved=0ahUKEwiqrKmZmPn8AhUARzABHWISBdIQ5fUCCFU',\n",
              "  'https://policies.google.com/privacy?hl=en&fg=1',\n",
              "  'https://policies.google.com/terms?hl=en&fg=1',\n",
              "  '/setprefs?hl=en&prev=https://www.google.com/search?q%3Dyahoo%2Bfinance%2BGME%26tbm%3Dnws%26pccc%3D1&sig=0_tJUHSszzJEVi8NzFbUzuwGrarmQ%3D&cs=2&sa=X&ved=0ahUKEwiqrKmZmPn8AhUARzABHWISBdIQjcAJCFY'],\n",
              " 'TSLA': ['/?sa=X&ved=0ahUKEwiw1MCZmPn8AhWMsIQIHRFSDHQQOwgC',\n",
              "  '/search?q=yahoo+finance+TSLA&tbm=nws&ie=UTF-8&gbv=1&sei=AujcY7DLHozhkvQPkaSxoAc',\n",
              "  '/search?q=yahoo+finance+TSLA&ie=UTF-8&source=lnms&sa=X&ved=0ahUKEwiw1MCZmPn8AhWMsIQIHRFSDHQQ_AUIBSgA',\n",
              "  '/search?q=yahoo+finance+TSLA&ie=UTF-8&tbm=isch&source=lnms&sa=X&ved=0ahUKEwiw1MCZmPn8AhWMsIQIHRFSDHQQ_AUIBygC',\n",
              "  '/search?q=yahoo+finance+TSLA&ie=UTF-8&tbm=vid&source=lnms&sa=X&ved=0ahUKEwiw1MCZmPn8AhWMsIQIHRFSDHQQ_AUICCgD',\n",
              "  'https://maps.google.com/maps?q=yahoo+finance+TSLA&um=1&ie=UTF-8&sa=X&ved=0ahUKEwiw1MCZmPn8AhWMsIQIHRFSDHQQ_AUICSgE',\n",
              "  '/search?q=yahoo+finance+TSLA&ie=UTF-8&tbm=shop&source=lnms&sa=X&ved=0ahUKEwiw1MCZmPn8AhWMsIQIHRFSDHQQ_AUICigF',\n",
              "  '/search?q=yahoo+finance+TSLA&ie=UTF-8&tbm=bks&source=lnms&sa=X&ved=0ahUKEwiw1MCZmPn8AhWMsIQIHRFSDHQQ_AUICygG',\n",
              "  '/advanced_search',\n",
              "  '/search?q=yahoo+finance+TSLA&ie=UTF-8&tbm=nws&source=lnt&tbs=qdr:h&sa=X&ved=0ahUKEwiw1MCZmPn8AhWMsIQIHRFSDHQQpwUIDQ',\n",
              "  '/search?q=yahoo+finance+TSLA&ie=UTF-8&tbm=nws&source=lnt&tbs=qdr:d&sa=X&ved=0ahUKEwiw1MCZmPn8AhWMsIQIHRFSDHQQpwUIDg',\n",
              "  '/search?q=yahoo+finance+TSLA&ie=UTF-8&tbm=nws&source=lnt&tbs=qdr:w&sa=X&ved=0ahUKEwiw1MCZmPn8AhWMsIQIHRFSDHQQpwUIDw',\n",
              "  '/search?q=yahoo+finance+TSLA&ie=UTF-8&tbm=nws&source=lnt&tbs=qdr:m&sa=X&ved=0ahUKEwiw1MCZmPn8AhWMsIQIHRFSDHQQpwUIEA',\n",
              "  '/search?q=yahoo+finance+TSLA&ie=UTF-8&tbm=nws&source=lnt&tbs=qdr:y&sa=X&ved=0ahUKEwiw1MCZmPn8AhWMsIQIHRFSDHQQpwUIEQ',\n",
              "  '/search?q=yahoo+finance+TSLA&ie=UTF-8&tbm=nws&source=lnt&tbs=ar:1&sa=X&ved=0ahUKEwiw1MCZmPn8AhWMsIQIHRFSDHQQpwUIEg',\n",
              "  '/search?q=yahoo+finance+TSLA&ie=UTF-8&tbm=nws&source=lnt&tbs=sbd:1&sa=X&ved=0ahUKEwiw1MCZmPn8AhWMsIQIHRFSDHQQpwUIFA',\n",
              "  '/url?q=https://finance.yahoo.com/news/cathie-wood-on-tesla-price-cuts-rival-ev-makers-will-have-trouble-keeping-up-174435735.html&sa=U&ved=2ahUKEwiw1MCZmPn8AhWMsIQIHRFSDHQQxfQBegQIBBAC&usg=AOvVaw0mXdeAax2nZudH1ACGxR7_',\n",
              "  '/url?q=https://finance.yahoo.com/news/tesla-stock-jp-morgan-note-pours-cold-water-on-sizzling-rally-110737838.html&sa=U&ved=2ahUKEwiw1MCZmPn8AhWMsIQIHRFSDHQQxfQBegQICRAC&usg=AOvVaw2PA1iQG0N0rOe3yKmyG7oa',\n",
              "  '/url?q=https://ca.finance.yahoo.com/news/tesla-one-stock-ark-invests-191323292.html&sa=U&ved=2ahUKEwiw1MCZmPn8AhWMsIQIHRFSDHQQxfQBegQIAxAC&usg=AOvVaw1fl3rbSWPAYFURXYOyxaNI',\n",
              "  '/url?q=https://finance.yahoo.com/news/tesla-stock-heres-goldmans-most-important-takeaway-from-musks-earnings-call-110543602.html&sa=U&ved=2ahUKEwiw1MCZmPn8AhWMsIQIHRFSDHQQxfQBegQICBAC&usg=AOvVaw0j5qod7OLvkeVg_UVAnbHA',\n",
              "  '/url?q=https://finance.yahoo.com/news/auto-draft-180527207.html&sa=U&ved=2ahUKEwiw1MCZmPn8AhWMsIQIHRFSDHQQxfQBegQIBRAC&usg=AOvVaw3BZ1G9pdC4_d_K6YMNuXzh',\n",
              "  '/url?q=https://finance.yahoo.com/news/tesla-arkk-meme-stocks-rally-2021-energy-technology-markets-195153458.html&sa=U&ved=2ahUKEwiw1MCZmPn8AhWMsIQIHRFSDHQQxfQBegQIABAC&usg=AOvVaw1bKjniCcoggg32Ah1Tryu1',\n",
              "  '/url?q=https://finance.yahoo.com/news/stocks-moving-in-after-hours-tesla-ibm-servicenow-levi-231917403.html&sa=U&ved=2ahUKEwiw1MCZmPn8AhWMsIQIHRFSDHQQxfQBegQIBhAC&usg=AOvVaw3K0QutONd9vOi_-DvszKEi',\n",
              "  '/url?q=https://finance.yahoo.com/news/tesla-stock-investors-buying-piper-sandler-165217005.html&sa=U&ved=2ahUKEwiw1MCZmPn8AhWMsIQIHRFSDHQQxfQBegQIBxAC&usg=AOvVaw3lpMwdYvHDFVVnb_mquMuD',\n",
              "  '/url?q=https://finance.yahoo.com/news/tesla-sold-66-051-china-085022824.html&sa=U&ved=2ahUKEwiw1MCZmPn8AhWMsIQIHRFSDHQQxfQBegQIAhAC&usg=AOvVaw0_FpZBqxepu6_qHBRclnr8',\n",
              "  '/url?q=https://finance.yahoo.com/news/the-enemy-is-inside-of-tesla-wall-street-analyst-warns-on-elon-musk-182658984.html&sa=U&ved=2ahUKEwiw1MCZmPn8AhWMsIQIHRFSDHQQxfQBegQIARAC&usg=AOvVaw3h47-0JmB_6BUPG8HC3JJJ',\n",
              "  '/search?q=yahoo+finance+TSLA&ie=UTF-8&tbm=nws&ei=AujcY7DLHozhkvQPkaSxoAc&start=10&sa=N',\n",
              "  '/url?q=https://support.google.com/websearch%3Fp%3Dws_settings_location%26hl%3Den&sa=U&ved=0ahUKEwiw1MCZmPn8AhWMsIQIHRFSDHQQty4IUw&usg=AOvVaw2vptKHv1wUNz7OjXIHphMu',\n",
              "  '/url?q=https://accounts.google.com/ServiceLogin%3Fcontinue%3Dhttps://www.google.com/search%253Fq%253Dyahoo%252Bfinance%252BTSLA%2526tbm%253Dnws%26hl%3Den&sa=U&ved=0ahUKEwiw1MCZmPn8AhWMsIQIHRFSDHQQxs8CCFQ&usg=AOvVaw0mX_uMMwLjLDCBb_h2nKzg',\n",
              "  'https://www.google.com/preferences?hl=en&fg=1&sa=X&ved=0ahUKEwiw1MCZmPn8AhWMsIQIHRFSDHQQ5fUCCFU',\n",
              "  'https://policies.google.com/privacy?hl=en&fg=1',\n",
              "  'https://policies.google.com/terms?hl=en&fg=1'],\n",
              " 'BTC': ['/?sa=X&ved=0ahUKEwjpmuCZmPn8AhWVTTABHbI5BM8QOwgC',\n",
              "  '/search?q=yahoo+finance+BTC&tbm=nws&ie=UTF-8&gbv=1&sei=A-jcY6mNAZWbwbkPsvOQ-Aw',\n",
              "  '/search?q=yahoo+finance+BTC&ie=UTF-8&source=lnms&sa=X&ved=0ahUKEwjpmuCZmPn8AhWVTTABHbI5BM8Q_AUIBSgA',\n",
              "  '/search?q=yahoo+finance+BTC&ie=UTF-8&tbm=isch&source=lnms&sa=X&ved=0ahUKEwjpmuCZmPn8AhWVTTABHbI5BM8Q_AUIBygC',\n",
              "  '/search?q=yahoo+finance+BTC&ie=UTF-8&tbm=vid&source=lnms&sa=X&ved=0ahUKEwjpmuCZmPn8AhWVTTABHbI5BM8Q_AUICCgD',\n",
              "  'https://maps.google.com/maps?q=yahoo+finance+BTC&um=1&ie=UTF-8&sa=X&ved=0ahUKEwjpmuCZmPn8AhWVTTABHbI5BM8Q_AUICSgE',\n",
              "  '/search?q=yahoo+finance+BTC&ie=UTF-8&tbm=shop&source=lnms&sa=X&ved=0ahUKEwjpmuCZmPn8AhWVTTABHbI5BM8Q_AUICigF',\n",
              "  '/search?q=yahoo+finance+BTC&ie=UTF-8&tbm=bks&source=lnms&sa=X&ved=0ahUKEwjpmuCZmPn8AhWVTTABHbI5BM8Q_AUICygG',\n",
              "  '/advanced_search',\n",
              "  '/search?q=yahoo+finance+BTC&ie=UTF-8&tbm=nws&source=lnt&tbs=qdr:h&sa=X&ved=0ahUKEwjpmuCZmPn8AhWVTTABHbI5BM8QpwUIDQ',\n",
              "  '/search?q=yahoo+finance+BTC&ie=UTF-8&tbm=nws&source=lnt&tbs=qdr:d&sa=X&ved=0ahUKEwjpmuCZmPn8AhWVTTABHbI5BM8QpwUIDg',\n",
              "  '/search?q=yahoo+finance+BTC&ie=UTF-8&tbm=nws&source=lnt&tbs=qdr:w&sa=X&ved=0ahUKEwjpmuCZmPn8AhWVTTABHbI5BM8QpwUIDw',\n",
              "  '/search?q=yahoo+finance+BTC&ie=UTF-8&tbm=nws&source=lnt&tbs=qdr:m&sa=X&ved=0ahUKEwjpmuCZmPn8AhWVTTABHbI5BM8QpwUIEA',\n",
              "  '/search?q=yahoo+finance+BTC&ie=UTF-8&tbm=nws&source=lnt&tbs=qdr:y&sa=X&ved=0ahUKEwjpmuCZmPn8AhWVTTABHbI5BM8QpwUIEQ',\n",
              "  '/search?q=yahoo+finance+BTC&ie=UTF-8&tbm=nws&source=lnt&tbs=ar:1&sa=X&ved=0ahUKEwjpmuCZmPn8AhWVTTABHbI5BM8QpwUIEg',\n",
              "  '/search?q=yahoo+finance+BTC&ie=UTF-8&tbm=nws&source=lnt&tbs=sbd:1&sa=X&ved=0ahUKEwjpmuCZmPn8AhWVTTABHbI5BM8QpwUIFA',\n",
              "  '/url?q=https://finance.yahoo.com/news/first-mover-asia-bitcoin-dips-021449928.html&sa=U&ved=2ahUKEwjpmuCZmPn8AhWVTTABHbI5BM8QxfQBegQIARAC&usg=AOvVaw1MG0DMCD0-sNzwUaDFjjvM',\n",
              "  '/url?q=https://finance.yahoo.com/news/marathon-digital-holdings-announces-bitcoin-233000428.html&sa=U&ved=2ahUKEwjpmuCZmPn8AhWVTTABHbI5BM8QxfQBegQICRAC&usg=AOvVaw2o9KSZafEVUaxpDV3F1wHO',\n",
              "  '/url?q=https://finance.yahoo.com/news/crypto-market-post-fed-rally-222957560.html&sa=U&ved=2ahUKEwjpmuCZmPn8AhWVTTABHbI5BM8QxfQBegQIABAC&usg=AOvVaw17vQ5BTXRNEup9VKbcMJ28',\n",
              "  '/url?q=https://finance.yahoo.com/news/bitcoin-jumps-highest-since-august-014833211.html&sa=U&ved=2ahUKEwjpmuCZmPn8AhWVTTABHbI5BM8QxfQBegQIBxAC&usg=AOvVaw0EIlwei2lHpiAEKkU5JV0l',\n",
              "  '/url?q=https://finance.yahoo.com/news/cleanspark-releases-january-2023-bitcoin-140000819.html&sa=U&ved=2ahUKEwjpmuCZmPn8AhWVTTABHbI5BM8QxfQBegQIBRAC&usg=AOvVaw0l2sGXebH2xP05AoIZJg9i',\n",
              "  '/url?q=https://finance.yahoo.com/news/cipher-mining-announces-january-2023-210500754.html&sa=U&ved=2ahUKEwjpmuCZmPn8AhWVTTABHbI5BM8QxfQBegQIBhAC&usg=AOvVaw3D2fqqXa7VnhKmK8Du0je8',\n",
              "  '/url?q=https://finance.yahoo.com/news/bitfarms-mines-486-bitcoin-january-120000978.html&sa=U&ved=2ahUKEwjpmuCZmPn8AhWVTTABHbI5BM8QxfQBegQIBBAC&usg=AOvVaw0iwNRSrfmJlMwpSCx02Jhn',\n",
              "  '/url?q=https://finance.yahoo.com/news/bitcoin-closes-out-best-january-since-2013-232215270.html&sa=U&ved=2ahUKEwjpmuCZmPn8AhWVTTABHbI5BM8QxfQBegQIAhAC&usg=AOvVaw08-YiQt3rufQXyrrXb3oOA',\n",
              "  '/url?q=https://finance.yahoo.com/news/markets-bitcoin-ether-drop-dogecoin-110909157.html&sa=U&ved=2ahUKEwjpmuCZmPn8AhWVTTABHbI5BM8QxfQBegQICBAC&usg=AOvVaw0vsPFjcQr9joxa5Z-xbhZA',\n",
              "  '/url?q=https://finance.yahoo.com/news/bitcoin-suffers-largest-daily-plunge-231303525.html&sa=U&ved=2ahUKEwjpmuCZmPn8AhWVTTABHbI5BM8QxfQBegQIAxAC&usg=AOvVaw07Q2MXyKTUerpclKpteyGH',\n",
              "  '/search?q=yahoo+finance+BTC&ie=UTF-8&tbm=nws&ei=A-jcY6mNAZWbwbkPsvOQ-Aw&start=10&sa=N',\n",
              "  '/url?q=https://support.google.com/websearch%3Fp%3Dws_settings_location%26hl%3Den&sa=U&ved=0ahUKEwjpmuCZmPn8AhWVTTABHbI5BM8Qty4IUw&usg=AOvVaw37oF_jxYOa_Ic_XP2otKd8',\n",
              "  '/url?q=https://accounts.google.com/ServiceLogin%3Fcontinue%3Dhttps://www.google.com/search%253Fq%253Dyahoo%252Bfinance%252BBTC%2526tbm%253Dnws%26hl%3Den&sa=U&ved=0ahUKEwjpmuCZmPn8AhWVTTABHbI5BM8Qxs8CCFQ&usg=AOvVaw3Yfmeo8JFhYQMdhjmZuw4a',\n",
              "  'https://www.google.com/preferences?hl=en&fg=1&sa=X&ved=0ahUKEwjpmuCZmPn8AhWVTTABHbI5BM8Q5fUCCFU',\n",
              "  'https://policies.google.com/privacy?hl=en&fg=1',\n",
              "  'https://policies.google.com/terms?hl=en&fg=1']}"
            ]
          },
          "metadata": {},
          "execution_count": 16
        }
      ]
    },
    {
      "cell_type": "code",
      "source": [
        "#Strip out unwanted URLs\n",
        "import re"
      ],
      "metadata": {
        "id": "c92riiR951jp"
      },
      "execution_count": null,
      "outputs": []
    },
    {
      "cell_type": "code",
      "source": [
        "exclude_list = ['maps', 'policies', 'preferences', 'accounts', 'support']"
      ],
      "metadata": {
        "id": "ecEesRom7EPB"
      },
      "execution_count": null,
      "outputs": []
    },
    {
      "cell_type": "code",
      "source": [
        "def strip_unwanted_urls(urls, exclude_list):\n",
        "    val = []\n",
        "    for url in urls: \n",
        "        if 'https://' in url and not any(exclude_word in url for exclude_word in exclude_list):\n",
        "            res = re.findall(r'(https?://\\S+)', url)[0].split('&')[0]\n",
        "            val.append(res)\n",
        "    return list(set(val))"
      ],
      "metadata": {
        "id": "PC0VxJL67G8J"
      },
      "execution_count": null,
      "outputs": []
    },
    {
      "cell_type": "code",
      "source": [
        "cleaned_urls = {ticker:strip_unwanted_urls(raw_urls[ticker], exclude_list) for ticker in monitored_tickers}\n",
        "cleaned_urls"
      ],
      "metadata": {
        "colab": {
          "base_uri": "https://localhost:8080/"
        },
        "id": "C719z6Y879nM",
        "outputId": "c8b4a6e5-c9cf-44df-b304-60bd7687c703"
      },
      "execution_count": null,
      "outputs": [
        {
          "output_type": "execute_result",
          "data": {
            "text/plain": [
              "{'GME': ['https://finance.yahoo.com/news/bed-bath-beyond-timeline-loan-default-bankruptcy-212526437.html',\n",
              "  'https://finance.yahoo.com/news/meme-stock-mania-5-lessons-220010930.html',\n",
              "  'https://finance.yahoo.com/news/12-best-one-dollar-stocks-143215032.html',\n",
              "  'https://ca.finance.yahoo.com/news/bed-bath-beyond-surged-105-185829217.html',\n",
              "  'https://finance.yahoo.com/news/strength-seen-gamestop-gme-14-144602277.html',\n",
              "  'https://finance.yahoo.com/news/why-game-stop-stock-is-probably-dead-money-for-a-while-according-to-one-analyst-180851839.html',\n",
              "  'https://finance.yahoo.com/news/tesla-arkk-meme-stocks-rally-2021-energy-technology-markets-195153458.html',\n",
              "  'https://www.google.com/search?q%3Dyahoo%2Bfinance%2BGME%26tbm%3Dnws%26pccc%3D1',\n",
              "  'https://finance.yahoo.com/news/midday-movers-airline-stocks-tesla-135534803.html',\n",
              "  'https://finance.yahoo.com/news/meme-stocks-i-bought-amc-thinking-it-would-be-the-next-tesla-retail-trader-on-2-year-anniversary-of-craze-150734011.html',\n",
              "  'https://finance.yahoo.com/news/equus-software-releases-2022-global-135300919.html'],\n",
              " 'TSLA': ['https://finance.yahoo.com/news/tesla-stock-heres-goldmans-most-important-takeaway-from-musks-earnings-call-110543602.html',\n",
              "  'https://finance.yahoo.com/news/auto-draft-180527207.html',\n",
              "  'https://ca.finance.yahoo.com/news/tesla-one-stock-ark-invests-191323292.html',\n",
              "  'https://finance.yahoo.com/news/tesla-arkk-meme-stocks-rally-2021-energy-technology-markets-195153458.html',\n",
              "  'https://finance.yahoo.com/news/stocks-moving-in-after-hours-tesla-ibm-servicenow-levi-231917403.html',\n",
              "  'https://finance.yahoo.com/news/the-enemy-is-inside-of-tesla-wall-street-analyst-warns-on-elon-musk-182658984.html',\n",
              "  'https://finance.yahoo.com/news/tesla-sold-66-051-china-085022824.html',\n",
              "  'https://finance.yahoo.com/news/cathie-wood-on-tesla-price-cuts-rival-ev-makers-will-have-trouble-keeping-up-174435735.html',\n",
              "  'https://finance.yahoo.com/news/tesla-stock-jp-morgan-note-pours-cold-water-on-sizzling-rally-110737838.html',\n",
              "  'https://finance.yahoo.com/news/tesla-stock-investors-buying-piper-sandler-165217005.html'],\n",
              " 'BTC': ['https://finance.yahoo.com/news/first-mover-asia-bitcoin-dips-021449928.html',\n",
              "  'https://finance.yahoo.com/news/bitcoin-jumps-highest-since-august-014833211.html',\n",
              "  'https://finance.yahoo.com/news/bitcoin-suffers-largest-daily-plunge-231303525.html',\n",
              "  'https://finance.yahoo.com/news/marathon-digital-holdings-announces-bitcoin-233000428.html',\n",
              "  'https://finance.yahoo.com/news/cleanspark-releases-january-2023-bitcoin-140000819.html',\n",
              "  'https://finance.yahoo.com/news/bitfarms-mines-486-bitcoin-january-120000978.html',\n",
              "  'https://finance.yahoo.com/news/markets-bitcoin-ether-drop-dogecoin-110909157.html',\n",
              "  'https://finance.yahoo.com/news/crypto-market-post-fed-rally-222957560.html',\n",
              "  'https://finance.yahoo.com/news/cipher-mining-announces-january-2023-210500754.html',\n",
              "  'https://finance.yahoo.com/news/bitcoin-closes-out-best-january-since-2013-232215270.html']}"
            ]
          },
          "metadata": {},
          "execution_count": 20
        }
      ]
    },
    {
      "cell_type": "code",
      "source": [
        "#Search and scrape cleaned URLs\n",
        "def scrape_and_process(URLs):\n",
        "    ARTICLES = []\n",
        "    for url in URLs: \n",
        "        r = requests.get(url)\n",
        "        soup = BeautifulSoup(r.text, 'html.parser')\n",
        "        paragraphs = soup.find_all('p')\n",
        "        text = [paragraph.text for paragraph in paragraphs]\n",
        "        words = ' '.join(text).split(' ')[:350]\n",
        "        ARTICLE = ' '.join(words)\n",
        "        ARTICLES.append(ARTICLE)\n",
        "    return ARTICLES"
      ],
      "metadata": {
        "id": "bsoFWOmV8AG2"
      },
      "execution_count": null,
      "outputs": []
    },
    {
      "cell_type": "code",
      "source": [
        "articles = {ticker:scrape_and_process(cleaned_urls[ticker]) for ticker in monitored_tickers}\n",
        "articles"
      ],
      "metadata": {
        "colab": {
          "base_uri": "https://localhost:8080/"
        },
        "id": "l3-9z3hL8g8K",
        "outputId": "4f08b339-73f8-428c-ea22-488b171d3f85"
      },
      "execution_count": null,
      "outputs": [
        {
          "output_type": "execute_result",
          "data": {
            "text/plain": [
              "{'GME': ['This post has been updated. The end of an era is approaching for Bed Bath & Beyond (BBBY), once one of the U.S.\\'s most beloved home furnishing retailers. Bed Bath & Beyond revealed in its latest regulatory filing that it\\'s defaulted on its loans and lacks the financial means to repay its debt. The company also reiterated the possibility that it may seek bankruptcy protection in the near future. From simple beginnings to becoming a national retail titan that sold everything from coffee makers to candy, the company\\'s more than 50-year long journey has been both adventurous and chaotic. Here\\'s a look at the years leading up to its current near-death state. Founders Leonard Feinstein and Warren Eisenberg originally worked at Arlans, a discount retail chain, but eventually discovered the need for niche stores that better served shoppers. In 1971, they opened the first linens-only \"Bed \\'n Bath\" store in Springfield, New Jersey. Their bet was spot-on: The 1980s brought a rise in consumerism, Walmart-driven price deflation, and new retail economics that led to booming business in suburban America for big-box retailers. The popularity helped Bed n\\' Bath expand out of its home state of New Jersey with more products and in 1987, it added the \"beyond\" label to its corporate name. Bed Bath & Beyond was the classic \"category killer\" of the 1980s and 1990s, similar to the now-defunct Toys \"R\" Us. Category killers represented a new wave of superstores that featured high inventory and low prices in their specific category, like home goods. Customers got a wider range of merchandise to browse from than that of smaller, more local businesses. In its prime, Bed Bath & Beyond featured prices low enough throughout the year that sales events were no longer calendar-worthy for customers. It didn\\'t require a million-dollar advertising campaign to lure in shoppers — just the big blue coupons in the snail mail with which customers have become well acquainted. The company went public in June 1992, initially trading around $1. Sales crossed $1 billion in 1998. The company powered through recessions and kept sales soaring as',\n",
              "  \"The slang phrase “meme stock” refers to a stock that attains viral attention on social media platforms, but predominately Reddit. Reddit users decide on a specific security and band together to pump the price. Often, the target stock selected is highly shorted (bet against) by hedge funds and is highly speculative. By choosing a heavily shorted stock, meme stock enthusiasts believe they can cause a short squeeze and force hedge funds to cover short positions – adding fuel to the fire. Initially, meme stock mania started with the meteoric rise of video game retailer GameStop GME. Though nothing was unique or changing about the business or its fundamentals at the time, posters on Redditt concluded that since the stock was so heavily shorted by hedge funds, if enough of the collective banded together to purchase shares, prices would squeeze higher. To say the stock squeezed would be an understatement. Shares rose by more than 5,000% off their Corona Virus lows. Image Source: Zacks Investment Research Pictured: GME's meteoric rise and subsequent grind lower following the pandemic. As more and more people joined the meme stock craze and the “Wall Street Bets” message board, the buying of shares became a self-fulfilling prophecy and gave legitimacy to the strategy/scheme (depending on how you view it). However, not everyone was having fun. Hedge fund Melvin Capital was the largest hedge fund that was caught short in the stock. The fund started 2021 with more than 12 billion in assets under management and lost 50% in the month of January alone. Finally, Robinhood HOOD, the broker that many meme stock connoisseurs were using, disallowed users from buying GME stock out of concerns of lack of collateral – finally putting an end to the move. Ultimately, it was too late for Melvin, who shut its doors later that year. It was also too late for late investors who chased GME shares into the Robinhood shutdown. Blood Bath and Beyond - the Final Chapter? Last week, management from the troubled retailer and former meme stock darling Bed Bath and Beyond Inc BBBY announced that the company\",\n",
              "  'In this article, we discuss 12 best one dollar stocks to buy according to hedge funds. If you want to see more stocks in this selection, check out 5 Best One Dollar Stocks to Buy According To Hedge Funds.\\xa0 In April 2021, younger traders – the millennials and Gen-Z – poured heavily into meme stocks as the economy reopened after the peak of the COVID-19 pandemic. AMC Entertainment Holdings, Inc. (NYSE:AMC) and GameStop Corp. (NYSE:GME) were some of the top trades of retail investors. Although these investors were very committed to the likes of Tesla, Inc. (NASDAQ:TSLA), Apple Inc. (NASDAQ:AAPL), and Amazon.com, Inc. (NASDAQ:AMZN), their portfolios had penny stocks in abundance too, as per data from nearly 3 million trading accounts collected by Apex Clearing. Similarly, blockchain and crypto mining penny stocks were also on the rise during that time period, propelled to the limelight by internet forums like Reddit.\\xa0 During 2020, Robinhood investors were more invested in penny stocks than the regular retail investors. Emmanuel Cau, an equity strategist with Barclays, told CNBC in June 2020 that investors were piling into penny stocks “given the low absolute share prices, their chances of higher return from such beaten down stocks are high, irrespective of their fundamentals.” It looks like the year 2023 is going to be a good one for inexpensive stocks. Data from Thomson Reuters indicates that the average penny stock has a forward P/E ratio of just 9.8 times, compared to 12 times in the previous year. To check out more penny stocks, investors can also take a look at 12 Hot Penny Stocks On the Move, 13 Cash Rich Penny Stocks That Hedge Funds Are Buying, and 10 Penny Stocks that will Make You A Millionaire.\\xa0 Our Methodology\\xa0 We scanned Insider Monkey’s database of holdings of 920 elite hedge funds tracked as of the end of the third quarter of 2022 and picked the top 12 one dollar stocks popular among smart investors. These are the most popular stocks priced under $1 among hedge funds. The list is arranged in ascending order of the number of hedge',\n",
              "  'Expected to take questions on topics including clean energy, supply chains and migration Bed Bath & Beyond stock soared 42.2% on Wednesday, marking a third straight gain. The rally comes amid warnings of a potential bankruptcy and a bleak third-quarter report. Akin to GameStop and AMC, Bed Bath & Beyond has been a favorite among meme-stock traders. Bed Bath & Beyond has surged 105% in the past three days as the stock rallies in the face of financial headwinds and outsized losses. On Wednesday, shares were up 42.2% at $3.20, after CNBC reported late Tuesday that the home furnishings retailer was laying off more staff. The rally comes amid warnings of a potential  bankruptcy and a bleak fiscal third-quarter earnings report. Inventory snags have weighed down the company\\'s performance. In addition to layoffs, Bed Bath & Beyond is enacting a slew of cost-cutting measures as the chain explores restructuring options. The company released a list of 120 plus closing stores on Tuesday, adding that it\\'s aiming at $80 million to $100 million in further cost savings. \"We continue to manage our financial position amidst a changing landscape and work with expert advisors as we consider all paths and strategic alternatives to accomplish our short- and long-term goals,\" CEO Sue Gove told the Wall Street Journal. Bed Bath & Beyond has been a favorite among meme-stock traders. And on Wednesday other stocks that were caught up in the early 2021 frenzy were up too. AMC rose 15%, GameStop 7%, and Carvana 22%. \"We don\\'t love the strength in nonsense stocks like AMC, CVNA, GME, BBBY, PRTY, etc.,\" Adam Crisafulli, founder of TK Vital Knowledge, told CNBC. \"This just means people are blindly chasing.\" Read the original article on Business Insider Here are three of the top TSX stocks that are slated to outperform the market in a turbulent 2023, making them perfect for TFSA investors. The post TFSA Investors: 3 TSX Stocks to Outperform the Market appeared first on The Motley Fool Canada. Shares of Tourmaline Oil had a strong run-up in 2022. Here\\'s why. The post Why Tourmaline Oil',\n",
              "  \"GameStop GME shares rallied 14% in the last trading session to close at $22.82. This move can be attributable to notable volume with a higher number of shares being traded than in a typical session. This compares to the stock's 9.2% gain over the past four weeks. GameStop is progressing well with its growth endeavors, while maintaining a sturdy balance sheet. The company has been making robust efforts to fortify the infrastructure and technology. As part of its digital transformation efforts, GameStop has been increasing product catalog across consumer electronics, PC gaming, collectibles, toys and other categories. This video game retailer is expected to post quarterly loss of $0.16 per share in its upcoming report, which represents a year-over-year change of +66%. Revenues are expected to be $2.17 billion, down 3.8% from the year-ago quarter. While earnings and revenue growth expectations are important in evaluating the potential strength in a stock, empirical research shows a strong correlation between trends in earnings estimate revisions and near-term stock price movements. For GameStop, the consensus EPS estimate for the quarter has been revised 30.5% higher over the last 30 days to the current level. And a positive trend in earnings estimate revision usually translates into price appreciation. So, make sure to keep an eye on GME going forward to see if this recent jump can turn into more strength down the road. The stock currently carries a Zacks Rank #2 (Buy). You can see the complete list of today's Zacks Rank #1 (Strong Buy) stocks here >>>> GameStop is a member of the Zacks Retail - Consumer Electronics industry. One other stock in the same industry, Best Buy (BBY), finished the last trading session 1.5% higher at $85.18. BBY has returned 3.3% over the past month. Best Buy's consensus EPS estimate for the upcoming report has changed +0.2% over the past month to $2.10. Compared to the company's year-ago EPS, this represents a change of -23.1%. Best Buy currently boasts a Zacks Rank of #3 (Hold). Want the latest recommendations from Zacks Investment Research? Today, you can download 7 Best Stocks for the\",\n",
              "  'GameStop\\'s stock (GME) is likely dead money until it can convince Wall Street otherwise, the research team at Jefferies argues. \"Long-term growth prospects and lack of communication from management remain a key source of speculation,\" Jefferies analyst Andrew Uerkwitz wrote in a new client note. \"We take a prove it approach, as we are not currently modeling profitability until 4Q23. This message is a clear shift from early 2022 when investors were encouraged by management to focus on long-term growth over near-term margins. To us, this signals that turnaround-related investments have lacked expected demand traction, the growth path carries more risk, and GameStop is recognizing that investor\\'s priorities under current market conditions have shifted.\" More than a year into a rather secretive leadership approach by GameStop CEO Matt Furlong and Chairman Ryan Cohen, the entire experiment to reinvent the gaming the retailer appears to be failing. In the third quarter, net sales plunged 8.5% from the prior year while sales fell in the hardware/accessories and software businesses, which represent about 82% of GameStop\\'s annual sales. Furthermore, gross profit margins in the quarter were unchanged year over year and the company posted a $95 million adjusted operating loss. Overall, GameStop has lost $354.9 million on an adjusted operating basis in the past year. Not helping GameStop\\'s turnaround efforts is a complete crash in the once-thriving digital asset market that Cohen and Furlong were banking on, as seen in GameStop\\'s strategic partnership with now-defunct FTX. Against this turbulent backdrop, GameStop is now in cost-cutting mode as it frantically tries to show better profits to the legions of retail investors continuing to prop up the stock price. Jefferies Uerkwitz warned that it\\'s buyer beware on GameStop stock, especially as the company looks to shore up its cash position. \"Cash burn continues to be our #1 concern until profitability is proven, and we take our price target to $20 on 0.85x sales + cash per share,\" Uerkwitz added. \"While the multiple sits below peers in digital commerce, gaming, and retail, we shrink our valuation on increased market slowdown, slowing growth assumptions, and lack of',\n",
              "  'A market rally on Friday accentuated by rips higher in some battered and bruised technology stocks that faltered last year are making this year\\'s price action look a lot like 2021\\'s rally. Beaten-down names including Tesla (TSLA), Carvana (CVNA), and Coinbase (COIN) were each up more than 10% on Friday. Cathie Wood\\'s ARK Innovation (ARKK) ETF, a bellwether for high-flying tech, advanced 5.5%. ARKK has gained more than 25% this month alone, which Reuters notes puts the fund on pace for its best monthly gain on record. A mini meme trade was also in the works on Friday. Shares of BuzzFeed (BZFD) skyrocketed as much as 150% midday after an internal memo reveled the media giant was planning to lean heavily into AI to generate content. Shares closed up 85% on Friday. That marks a big turnaround for the company, which has lost about three-fourths of its value since going public through a SPAC combination in late 2021. Reddit-trader favorite GameStop (GME) rose 14% to cap a volatile session. And Lucid Group (LCID), an electric vehicle manufacturer known for its mega SPAC merger in 2021, surged 43%. Tesla, which wiped out 65% of its value in 2022 for its worst year on record, rallied 11% on Friday. For the year, Tesla is up 44%. The stock\\'s rally this week also comes after Tesla\\'s quarterly results beat expectations, with the company telling investors it plans to begin production of its Cybertruck later this year. \"The recent rally in meme stocks and profitless tech stocks is a headfake and there is still plenty of excess capital in the system, even with all that the Federal Reserve has done over the past year,\" David Trainer, CEO of investment research firm New Constructs, told Yahoo Finance on Friday. Wall Street’s risk-on mood comes as investors speculate moderating economic data will prompt the Federal Reserve to end its rate hiking cycle sooner than expected. The U.S. central bank is expected to downshift its pace of interest rate hikes to 25 basis-points at its meeting next week. Friday\\'s moves come in tandem with a broader push',\n",
              "  '© 2023 - Privacy - Terms',\n",
              "  \"By Liz Moyer Investing.com -- Stocks were rising on Wednesday as investors eye a key report on inflation that could help the Fed decide on the next step with interest rates. Here are the midday movers for Jan. 11. Airline stocks rose after an early morning technology glitched forced aviation regulators to halt flights in the U.S. By mid-morning, flights were back in the air, but thousands remained canceled or delayed.  American Airlines Group  (NASDAQ:AAL) stock rose 1.9%, United Airlines Holdings Inc (NASDAQ:UAL) stock rose 4.3% and Delta Air Lines Inc (NYSE:DAL) rose 0.9%. Tesla Inc (NASDAQ:TSLA) shares rose 2.8% after the electric vehicle maker registered with Texas to expand its gigafactory near Austin. AMC Entertainment Holdings Inc (NYSE:AMC) shares jumped 16.7% as the so-called meme stock trade appeared to be back on. Fellow meme stocks were also on the rise, including  Bed Bath&Beyond Inc  (NASDAQ:BBBY), up 41%, and  GameStop Corp  (NYSE:GME), up 5%. BlackRock Inc (NYSE:BLK) shares dipped 0.3% after the largest asset manager was reportedly preparing to lay off 500 people, or just under 3% of its workforce amid Wall Street's business slump.  World Wrestling Entertainment Inc (NYSE:WWE) shares fell 1.8% after its co-CEO Stephanie McMahon announced she would leave the company. Her departure comes about a week after her father, Vince McMahon, announced he had returned to the sports entertainment firm. Related Articles Midday movers: Airline stocks, Tesla, AMC Entertainment and more Stocks advance, bond yields fall with hopes for weaker U.S. inflation S&P 500 rides consumer stocks higher as focus shifts to inflation data Related Quotes\",\n",
              "  'It’s been two years this week since the meme stock phenomenon took Wall Street by surprise. The craze put the spotlight on retail investors and their collective efforts to outsmart \"the Suits.\" \"As a casual Reddit user, I saw GameStop blow up and it caught my attention,” one investor, who asked to remain anonymous, told Yahoo Finance. On January 22, 2021, struggling video game retailer GameStop (GME) started its parabolic rising, gaining 51% in a single trading session.\\xa0Retail traders, prompted by chatter on the Reddit message board r/wallstreebets, piled onto the stock. With the rally in GameStop shares, some hedge funds were forced to cover short positions and a \"working class vs. hedge fund\" inspired meme craze was born. Rocket ship emojis 🚀🚀🚀 and \"to the moon\" became staples of threads about GameStop, and later, movie theater chain AMC (AMC). “I saw AMC getting a similar cult-like following so I joined in,” said the Reddit user. “I never believed the hype about the shares going to millions like they did, but I bought 100 at around $8.50. I got lucky and of course it squeezed, so I sold in batches between $32 and $55.” But many others weren’t so lucky. “I bought AMC for $49 per share in June 2021 thinking it would be the next Tesla (TSLA). I panic-sold AMC in January of 2022 to cut my losses. It most certainly wasn’t the next Tesla,” a retailer trader who sells stock market inspired clothing and home goods, told Yahoo Finance. AMC fell to about $16 a share in January of last year when this trader sold. The stock currently sits just below $6 per share. “I was so stressed out and lost so much, my wife threatened to divorce me,” the trader added. Activity related to meme stocks has tapered off significantly since this phenomenon took off, according to data provided by Vanda Research. Net buys for GameStop stock for example, are a fraction of what they were two years ago, after reaching $87.4 million on Jan. 27, 2021. On that same date, net buys for AMC reached $170.9',\n",
              "  'Report reveals the new dynamic global workforce has elevated mobility\\'s role to that of a strategic partner in business DENVER, Jan. 31, 2023 /PRNewswire/ -- Global workforce management technology provider,\\xa0Equus Software\\xa0(Equus), and Global Mobility Executive\\xa0(GME), London-based global mobility research, services and events company, today announced the release of its 2022 Evolving Global Mobility Landscape Report, detailing how the global mobility industry has evolved since 2020 and revealing key findings on how the new dynamic global workforce has elevated mobility\\'s role to that of a strategic partner in business. \"Siloed operational models are becoming obsolete and cumbersome,\" said Alan Bell, senior vice president of solution consulting at Equus. \"This year\\'s survey results confirm that global mobility is adopting a changed mindset. That is, evolving as an interdependent ecosystem that leverages an automated process, helps drive down costs and duplication, and enables time-saving efficiencies to allow for solutions-creation and innovation.\" In 2020, Equus and GME conducted the first survey on technology in global mobility titled, \"The Future of Global Mobility – The Digital Journey,\" and this year\\'s report is a follow up to understand the extent to which the pandemic and other political, socio and economical forces are influencing the digital transformation of global mobility. The 2022 survey responses indicate an almost even split between participants based in Europe, 46 percent, and North America, 44 percent. Participants represented a wide range of industry sectors, but the majority came from the tech sector (40 percent). Fifty seven percent of respondents had an employee population of 20,000 or more. Key 2022 Evolving Global Mobility Landscape Report findings include: While international assignments remain the most popular type of move the number of permanent transfers is steadily increasing, particularly in the tech sector and in organizations with smaller assignee populations. There is a renewed focus on tracking business travellers and remote workers to minimize tax and immigration compliance risks since the height of the pandemic with nearly 60 percent of respondents stating that they were and are using a variety of software tools for tracking. Other than spreadsheets, using a relocation company\\'s software is popular (23'],\n",
              " 'TSLA': ['Goldman Sachs sees one heck of an electrified move in Tesla stock (TSLA) over the next twelve months. Analyst Mark Delaney, who maintained a Buy rating and $200 price target on the stock, reiterated his case in a note following Tesla\\'s earnings on Wednesday. The price target assumes about a 25% upside from the stock\\'s current levels. \"Given the focus of investors on Tesla’s delivery volumes in particular (and the importance of volume for its vertically integrated model and the cost benefits long-term of its newer factories when at scale),\" Delaney wrote, \"we see the order strength as the most important takeaway from the call.\" The bullish note on Tesla comes after the company reported a mixed fourth-quarter and full-year outlook. Tesla\\'s fourth-quarter gross profit margin came in at 23.8%, short of estimates of 25.4%. The automotive gross profit margin clocked in at 25.9%, compared to analyst estimates of 28.4%. During the earnings call with investors, Tesla CEO Elon Musk did his best to sound enthusiastic about Tesla\\'s business. He also addressed demand concerns, stating: \"Thus far in January we have seen the strongest orders year to date ever in our history.\" However, he also warned of a \"severe\" recession this year. The economic warning appears to have been baked into Tesla\\'s 2023 volume growth guidance of 38%, which fell below a longer-term target of 50%. Musk also announced that Cybertruck production would be delayed until the summer, with \"volume production\" commencing in 2024. Despite the uncertainties, Tesla stock surged nearly 11% on Thursday as investors favored Musk\\'s commentary on near-term demand trends. \"We continue to believe that the company is well positioned for long-term growth given its leadership position, both in terms of cost structure and as a full solution provider in clean mobility,\" Delaney said. Squishier aspects from the earnings call, however, did lead others on Wall Street to take a more measured view of the stock. For instance, Guggenheim analyst Ronald Jewsikow maintained a Sell rating on Tesla shares. \"We are a bit surprised to see shares rallying after-market with sizable negative revisions likely to FY23/24 EPS',\n",
              "  '',\n",
              "  'Shares of Meta Platforms surge after company results that topped revenue expectations If Cathie Wood had to hold one stock for the next decade, it would be Tesla, she said in an interview. Wood has been snapping up Tesla stock since shares of the EV maker closed out a dismal year in 2022. She estimates the stock will soar to $1,500 a share over the next five years, marking a 675% increase. If Cathie Wood had to buy one stock today and hold it for the next 10 years, it would be Tesla, the Ark Invest CEO said. In a recent Twitter Spaces interview with Cardone Capital, the famed money manager professed her bullishness for Tesla stock, which is the largest holding in her flagship ARK Innovation ETF. Though Tesla is still recovering from a dismal performance 2022, Wood has poured more money into shares of the electric-vehicle maker, snapping up $47 million of the stock in a single week in January. \"Well, especially because of how much it\\'s been pummeled recently, and we\\'re known for this – I don\\'t think it\\'ll surprise – any of your listeners have heard of ARK, they\\'ve heard of Tesla,\" Wood said on Wednesday, when asked for her 10-year stock pick. Her optimism comes after a difficult year for Elon Musk\\'s car company, with shares plummeting 65% in 2022 amid rising inflation, interest rate hikes, and Musk\\'s chaotic takeover of Twitter, which analysts say has damaged Tesla\\'s brand. But Wood remains bullish on Tesla, particularly after the company announced it would be slashing prices on key models in China, Europe, and the US. That\\'s expected to revive some of the demand that fell off in the previous year, and the price cuts mean rival EV makers will \"have trouble keeping up\", Wood said in a separate interview with Yahoo Finance. She also thinks the company will be a leader in the delivery robot market, which Wood estimates will expand to one trillion dollars over the next decade. Ark Innovation\\'s stake in Tesla helped the ETF post a record monthly gain of 29% in January,',\n",
              "  'A market rally on Friday accentuated by rips higher in some battered and bruised technology stocks that faltered last year are making this year\\'s price action look a lot like 2021\\'s rally. Beaten-down names including Tesla (TSLA), Carvana (CVNA), and Coinbase (COIN) were each up more than 10% on Friday. Cathie Wood\\'s ARK Innovation (ARKK) ETF, a bellwether for high-flying tech, advanced 5.5%. ARKK has gained more than 25% this month alone, which Reuters notes puts the fund on pace for its best monthly gain on record. A mini meme trade was also in the works on Friday. Shares of BuzzFeed (BZFD) skyrocketed as much as 150% midday after an internal memo reveled the media giant was planning to lean heavily into AI to generate content. Shares closed up 85% on Friday. That marks a big turnaround for the company, which has lost about three-fourths of its value since going public through a SPAC combination in late 2021. Reddit-trader favorite GameStop (GME) rose 14% to cap a volatile session. And Lucid Group (LCID), an electric vehicle manufacturer known for its mega SPAC merger in 2021, surged 43%. Tesla, which wiped out 65% of its value in 2022 for its worst year on record, rallied 11% on Friday. For the year, Tesla is up 44%. The stock\\'s rally this week also comes after Tesla\\'s quarterly results beat expectations, with the company telling investors it plans to begin production of its Cybertruck later this year. \"The recent rally in meme stocks and profitless tech stocks is a headfake and there is still plenty of excess capital in the system, even with all that the Federal Reserve has done over the past year,\" David Trainer, CEO of investment research firm New Constructs, told Yahoo Finance on Friday. Wall Street’s risk-on mood comes as investors speculate moderating economic data will prompt the Federal Reserve to end its rate hiking cycle sooner than expected. The U.S. central bank is expected to downshift its pace of interest rate hikes to 25 basis-points at its meeting next week. Friday\\'s moves come in tandem with a broader push',\n",
              "  'Tesla (TSLA) The electric vehicle (EV) giant reported adjusted quarterly earnings of $1.19 versus analyst estimates of $1.12 per share. Sales of $24.32 billion beat analyst estimates of $23.03 billion. Tesla\\'s automotive gross margin of 25.9% came in below expectations of 28.4%. The company said its Cybertruck model is on track to begin production later this year. More details are expected to be revealed at its investor day on March 1. IBM (IBM) IBM shares rose 2% after the company announced fourth-quarter revenue of $16.69 billion, slightly above analyst expectations. Adjusted earnings per share came in at $3.60, in line with the average analyst estimate. The hybrid cloud and infrastructure company will be cutting about 3,900 jobs, or 1.5% of its workforce, according to an interview given by CFO James Kavanaugh, reported by Bloomberg. IBM joins a slew of tech companies which are cutting costs by slashing its workforce amid slowing economies around the world. ServiceNow (NOW) Shares of the software company ServiceNow are down after subscription sales came in below analyst expectations. Subscription revenue for the company\\'s latest quarter increased 22% to $1.86 billion, but came in shy of analyst estimates of $1.89 billion. Its subscription sales forecast though for 2023 came in better than expected. The company\\'s fourth quarter adjusted revenue of $2.03 billion came in above estimates of $2.01 billion. Its adjusted revenue of $2.03 billion also beat expectations of $2.01B The company is vowing not to lay off employees in 2023, according to an interview by CEO Bill McDermott, reported by Bloomberg. Levi Strauss (LEVI) Levi Strauss\\'s adjusted earnings per share of 34 cents for the fourth quarter beat the average analyst expectation of 29 cents. Net revenue of $1.59 billion also came in slightly higher than the $1.57 billion expected by Wall Street. The denim company\\'s adjusted earnings per share forecast range of $1.30 to $1.40 coincides with the $1.35 estimated by analysts. \"We achieved strong results in 2022 by focusing on execution and the controllables of the business,\" said chief financial and growth officer, Harmit Singh. Ines is a senior business reporter for Yahoo',\n",
              "  'The uber-busy Elon Musk is still a key risk to the successful running of Tesla (TSLA) that investors shouldn\\'t lose sight of, warned Jefferies analyst Phillippe Houchois. \"We have published research many times in the past where we say the enemy is inside of Tesla,\" Houchois said on Yahoo Finance Live (video above). \"Musk is an incredible driving force, but he is also the one that brings unnecessary risk, in a way, to the situation.\" The prickly billionaire reminded investors of that risk at times on Tesla\\'s earnings call late Wednesday, really only showing signs of his trademark exuberance when discussing artificial intelligence. That\\'s not surprising given that Musk has been kept busy by efforts to reduce debt at Twitter, appearances in court, studying rocket designs, and staying up late with the Tesla AI team the day before the call. While Musk did his best to sound enthusiastic about Tesla\\'s business, he warned of a \"severe\" recession this year. He then announced Cybertruck production will be delayed until the summer, with \"volume production\" commencing in 2024. The company\\'s volume growth guidance for 2023 of 38% was also below a long-term target of 50%. Navigating all these uncertainties would be a tall order for a single CEO, let alone one that lives multiple lives across multiple companies. At the same time, to Houchois\\'s point, Musk\\'s commentary on the call underscored his magic touch at Tesla. The company will finally get in the electric truck game this year with the Cybertruck (even if it\\'s delayed a bit). Electric semi trucks have begun to ship to customers such as PepsiCo (PEP). And recent price cuts on various models appear to be igniting demand. Tesla shares rose about 9% during Thursday\\'s session as investors zeroed in on the positives for the Tesla story. \"With Twitter noise starting to slowly dissipate and the demand story roaring out of the gates in 2023 despite a darker macro [economy], we walk away from this call incrementally more bullish on Tesla into 2023,\" Wedbush analyst Dan Ives said in a client note. Brian Sozzi is an editor-at-large and',\n",
              "  'BEIJING, Feb 3 (Reuters) - Tesla Inc delivered 66,051 China-made electric vehicles in January, based on data on Friday from China Passenger Car Association. (Reporting by Hong Kong newsroom. Editing by Jane Merriman)',\n",
              "  'Tesla (TSLA) bull Cathie Wood doesn\\'t see the EV maker\\'s recent price cuts as damaging the brand. Instead, they may be more of a problem for automakers trying to close the gap, she contended. \"I think traditional auto manufacturers are going to have trouble keeping up with the price declines that Tesla\\'s technology is enabling,\" the ARK Invest founder said on Yahoo Finance Live (video above). Wood believes the price cuts stem from Tesla\\'s cost leadership position in battery technology. Tesla remains the largest holding in Wood\\'s closely followed ARK Innovation ETF (ARKK). Elon Musk \"absolutely chose the right technology, and I think others are rethinking it now,\" Wood said. “If they do not switch over to this kind of battery technology, they will not be able to catch up with Tesla in terms of price declines without losing money — whereas Tesla’s gross margins are probably going to continue moving up on balance, even as it is cutting prices because its unit volumes, the economies of scale, are going to be so significant.\" In early January, Tesla cut the Model 3 base version by $3,000 to $43,990. The Model 3 Performance variant saw a price cut of $9,000 to $53,990. Tesla also dropped the price for the Model Y Long Range by $13,000 to $52,990 while the Performance model was cut to $56,990, about $13,000 cheaper than the prior price. EV rival Ford (F) followed with price cuts of its own to better compete with Tesla. Though GM\\'s (GM) CFO Paul Jacobson told Yahoo Finance this week that he has no plans to cut prices for EVs. To Wood\\'s point, the price cuts appear to have led to renewed demand (and perhaps market share gains) for Tesla, as CEO Elon Musk hinted at in the company\\'s latest earnings call. But not everyone on Wall Street shares Wood\\'s optimism on Tesla. Many pros think price cuts will prove to be damaging to the Tesla brand over the long term while at the same time hurting profit margins. \"Based on the statement that [Elon Musk] made on the fourth quarter earnings',\n",
              "  'Tesla stock has risen too fast this year based on numerous uncertainties around the EV maker\\'s business, JP Morgan analyst Ryan Brinkman argues. \"Tesla’s softer trend and below-consensus adjusted automotive gross margin comes before the impact of large price reductions that will primarily be felt beginning in the first quarter,\" Brinkman said in a new client note. \"As such, we view margin trajectory negatively and expect that consensus margin expectations are likely to decline.\" Brinkman reiterated an Underweight (sell equivalent) rating on Tesla shares. His $120 price target on Tesla assumes 32% downside from current levels. Shares of Tesla dropped slightly in premarket trading on Monday. The stock is up about 44% so far in 2023. \"Although both technology and execution risk seem substantially less than was once feared, expansion into higher volume segments with lower price points seems fraught with greater risk relative to demand, execution, and competition,\" Brinkman added. \"Meanwhile, valuation appears to be pricing in upside related to expansion into mass-market segments well beyond our volume forecasts for the Model 3.\" The bearish note on Tesla comes after the company reported a mixed — at best — fourth-quarter and full-year outlook last week. Tesla\\'s fourth-quarter gross profit margin came in at 23.8%, short of estimates of 25.4%. The automotive gross profit margin clocked in at 25.9%, compared to analyst estimates of 28.4%. During the earnings call with investors, Tesla CEO Elon Musk did his best to sound enthusiastic about Tesla\\'s business. He also addressed demand concerns, stating: \"Thus far in January we have seen the strongest orders year to date ever in our history.\" At the same time, however, he warned of a \"severe\" recession this year. The economic warning appears to have been baked into Tesla\\'s 2023 volume growth guidance of 38%, which fell below a longer-term target of 50%. Not everyone on the Street is in Brinkman\\'s camp on Tesla: Berenberg analyst Adrian Yanoshik upgraded his rating on Tesla to Buy from Hold, citing \"misguided\" pricing concerns. Brian Sozzi is an editor-at-large and anchor at Yahoo Finance. Follow Sozzi on Twitter @BrianSozzi and on LinkedIn.',\n",
              "  'Tesla (TSLA) stock’s recent decline has reached attractive levels, and it’s time for investors to start positioning for an upswing, Piper Sandler argued in a new note. \"Tesla took longer than expected to cut prices, but now that pricing adjustments have been made and now that the valuation has reset, we think investors should be proactively buying TSLA,” research analyst Alexander E. Potter wrote in a note to clients on Wednesday. Tesla shares have fallen more than 40% over the last three months since CEO Elon Musk bought Twitter. Many Wall Street analysts likened the stock’s decline to a “Twitter overhang,\" though the company also had other fundamental issues arise, including a fourth-quarter vehicle deliveries miss. The electric vehicle maker has since responded with price cuts in major markets such as China, Europe, and the U.S. It also slashed prices by as much as 20% with its most recent cut on Jan. 13. The U.S. price cuts moved Tesla’s basic model Y price down from $65,990 to $52,990, according to Reuters calculations. As the note pointed out, though, the discounts could be closer to 30% when considering the $7,500 federal tax credit for purchasing a U.S.-manufactured electric vehicle. The more affordable pricing could increase demand, according to Piper Sandler, which currently has an Overweight rating and a $300 price target on the stock. The firm noted Tesla can now “easily achieve” at least 50% delivery growth in 2023. “We don’t think most investors appreciate the extent to which lower pricing could support Tesla’s market share,” Potter wrote. “This is particularly true in the United States where lower prices, combined with a $7,500 tax credit, could unlock at least 300K units of incremental demand (if not twice that).” Additionally, he added, the price cuts could help Tesla \"poach demand\" from competitors like GM (GM), Ford (F), and RAM, all of which have chipped away at Tesla\\'s EV market share in recent years. \"The U.S. auto market has real ample real estate for Tesla to exploit,\" the note stated. Tesla cutting prices has still raised concerns surrounding the company’s margins. Wall Street'],\n",
              " 'BTC': ['Join the most important conversation in crypto and web3! Secure your seat today Good morning. Here’s what’s happening: Prices: A late Thursday dip sent bitcoin and other cryptos into negative territory from Wednesday highs that followed the Federal Reserve\\'s moderate interest rate hike. Insights: Crypto trading activity increases following the Federal Reserve\\'s interest rate increase on Wednesday. Catch the latest episodes of CoinDesk TV for insightful interviews with crypto industry leaders and analysis. And sign up for First Mover, our daily newsletter putting the latest moves in crypto markets in context. CoinDesk Market Index (CMI) 1,101  −18.9 ▼ 1.7%   Bitcoin (BTC) $23,535  −432.7 ▼ 1.8%   Ethereum (ETH) $1,645  −30.9 ▼ 1.8%   S&P 500 4,179.76  +60.5 ▲ 1.5%   Gold $1,931  +3.4 ▲ 0.2%   Nikkei 225 27,402.05  +55.2 ▲ 0.2%   BTC/ETH prices per CoinDesk Indices, as of 7 a.m. ET (11 a.m. UTC) Bitcoin\\'s Post Rate Hike Momentum Stalls By James Rubin A late Thursday price dip notwithstanding, optimism continued wafting through crypto markets a day after the U.S. central bank\\'s modest price hike surprised few monetary policy observers. Bitcoin was recently trading just above $23,500, down 1.8% over the past 24 hours but still well above last week\\'s support near $23,000. The largest cryptocurrency has risen about 40% this year amid investors\\' growing optimism about inflation and the economy. The Federal Reserve\\'s 25 basis point (bps) increase bolstered markets\\' sense that bankers were succeeding in their quest to staunch stubbornly high prices. In an interview with CoinDesk TV\\'s \"First Mover\" program, Mark Connors, head of research at Canadian investment manager 3iQ, said that despite its recent gains, bitcoin was still trading below its 200-day moving average. \"We believe that as we get nearer [to the 200-day average] – which is a huge fundamental catalysts for bitcoin, and we have no reason to believe it won\\'t be again – that [bitcoin] will see an even further move higher,\" Connors said. Connors comments dovetailed with a CoinDesk report that bitcoin and the S&P 500 were',\n",
              "  '(Bloomberg) -- Smaller coins led gains among cryptocurrencies Thursday on the back of investor optimism that central banks in the US and Europe will finally ease their aggressive interest-rate hiking. Most Read from Bloomberg Merck Covid Drug Linked to New Virus Mutations, Study Says Adani Crisis Deepens as Stock Rout Hits $108 Billion Porsche Blunder Puts $148,000 Sportscar on Sale for Just $18,000 Hong Kong to Give Away 500,000 Air Tickets to Revive Tourism How Extreme Bets Fueled an $11.4 Billion Fortune Altcoins, including Ether and Cardano, are climbing north of 2% as of 12:47 p.m. in New York Thursday, while Bitcoin pared back its strong advance. Still, the largest token by market value rose as much as 2.4% Thursday before moderating its gains to trade at $23,786. A gauge of the top 100 coins is up 37% so far in 2023. Investors are “moving out the risk spectrum towards more speculative plays right now,” Matt Maley, chief market strategist at Miller Tabak + Co., said. “Just like they are in stocks.” Crypto-linked equities are also benefiting from the broad-based enthusiasm. Coinbase Global Inc. is up 19%, while Silvergate Capital Corp., is higher by 36%. Meanwhile, an index of crypto-mining equities is also trading higher by 10.7% Thursday, after registering an unprecedented month when it saw 77% of gains. Bitcoin has been trading in a tight range these past two weeks, despite it reaching a five-month high on Wednesday. This comes after comments from Federal Reserve Chair Jerome Powell on inflation that signaled less harsh monetary-policy ahead. Still, the price of the token is a far cry from its record of almost $69,000 on November 2021. “The sideways action after such a big move is constructive,” Frank Cappelleri, founder of CappThesis, said. “BTC’s spike in January was much more pronounced than anything we saw from equities, and simply continuing to consolidate those gains would be bullish.” It has been a promising start to the year for Bitcoin, which in 2022 fell 64% in its second-worst annual performance on record. The rally has renewed previously-dampened enthusiasm, even as the industry is',\n",
              "  \"Join the most important conversation in crypto and web3! Secure your seat today Bitcoin dipped below $22,600 at one point Monday to record its biggest single-day percentage loss since early November when the FTX meltdown sent the crypto market reeling. The largest cryptocurrency by market capitalization was recently trading at about $22,720, down more than 4.5% after climbing over $23,900 on Sunday for the first time since mid-August. Ether (ETH) dropped 5% to trade around $1,550 Monday. The CoinDesk Market Index was down 4.8% for the day. The last time BTC lost such an amount in a day was Nov. 9 when BTC plunged 14%, according to data from TradingView. Some $44 million worth of BTC long positions were liquidated in the past 24 hours, part of a broader crypto market's Monday decline, according to Coinglass data. Crypto-exposed stocks also sank, reflecting investors’ nervousness about the crypto market. Exchange giant Coinbase (COIN) closed down over 8%, while bitcoin miner Marathon Digital Holdings (MARA) sank around 10%. “Bitcoin is declining as Wall Street becomes very defensive ahead of this week’s major risk events,” Edward Moya, senior market analyst at foreign exchange Oanda, wrote in a Monday note. Traders are expecting the U.S. Federal Reserve to raise interest rates by 25 basis points (bps) at its Federal Open Market Committee (FOMC) meeting, which begins Tuesday, although some analysts believe that a 50 (bps) hike remains a possibility amid ongoing worries about inflation. Bitcoin’s recent resistance below $24,000 underscores this concern, and Moya noted that “for crypto to have any underlying support given all the regulatory and contagion fears, inflation risks need to go away.” He added: “Bitcoin has massive resistance at the $24,000 level, so if risk aversion remains in place, downward momentum might not find major support until the $21,000 region.” \\u200b\",\n",
              "  'Produced a Record 687 BTC in January 2023, 45% Increase from the Prior Month Increased Unrestricted Cash to $133.8 Million and Increased Unrestricted Bitcoin Holdings to 8,090 BTC as of January 31 FORT LAUDERDALE, Fla., Feb. 02, 2023 (GLOBE NEWSWIRE) -- Marathon Digital Holdings, Inc. (NASDAQ:MARA) (\"Marathon\" or \"Company\"), a leader in supporting and securing the Bitcoin ecosystem, today published unaudited bitcoin (“BTC”) production and miner installation updates for January 2023. Management Commentary“We started the year by producing a record 687 bitcoin in January 2023, which is a 45% increase from the 475 bitcoin we produced in December 2022,” said Fred Thiel, Marathon’s chairman and CEO. “The improvement in our bitcoin production was primarily a result of our team’s ability to work in tandem with the new hosting provider in McCamey, Texas, to address the maintenance and technical issues at the King Mountain data center that had suppressed our bitcoin production in the fourth quarter of 2022. We believe the improvements in our operational efficiency, along with the proactive measures we have taken to strengthen our balance sheet, have placed Marathon in a strong position to achieve our growth and operational targets in 2023. “With bitcoin production increasing and becoming more consistent, we made the strategic decision to sell some of our bitcoin, as previously planned, to cover some of our operating expenses and for general corporate purposes. We intend to continue to sell a portion of our bitcoin holdings in 2023 to fund monthly operating costs. Even with these sales, our unrestricted bitcoin holdings increased from 7,815 bitcoin as of December 31, 2022, to 8,090 bitcoin as of January 31, 2023, as our production improved and the appreciation in bitcoin’s price in January reduced the amount of bitcoin we had posted as collateral. Additionally, we ended the month with $133.8 million in unrestricted cash on hand. “As we look ahead, our focus for the year is to energize more miners and to optimize their performance. We remain confident in our ability to scale Marathon into one of the largest and most energy efficient Bitcoin mining operations globally by installing',\n",
              "  'Company mines a record 697 bitcoins for the month, up 50% from prior month and 129% from same prior year period; Company’s bitcoin holdings grow 32% LAS VEGAS, Feb. 02, 2023 (GLOBE NEWSWIRE) -- CleanSpark, Inc. (Nasdaq: CLSK) (the \"Company\" or \"CleanSpark\"), America’s Bitcoin Miner™, today released its unaudited bitcoin mining and operations update for the month ending January 31, 2023. “We had a banner month, and not just because we mined a record number of bitcoin,” said Zach Bradford, CEO. “We also had our most reliable month ever, achieving 98% uptime across all of our sites. This remarkable achievement is the direct result of some of the hardest working and most dedicated teams in the public bitcoin mining sector. This fact is one of the hallmarks of the CleanSpark way and it is foundational to our operational strategy as one of the largest proprietary miners in North America. “As a proprietary miner we exercise tremendous control over our ability to meet targets by building our own infrastructure and installing our equipment according to our own schedule. Additionally, we have greater control over our resources, which translates to higher uptime. This month’s mining update is a perfect example of this approach in action, which has allowed us to grow fast and operate reliably.” January Bitcoin Mining Update (unaudited) Bitcoin mined in January: 697, up 50% from December 2022 2023 Calendar year bitcoin mined: 697 Total BTC holdings as of January 31: 301 BTC, up 32% from December 2022 Total BTC converted for operations and growth in January: 624 Currently deployed fleet of about 66,000 latest-generation bitcoin miners with a hashrate of 6.6 EH/s, up 7% from December 2022 and up 214% from January 2022 The Company funded growth and operations through the sale of 624 bitcoins in January 2023 at an average of approximately $19K per BTC. Sales of BTC equated to proceeds of approximately $11.9 million. January daily BTC mined averaged about 22.5 and reached a high of 24.2. About CleanSpark\\xa0 CleanSpark (NASDAQ: CLSK) is America’s Bitcoin Miner. Since 2014, we’ve helped people achieve energy independence for their homes',\n",
              "  'Upgraded Paraguay farm with 2,888 new miners increasing hashrate 168 PH/s This news release constitutes a “designated news release” for purposes of the Company’s prospectus supplement dated August 16, 2021, to its short form base shelf prospectus dated August 12, 2021. TORONTO and BROSSARD, Québec , Feb. 01, 2023 (GLOBE NEWSWIRE) -- Bitfarms Ltd. (NASDAQ: BITF // TSX: BITF), a global Bitcoin self-mining company, provided a Bitcoin (BTC) production and mining operations update for January 2023. “With our proven best in class operations, well-established corporate infrastructure and team firmly in place, we are excited about the prospects in 2023 for both organic and transactional expansion emerging from the industry downturn,” said Geoff Morphy, CEO of Bitfarms. “In January, we continued to deliver steady performance amidst a period of macro headwinds and predominantly low BTC prices most of the month. Pursuing a disciplined approach to investment as the industry consolidates and recovers, we expect to benefit in 2023 and into the next halving event in 2024.” Ben Gagnon, Chief Mining Officer of Bitfarms, said, “With 486 BTC mined in January, we increased production by 61% compared to 301 BTC in the same period a year ago and averaged 15.7 BTC mined per day. Two network difficulty increases during the month impacted overall BTC productivity, as network difficulty increased 10.3% on January 15, and by another 4.7% on January 29, for a total of 15.5% in January. Additionally, during the month, we deployed more efficient miners in Paraguay, which added a net 168 petahash per second (PH/s) near the end of the month.” CFO Jeff Lucas added, “During January, we continued to proactively increase financial flexibility by reducing indebtedness and capital expenditure obligations. We paid off three of our highest interest rate equipment loans totaling $830,000. These payments furthered our progress towards achieving our strategic objective of deleveraging our balance sheet that we set in June of 2022.” Mining Review  While Quebec was warmer in January 2023 than in January 2022, energy curtailment programs impacted production as a normal part of operations during the winter. As a result, Bitfarms temporarily curtailed',\n",
              "  'Bitcoin and Ethereum prices fell during Tuesday afternoon trading in Asia along with most other top 10 non-stablecoin cryptocurrencies. Dogecoin was the exception in that list as it rebounded from its morning losses. See related article: January weekly crypto product investment reaches highest since July, says CoinShares report Bitcoin, the largest cryptocurrency by market capitalization, fell 2.89% to US$22,971 over 24 hours to 4 p.m. in Hong Kong, posting a 0.39% drop in the past seven days, according to data from CoinMarketCap. Ethereum dropped 3.05% on Tuesday afternoon and 3.53% for the week to trade at US$1,577. Solana and Polygon posted the biggest losses among the top 10 cryptos. Solana fell 5.21% to US$24 and has dropped 3.11% in the past seven days. Matic, the native cryptocurrency of Polygon, lost 4.94% to US$1.1 but is up 7.74% over the past week. Dogecoin was the sole winner among the top 10 cryptos on Tuesday afternoon, rising 6.98% to US$0.09454, after gaining 4.85% on the week. Elon Musk, Twitter chief and Dogecoin advocate, is reportedly exploring the possibility of adding crypto as a payments system for the social media platform. Asian stock markets dropped on Tuesday as investors look ahead to policy announcements by major central banks this week. The U.S. Federal Reserve is meeting from Jan. 31 to Feb. 1 and is expected to raise interest rates by 25 basis points to cool inflation. The Shenzhen Component closed Tuesday’s trading session 0.80% lower, and the Shanghai Composite fell 0.42%. Chinese chip makers are expected to face coming pressure after the U.S. reportedly secured a deal with Japan and the Netherlands last Friday to limit some machinery exports to China. Hong Kong’s Hang Seng Index closed Tuesday down 1.03%, dipping for the second consecutive day to conclude its strong January rally. South Korea’s Kospi lost 1.04%, and Japan’s Nikkei 225 fell 0.39%. India’s Sensex index at the Bombay Stock Exchange was among the exceptions in Asian markets to gain on Tuesday, rising 0.08% at closing. Investors are on the lookout for the South Asian nation’s full year budget on Wednesday, the last',\n",
              "  'Join the most important conversation in crypto and web3! Secure your seat today A day after Federal Reserve Chair Jerome Powell offered unexpectedly less hawkish remarks to accompany the U.S. central bank’s modest interest rate increase, most major cryptocurrencies were in the green, with several tokens from the decentralized finance (DeFi) and smart contract platform sectors assuming the deepest hues. Among Thursday’s biggest winners, decentralized exchange Uniswap’s native governance token, UNI, rose nearly 4.5% over the past 24 hours to trade over $7.20. Layer 1 blockchain Avalanche’s AVAX token surged almost 3.4% to recently trade above $22. Altcoins’ gains have been part of an overall market upswing that followed the Fed’s announcement underscoring its commitment to less aggressive monetary tightening. Ether (ETH), the second-largest cryptocurrency in market value, was recently trading over $1,650, up a fraction of a percentage point since Wednesday, same time. Bitcoin (BTC) was recently trading above $23,560, roughly flat over the past 24 hours, albeit slightly in the red. BTC had been changing hands in a narrow range between $23,700 and $24,200 since the Fed announcement before dipping late Thursday. The CoinDesk Market Index, which measures crypto market performance, was recently flat after spending much of the day in the green. Crypto markets’ performance correlated with traditional markets\\' post-rate announcement rally. The tech-heavy Nasdaq Nasdaq Composite and S&P 500 closed up 3.2% and 1.4%, respectively, a day after Powell said \"[the] disinflationary process” had “started.\" Crypto-exposed stocks also soared: Exchange Coinbase (COIN) surged 24%, while MicroStrategy (MSTR), the software company with a large bitcoin portfolio, rose 9%. Bitcoin miner Marathon Digital Holdings (MARA) was up 6.3%. Digital assets’ positivity suggested that \"the bottom of this [down] cycle is probably in for crypto, and that we are entering something of a recovery phase for this market,” Joe Ziolkowski, CEO and co-founder of crypto-focused insurer Relm Insurance, told CoinDesk. “Both retail and institutional-grade investors are allocating more and more capital to crypto assets,” Ziolkowski said. “This trend will likely continue if it becomes clearer that the blowups that took down FTX, [Terra] and Three Arrows [Capital] are over',\n",
              "  \"Cipher Mining Produces 343 Bitcoin and Achieves New All-Time High Hash Rate Capacity of 4.3 EH/s in January 2023 Odessa Data Center NEW YORK, Feb. 01, 2023 (GLOBE NEWSWIRE) -- Cipher Mining (NASDAQ:CIFR) (“Cipher” or the “Company”), a leading developer and operator of bitcoin mining data centers, today announced its unaudited production and operations update for January 2023. Key Highlights Key Metrics January 2023* BTC Mined 343 BTC Sold 314 BTC Held 424 Deployed Mining Rigs 41,000 Month End Operating Hash Rate (EH/s) 4.3 *Approximate values Management Commentary  During the month of January, Cipher continued to expand operations at Odessa, fund our capital expenditures out of operations and build our bitcoin inventory. Cipher started the month with the potential to mine up to ~9.3 bitcoin in a day and finished with the potential to mine ~14.0 bitcoin1 – a ~51% increase in a single month. “Our experienced deployment and operations teams worked tirelessly to continue our rapid hash rate build throughout January,” said Tyler Page, CEO of Cipher. “We now have over 3.3 EH/s of self-mining operations at our Odessa facility and approximately 4.3 EH/s of self-mining operations across our sites. Cipher remains on track to build out ~6 EH/s of self-mining capacity in the first quarter of 2023.”  Odessa Data Center Area B & C Bitcoin Production and Operations Updates for January 2023 During the month of January, Cipher energized 13,300 new Bitmain and MicroBT miners, representing an increase in hash rate of ~1.4 EH/s and a ~48% increase relative to the previous month. With the increase in hash rate, Cipher produced ~343 BTC in January, representing a ~52% increase in production relative to the previous month. As part of its regular treasury management process, Cipher sold ~314 BTC in January, ending the month with a balance of ~424 BTC. About Cipher Cipher is an emerging technology company focused on the development and operation of bitcoin mining data centers in the United States. Cipher is dedicated to expanding and strengthening the Bitcoin network's critical infrastructure. Together with its diversely talented team and strategic partnerships, Cipher aims to\",\n",
              "  'With a gain of 39.4% this month, Bitcoin is closing out its best month since a 40% rally in October 2021 and its best January since 2013. Currently changing hands at $22,910, bitcoin (BTC-USD) has been trading over the past week at its highest level since August of last year. The largest cryptocurrency hasn\\'t given holders such an uplifting January in a decade. “We started January off with some explosive price action the week of December\\'s CPI print,” said Christopher Newhouse, options trader with crypto market maker GSR. From Newhouse\\'s perspective, buyer side demand from institutional takers — whether macro driven traders or hedge funds — returned in the first two weeks of the month, which sparked initial short seller liquidations. In the 12 days following December\\'s inflation report released on Jan. 12, $1.3 billion worth of short positions on bitcoin were liquidated, or $611 million as net of long positions, according to crypto derivatives aggregator CoinGlass. Over the past week, the trend has reversed with $331 million in long positions liquidated, or $108 million net of short positions. Between January 10 and 20, which is when bitcoin saw its largest moves higher, speculation-driven momentum traders returned to the market, spearheading bitcoin breaking out from a range of between $15,700 and $18,000. \"Bitcoin’s pushes above $20,000 and $22,000 both happened on Fridays as dealers had large amounts of negative gamma exposure and forced to hedge towards the end of U.S. hours trading,\" Newhouse observed. Analysts say the next leg for bitcoin will likely be determined in the days following the Federal Reserve\\'s monthly rate hike decision. “This market is going to start to trade very technical,” Edward Moya, a senior analyst at Oanda told Yahoo Finance, \"Volatility is coming back.\" The return of bitcoin buying looks similar to what occurred from July through early August according to Michael Safai, co-founder and partner with crypto trading firm, Dexterity Capital. \"It takes about two months or so for the crypto market to stabilize after a major shock, and we’re at that point post-FTX,\" Safai said over email. \"The worst of the damage']}"
            ]
          },
          "metadata": {},
          "execution_count": 22
        }
      ]
    },
    {
      "cell_type": "code",
      "source": [
        "articles['TSLA'][2]"
      ],
      "metadata": {
        "colab": {
          "base_uri": "https://localhost:8080/",
          "height": 139
        },
        "id": "G3qzhqLs8kH0",
        "outputId": "ced1561d-b66a-4af5-991a-a9e0090fbe02"
      },
      "execution_count": null,
      "outputs": [
        {
          "output_type": "execute_result",
          "data": {
            "text/plain": [
              "'Shares of Meta Platforms surge after company results that topped revenue expectations If Cathie Wood had to hold one stock for the next decade, it would be Tesla, she said in an interview. Wood has been snapping up Tesla stock since shares of the EV maker closed out a dismal year in 2022. She estimates the stock will soar to $1,500 a share over the next five years, marking a 675% increase. If Cathie Wood had to buy one stock today and hold it for the next 10 years, it would be Tesla, the Ark Invest CEO said. In a recent Twitter Spaces interview with Cardone Capital, the famed money manager professed her bullishness for Tesla stock, which is the largest holding in her flagship ARK Innovation ETF. Though Tesla is still recovering from a dismal performance 2022, Wood has poured more money into shares of the electric-vehicle maker, snapping up $47 million of the stock in a single week in January. \"Well, especially because of how much it\\'s been pummeled recently, and we\\'re known for this – I don\\'t think it\\'ll surprise – any of your listeners have heard of ARK, they\\'ve heard of Tesla,\" Wood said on Wednesday, when asked for her 10-year stock pick. Her optimism comes after a difficult year for Elon Musk\\'s car company, with shares plummeting 65% in 2022 amid rising inflation, interest rate hikes, and Musk\\'s chaotic takeover of Twitter, which analysts say has damaged Tesla\\'s brand. But Wood remains bullish on Tesla, particularly after the company announced it would be slashing prices on key models in China, Europe, and the US. That\\'s expected to revive some of the demand that fell off in the previous year, and the price cuts mean rival EV makers will \"have trouble keeping up\", Wood said in a separate interview with Yahoo Finance. She also thinks the company will be a leader in the delivery robot market, which Wood estimates will expand to one trillion dollars over the next decade. Ark Innovation\\'s stake in Tesla helped the ETF post a record monthly gain of 29% in January,'"
            ],
            "application/vnd.google.colaboratory.intrinsic+json": {
              "type": "string"
            }
          },
          "metadata": {},
          "execution_count": 23
        }
      ]
    },
    {
      "cell_type": "code",
      "source": [
        "#Summarize all articles\n",
        "def summarize(articles):\n",
        "    summaries = []\n",
        "    for article in articles:\n",
        "        input_ids = tokenizer.encode(article, return_tensors='pt')\n",
        "        output = model.generate(input_ids, max_length=55, num_beams=5, early_stopping=True)\n",
        "        summary = tokenizer.decode(output[0], skip_special_tokens=True)\n",
        "        summaries.append(summary)\n",
        "    return summaries"
      ],
      "metadata": {
        "id": "FVSdyt_m8rXg"
      },
      "execution_count": null,
      "outputs": []
    },
    {
      "cell_type": "code",
      "source": [
        "summaries = {ticker:summarize(articles[ticker]) for ticker in monitored_tickers}\n",
        "summaries"
      ],
      "metadata": {
        "colab": {
          "base_uri": "https://localhost:8080/"
        },
        "id": "4vjE6MJi8zCm",
        "outputId": "20091ed4-1858-4ec0-eda9-5640e45cc1b5"
      },
      "execution_count": null,
      "outputs": [
        {
          "output_type": "execute_result",
          "data": {
            "text/plain": [
              "{'GME': ['Company says it’s defaulted on its loans and lacks financial means. More than 50 years of growth, ups and downs',\n",
              "  'It all started with a meteoric rise of video game retailer GME. The buying of shares became a self-fulfilling prophecy',\n",
              "  'Top 12 one dollar stocks to buy among hedge funds. These are the most popular stocks among hedge funds.',\n",
              "  'Retailer to hold conference call on Thursday. Shares have surged 105% in the past three days',\n",
              "  'Video game retailer is set to report third-quarter results on Oct 26.',\n",
              "  'Uerkwitz cuts price target on gaming retailer to $20 from $26.',\n",
              "  'Beaten-down names including Tesla, Carvana, and Coinbase all advance. A mini meme trade was also in the works on Friday',\n",
              "  'All images are copyrighted.',\n",
              "  'Airline stocks, Tesla, AMC Entertainment lead the way. BlackRock, Bed Bath & Beyond among day’s gainers',\n",
              "  'Two years ago, retail investors poured money into stocks. Activity related to meme stocks has tapered off',\n",
              "  'Mobility industry evolves as an interdependent ecosystem, report finds.'],\n",
              " 'TSLA': ['Tesla reported mixed fourth-quarter and full-year outlook. Analyst sees order strength as most important takeaway from call',\n",
              "  'All photographs subject to copyright.',\n",
              "  'Wood says EV maker will be a leader in the delivery robot market. She has been snapping up the stock since it closed out a dismal year',\n",
              "  'Beaten-down names including Tesla, Carvana, and Coinbase all advance. A mini meme trade was also in the works on Friday',\n",
              "  'Tesla, IBM, ServiceNow report mixed fourth-quarter results.',\n",
              "  'Musk is an incredible driving force, but also brings unnecessary risk.',\n",
              "  'Tesla delivered 66,051 electric vehicles in China in January.',\n",
              "  'EV maker’s recent price cuts stem from cost leadership position. ‘Traditional auto manufacturers are going to have trouble keeping up,’ she says',\n",
              "  'EV maker to cut prices in first quarter: JP Morgan. Tesla reported mixed fourth-quarter and full-year outlook',\n",
              "  'Lower prices could boost U.S. demand by 300K units, Piper Sandler says.'],\n",
              " 'BTC': ['CoinDesk Market Index (CMI) 1,101 18.9  1.7%',\n",
              "  'Ether, Cardano lead gains among smaller coins. Bitcoin pares strong advance after hitting five-month high Wednesday',\n",
              "  'Bitcoin drops below $22,600 on Monday, recording its biggest one-day percentage loss since November. Some $44 million worth of BTC long positions liquidated in past 24 hours',\n",
              "  'Record 687 BTC produced in January 2023, 45% increase from prior month. Unrestricted Bitcoin Holdings increased to 8,090 BTC as of January 31',\n",
              "  'Company mines record 697 bitcoins in January, up 50% from prior month. Mining fleet of 66,000 latest-generation miners up 214% from December 2022',\n",
              "  'Paraguay farm with 2,888 new miners increasing hashrate 168 PH/s. Bitfarms to benefit from disciplined approach to investment as industry recovers',\n",
              "  'Dogecoin is sole winner among top 10 cryptos on Tuesday afternoon. Asian stock markets drop as investors look ahead to U.S. policy announcements',\n",
              "  'Altcoins’ gains have been part of post-Fed market upswing. Bitcoin flat, Ether slightly higher after post-Fed rally',\n",
              "  'Company has over 3.3/s of self-mining capacity at its Odessa data center. Odessa is on track to add 6/s of self-mining capacity in first quarter of 2023',\n",
              "  'Largest cryptocurrency is closing out its best January in a decade. Speculators have returned to the market, driving gains']}"
            ]
          },
          "metadata": {},
          "execution_count": 25
        }
      ]
    },
    {
      "cell_type": "code",
      "source": [
        "summaries['BTC']"
      ],
      "metadata": {
        "colab": {
          "base_uri": "https://localhost:8080/"
        },
        "id": "YOQ4Fecu81FN",
        "outputId": "e5aa628c-8ca7-487c-d6cc-a9a6ad29edb8"
      },
      "execution_count": null,
      "outputs": [
        {
          "output_type": "execute_result",
          "data": {
            "text/plain": [
              "['CoinDesk Market Index (CMI) 1,101 18.9  1.7%',\n",
              " 'Ether, Cardano lead gains among smaller coins. Bitcoin pares strong advance after hitting five-month high Wednesday',\n",
              " 'Bitcoin drops below $22,600 on Monday, recording its biggest one-day percentage loss since November. Some $44 million worth of BTC long positions liquidated in past 24 hours',\n",
              " 'Record 687 BTC produced in January 2023, 45% increase from prior month. Unrestricted Bitcoin Holdings increased to 8,090 BTC as of January 31',\n",
              " 'Company mines record 697 bitcoins in January, up 50% from prior month. Mining fleet of 66,000 latest-generation miners up 214% from December 2022',\n",
              " 'Paraguay farm with 2,888 new miners increasing hashrate 168 PH/s. Bitfarms to benefit from disciplined approach to investment as industry recovers',\n",
              " 'Dogecoin is sole winner among top 10 cryptos on Tuesday afternoon. Asian stock markets drop as investors look ahead to U.S. policy announcements',\n",
              " 'Altcoins’ gains have been part of post-Fed market upswing. Bitcoin flat, Ether slightly higher after post-Fed rally',\n",
              " 'Company has over 3.3/s of self-mining capacity at its Odessa data center. Odessa is on track to add 6/s of self-mining capacity in first quarter of 2023',\n",
              " 'Largest cryptocurrency is closing out its best January in a decade. Speculators have returned to the market, driving gains']"
            ]
          },
          "metadata": {},
          "execution_count": 26
        }
      ]
    },
    {
      "cell_type": "markdown",
      "source": [
        "Sentiment Analysis "
      ],
      "metadata": {
        "id": "IMrz9ZYc9rVX"
      }
    },
    {
      "cell_type": "code",
      "source": [
        "from transformers import pipeline\n",
        "sentiment = pipeline('sentiment-analysis')"
      ],
      "metadata": {
        "colab": {
          "base_uri": "https://localhost:8080/",
          "height": 200,
          "referenced_widgets": [
            "92d6ec505af2424ea80b840f68b109fd",
            "ec87abaf892d4e36b549c6596e2ecd59",
            "bd2dad26d58a477c965540774619b433",
            "0a34476bfd204926a2c0bc1628172569",
            "f34c75bd6a0f4d23b383102de010986c",
            "f7be61fb114a434d9e850b6ef099d43c",
            "790e72f75f92449a8638f530acc991c0",
            "2f92fac804604dddabf1b0afbf605ba0",
            "caa88098493b49c39d9355dbf0245d6a",
            "9df77b2077b8496ebef286866a2b2297",
            "975e4be627724b9cb905fc9fefb2eb92",
            "979c4e75678d405daeb1dc2413711c5b",
            "505a8f72ba74488889a23859d383d775",
            "fbdf47006aa747f1a03458db1a0b0bac",
            "45746dfa135646f98a4ad65c2b6464ef",
            "eb34394166d8483f98701317603029f2",
            "ff1421a9bd22437e95aa51ac3c303d6e",
            "a19c80b74c1d4c97b1e041051c910009",
            "44dabdc116a14a40a2420c298a9a60bc",
            "b42269bb1f3f4cb28bca77c91a2f66bd",
            "70cb6220f8d14530b674c774a247def6",
            "17555ea44e98482a9971745776a0b0b7",
            "9198107ea43049868bd759d9c50c6d90",
            "1b56607fce4e4788b1f51c7692e4c00b",
            "ea5f3765893e4e9788609cbe30c9014e",
            "ece9f7eaef0b40adbcd75b8a733756ac",
            "abed80e8652140a697f41adc6e952236",
            "c952a82d0b8f4207a18487ca3d60d420",
            "c191e97ca40948819a43c58a47593f85",
            "703e9308d9404bf39d3f8759512d7672",
            "f869a08b18c5409f8ee41f4e90a44b6b",
            "fb2a8237cf3b4a1485aba87590431e95",
            "52bb8cb4fe8a4f63a5f2966d6515497a",
            "0aa3c249a0e14f8388ceaef22ea62f54",
            "8606d8c47df74e27a7e30e6690d97813",
            "bc9f2eaec8a0457397bd03d38f2f06e1",
            "3e8206db7ef347e68be104d3dcfe1368",
            "f979b09d741242e79f401a1685781998",
            "2430bbcd035c468c925ca306a1b24a3a",
            "0edcee3361514681a5203f784a390ac8",
            "24dcd46ada814a31b40f635dac5e2cb9",
            "155ccd5ef8ed47f7b5652338fdee35a6",
            "414ba1f20b434dd4a437fa81a45500e1",
            "33a90f8471da42d99b5acdbd59cef6cb"
          ]
        },
        "id": "KCoLZRpg9u6-",
        "outputId": "28aba9de-6117-4299-825d-211432a100f2"
      },
      "execution_count": null,
      "outputs": [
        {
          "output_type": "stream",
          "name": "stderr",
          "text": [
            "No model was supplied, defaulted to distilbert-base-uncased-finetuned-sst-2-english and revision af0f99b (https://huggingface.co/distilbert-base-uncased-finetuned-sst-2-english).\n",
            "Using a pipeline without specifying a model name and revision in production is not recommended.\n"
          ]
        },
        {
          "output_type": "display_data",
          "data": {
            "text/plain": [
              "Downloading (…)lve/main/config.json:   0%|          | 0.00/629 [00:00<?, ?B/s]"
            ],
            "application/vnd.jupyter.widget-view+json": {
              "version_major": 2,
              "version_minor": 0,
              "model_id": "92d6ec505af2424ea80b840f68b109fd"
            }
          },
          "metadata": {}
        },
        {
          "output_type": "display_data",
          "data": {
            "text/plain": [
              "Downloading (…)\"pytorch_model.bin\";:   0%|          | 0.00/268M [00:00<?, ?B/s]"
            ],
            "application/vnd.jupyter.widget-view+json": {
              "version_major": 2,
              "version_minor": 0,
              "model_id": "979c4e75678d405daeb1dc2413711c5b"
            }
          },
          "metadata": {}
        },
        {
          "output_type": "display_data",
          "data": {
            "text/plain": [
              "Downloading (…)okenizer_config.json:   0%|          | 0.00/48.0 [00:00<?, ?B/s]"
            ],
            "application/vnd.jupyter.widget-view+json": {
              "version_major": 2,
              "version_minor": 0,
              "model_id": "9198107ea43049868bd759d9c50c6d90"
            }
          },
          "metadata": {}
        },
        {
          "output_type": "display_data",
          "data": {
            "text/plain": [
              "Downloading (…)solve/main/vocab.txt:   0%|          | 0.00/232k [00:00<?, ?B/s]"
            ],
            "application/vnd.jupyter.widget-view+json": {
              "version_major": 2,
              "version_minor": 0,
              "model_id": "0aa3c249a0e14f8388ceaef22ea62f54"
            }
          },
          "metadata": {}
        }
      ]
    },
    {
      "cell_type": "code",
      "source": [
        "sentiment(summaries['BTC'])"
      ],
      "metadata": {
        "colab": {
          "base_uri": "https://localhost:8080/"
        },
        "id": "rCEgYtG49yj_",
        "outputId": "18d978e9-2764-4a2a-b15e-5a3ec0b6a7f2"
      },
      "execution_count": null,
      "outputs": [
        {
          "output_type": "execute_result",
          "data": {
            "text/plain": [
              "[{'label': 'NEGATIVE', 'score': 0.9771423935890198},\n",
              " {'label': 'POSITIVE', 'score': 0.7815185785293579},\n",
              " {'label': 'NEGATIVE', 'score': 0.9996176958084106},\n",
              " {'label': 'POSITIVE', 'score': 0.9032465815544128},\n",
              " {'label': 'POSITIVE', 'score': 0.7537873387336731},\n",
              " {'label': 'POSITIVE', 'score': 0.7796147465705872},\n",
              " {'label': 'NEGATIVE', 'score': 0.9796889424324036},\n",
              " {'label': 'NEGATIVE', 'score': 0.9966051578521729},\n",
              " {'label': 'POSITIVE', 'score': 0.9608860015869141},\n",
              " {'label': 'POSITIVE', 'score': 0.9985652565956116}]"
            ]
          },
          "metadata": {},
          "execution_count": 28
        }
      ]
    },
    {
      "cell_type": "code",
      "source": [
        "scores = {ticker:sentiment(summaries[ticker]) for ticker in monitored_tickers}\n",
        "scores"
      ],
      "metadata": {
        "colab": {
          "base_uri": "https://localhost:8080/"
        },
        "id": "xRX27f-093Pl",
        "outputId": "08505204-e78e-471d-e13e-75f6ac89d074"
      },
      "execution_count": null,
      "outputs": [
        {
          "output_type": "execute_result",
          "data": {
            "text/plain": [
              "{'GME': [{'label': 'NEGATIVE', 'score': 0.9996053576469421},\n",
              "  {'label': 'NEGATIVE', 'score': 0.9903987646102905},\n",
              "  {'label': 'POSITIVE', 'score': 0.9996557235717773},\n",
              "  {'label': 'POSITIVE', 'score': 0.9471070766448975},\n",
              "  {'label': 'NEGATIVE', 'score': 0.9792588949203491},\n",
              "  {'label': 'NEGATIVE', 'score': 0.9943915009498596},\n",
              "  {'label': 'NEGATIVE', 'score': 0.9974543452262878},\n",
              "  {'label': 'NEGATIVE', 'score': 0.9880996346473694},\n",
              "  {'label': 'POSITIVE', 'score': 0.994852602481842},\n",
              "  {'label': 'NEGATIVE', 'score': 0.9995341300964355},\n",
              "  {'label': 'POSITIVE', 'score': 0.9941892623901367}],\n",
              " 'TSLA': [{'label': 'NEGATIVE', 'score': 0.9633318781852722},\n",
              "  {'label': 'NEGATIVE', 'score': 0.9676677584648132},\n",
              "  {'label': 'NEGATIVE', 'score': 0.9900915622711182},\n",
              "  {'label': 'NEGATIVE', 'score': 0.9974543452262878},\n",
              "  {'label': 'NEGATIVE', 'score': 0.9977608919143677},\n",
              "  {'label': 'NEGATIVE', 'score': 0.9798082709312439},\n",
              "  {'label': 'POSITIVE', 'score': 0.9783797264099121},\n",
              "  {'label': 'NEGATIVE', 'score': 0.9980504512786865},\n",
              "  {'label': 'NEGATIVE', 'score': 0.9939809441566467},\n",
              "  {'label': 'NEGATIVE', 'score': 0.9950372576713562}],\n",
              " 'BTC': [{'label': 'NEGATIVE', 'score': 0.9771423935890198},\n",
              "  {'label': 'POSITIVE', 'score': 0.7815185785293579},\n",
              "  {'label': 'NEGATIVE', 'score': 0.9996176958084106},\n",
              "  {'label': 'POSITIVE', 'score': 0.9032465815544128},\n",
              "  {'label': 'POSITIVE', 'score': 0.7537873387336731},\n",
              "  {'label': 'POSITIVE', 'score': 0.7796147465705872},\n",
              "  {'label': 'NEGATIVE', 'score': 0.9796889424324036},\n",
              "  {'label': 'NEGATIVE', 'score': 0.9966051578521729},\n",
              "  {'label': 'POSITIVE', 'score': 0.9608860015869141},\n",
              "  {'label': 'POSITIVE', 'score': 0.9985652565956116}]}"
            ]
          },
          "metadata": {},
          "execution_count": 29
        }
      ]
    },
    {
      "cell_type": "code",
      "source": [
        "print(summaries['GME'][3], scores['GME'][3]['label'], scores['GME'][3]['score'])"
      ],
      "metadata": {
        "colab": {
          "base_uri": "https://localhost:8080/"
        },
        "id": "nI7eZlf096r9",
        "outputId": "a28a227e-9a98-499d-f04e-a9f2f72870d2"
      },
      "execution_count": null,
      "outputs": [
        {
          "output_type": "stream",
          "name": "stdout",
          "text": [
            "Retailer to hold conference call on Thursday. Shares have surged 105% in the past three days POSITIVE 0.9471070766448975\n"
          ]
        }
      ]
    },
    {
      "cell_type": "code",
      "source": [
        "scores['BTC'][0]['score']"
      ],
      "metadata": {
        "colab": {
          "base_uri": "https://localhost:8080/"
        },
        "id": "GAL329rg98rI",
        "outputId": "b78d0264-57a2-4cf2-b2d4-38dbd8e84198"
      },
      "execution_count": null,
      "outputs": [
        {
          "output_type": "execute_result",
          "data": {
            "text/plain": [
              "0.9771423935890198"
            ]
          },
          "metadata": {},
          "execution_count": 31
        }
      ]
    },
    {
      "cell_type": "markdown",
      "source": [
        "Exporting Results to CSV"
      ],
      "metadata": {
        "id": "bselc6QG9-83"
      }
    },
    {
      "cell_type": "code",
      "source": [
        "summaries"
      ],
      "metadata": {
        "colab": {
          "base_uri": "https://localhost:8080/"
        },
        "id": "AjF9RVtQ-DIg",
        "outputId": "e52a68c8-a7ef-4d91-87bc-62ba8060332b"
      },
      "execution_count": null,
      "outputs": [
        {
          "output_type": "execute_result",
          "data": {
            "text/plain": [
              "{'GME': ['Company says it’s defaulted on its loans and lacks financial means. More than 50 years of growth, ups and downs',\n",
              "  'It all started with a meteoric rise of video game retailer GME. The buying of shares became a self-fulfilling prophecy',\n",
              "  'Top 12 one dollar stocks to buy among hedge funds. These are the most popular stocks among hedge funds.',\n",
              "  'Retailer to hold conference call on Thursday. Shares have surged 105% in the past three days',\n",
              "  'Video game retailer is set to report third-quarter results on Oct 26.',\n",
              "  'Uerkwitz cuts price target on gaming retailer to $20 from $26.',\n",
              "  'Beaten-down names including Tesla, Carvana, and Coinbase all advance. A mini meme trade was also in the works on Friday',\n",
              "  'All images are copyrighted.',\n",
              "  'Airline stocks, Tesla, AMC Entertainment lead the way. BlackRock, Bed Bath & Beyond among day’s gainers',\n",
              "  'Two years ago, retail investors poured money into stocks. Activity related to meme stocks has tapered off',\n",
              "  'Mobility industry evolves as an interdependent ecosystem, report finds.'],\n",
              " 'TSLA': ['Tesla reported mixed fourth-quarter and full-year outlook. Analyst sees order strength as most important takeaway from call',\n",
              "  'All photographs subject to copyright.',\n",
              "  'Wood says EV maker will be a leader in the delivery robot market. She has been snapping up the stock since it closed out a dismal year',\n",
              "  'Beaten-down names including Tesla, Carvana, and Coinbase all advance. A mini meme trade was also in the works on Friday',\n",
              "  'Tesla, IBM, ServiceNow report mixed fourth-quarter results.',\n",
              "  'Musk is an incredible driving force, but also brings unnecessary risk.',\n",
              "  'Tesla delivered 66,051 electric vehicles in China in January.',\n",
              "  'EV maker’s recent price cuts stem from cost leadership position. ‘Traditional auto manufacturers are going to have trouble keeping up,’ she says',\n",
              "  'EV maker to cut prices in first quarter: JP Morgan. Tesla reported mixed fourth-quarter and full-year outlook',\n",
              "  'Lower prices could boost U.S. demand by 300K units, Piper Sandler says.'],\n",
              " 'BTC': ['CoinDesk Market Index (CMI) 1,101 18.9  1.7%',\n",
              "  'Ether, Cardano lead gains among smaller coins. Bitcoin pares strong advance after hitting five-month high Wednesday',\n",
              "  'Bitcoin drops below $22,600 on Monday, recording its biggest one-day percentage loss since November. Some $44 million worth of BTC long positions liquidated in past 24 hours',\n",
              "  'Record 687 BTC produced in January 2023, 45% increase from prior month. Unrestricted Bitcoin Holdings increased to 8,090 BTC as of January 31',\n",
              "  'Company mines record 697 bitcoins in January, up 50% from prior month. Mining fleet of 66,000 latest-generation miners up 214% from December 2022',\n",
              "  'Paraguay farm with 2,888 new miners increasing hashrate 168 PH/s. Bitfarms to benefit from disciplined approach to investment as industry recovers',\n",
              "  'Dogecoin is sole winner among top 10 cryptos on Tuesday afternoon. Asian stock markets drop as investors look ahead to U.S. policy announcements',\n",
              "  'Altcoins’ gains have been part of post-Fed market upswing. Bitcoin flat, Ether slightly higher after post-Fed rally',\n",
              "  'Company has over 3.3/s of self-mining capacity at its Odessa data center. Odessa is on track to add 6/s of self-mining capacity in first quarter of 2023',\n",
              "  'Largest cryptocurrency is closing out its best January in a decade. Speculators have returned to the market, driving gains']}"
            ]
          },
          "metadata": {},
          "execution_count": 32
        }
      ]
    },
    {
      "cell_type": "code",
      "source": [
        "scores "
      ],
      "metadata": {
        "colab": {
          "base_uri": "https://localhost:8080/"
        },
        "id": "EBbIJSIR-FCv",
        "outputId": "7e56436a-1d2c-47fb-d9b8-41ce9a920646"
      },
      "execution_count": null,
      "outputs": [
        {
          "output_type": "execute_result",
          "data": {
            "text/plain": [
              "{'GME': [{'label': 'NEGATIVE', 'score': 0.9996053576469421},\n",
              "  {'label': 'NEGATIVE', 'score': 0.9903987646102905},\n",
              "  {'label': 'POSITIVE', 'score': 0.9996557235717773},\n",
              "  {'label': 'POSITIVE', 'score': 0.9471070766448975},\n",
              "  {'label': 'NEGATIVE', 'score': 0.9792588949203491},\n",
              "  {'label': 'NEGATIVE', 'score': 0.9943915009498596},\n",
              "  {'label': 'NEGATIVE', 'score': 0.9974543452262878},\n",
              "  {'label': 'NEGATIVE', 'score': 0.9880996346473694},\n",
              "  {'label': 'POSITIVE', 'score': 0.994852602481842},\n",
              "  {'label': 'NEGATIVE', 'score': 0.9995341300964355},\n",
              "  {'label': 'POSITIVE', 'score': 0.9941892623901367}],\n",
              " 'TSLA': [{'label': 'NEGATIVE', 'score': 0.9633318781852722},\n",
              "  {'label': 'NEGATIVE', 'score': 0.9676677584648132},\n",
              "  {'label': 'NEGATIVE', 'score': 0.9900915622711182},\n",
              "  {'label': 'NEGATIVE', 'score': 0.9974543452262878},\n",
              "  {'label': 'NEGATIVE', 'score': 0.9977608919143677},\n",
              "  {'label': 'NEGATIVE', 'score': 0.9798082709312439},\n",
              "  {'label': 'POSITIVE', 'score': 0.9783797264099121},\n",
              "  {'label': 'NEGATIVE', 'score': 0.9980504512786865},\n",
              "  {'label': 'NEGATIVE', 'score': 0.9939809441566467},\n",
              "  {'label': 'NEGATIVE', 'score': 0.9950372576713562}],\n",
              " 'BTC': [{'label': 'NEGATIVE', 'score': 0.9771423935890198},\n",
              "  {'label': 'POSITIVE', 'score': 0.7815185785293579},\n",
              "  {'label': 'NEGATIVE', 'score': 0.9996176958084106},\n",
              "  {'label': 'POSITIVE', 'score': 0.9032465815544128},\n",
              "  {'label': 'POSITIVE', 'score': 0.7537873387336731},\n",
              "  {'label': 'POSITIVE', 'score': 0.7796147465705872},\n",
              "  {'label': 'NEGATIVE', 'score': 0.9796889424324036},\n",
              "  {'label': 'NEGATIVE', 'score': 0.9966051578521729},\n",
              "  {'label': 'POSITIVE', 'score': 0.9608860015869141},\n",
              "  {'label': 'POSITIVE', 'score': 0.9985652565956116}]}"
            ]
          },
          "metadata": {},
          "execution_count": 33
        }
      ]
    },
    {
      "cell_type": "code",
      "source": [
        "cleaned_urls"
      ],
      "metadata": {
        "colab": {
          "base_uri": "https://localhost:8080/"
        },
        "id": "TtIVxNjf-HjH",
        "outputId": "5d74c05e-4b47-46d6-e26b-4c078f406d82"
      },
      "execution_count": null,
      "outputs": [
        {
          "output_type": "execute_result",
          "data": {
            "text/plain": [
              "{'GME': ['https://finance.yahoo.com/news/bed-bath-beyond-timeline-loan-default-bankruptcy-212526437.html',\n",
              "  'https://finance.yahoo.com/news/meme-stock-mania-5-lessons-220010930.html',\n",
              "  'https://finance.yahoo.com/news/12-best-one-dollar-stocks-143215032.html',\n",
              "  'https://ca.finance.yahoo.com/news/bed-bath-beyond-surged-105-185829217.html',\n",
              "  'https://finance.yahoo.com/news/strength-seen-gamestop-gme-14-144602277.html',\n",
              "  'https://finance.yahoo.com/news/why-game-stop-stock-is-probably-dead-money-for-a-while-according-to-one-analyst-180851839.html',\n",
              "  'https://finance.yahoo.com/news/tesla-arkk-meme-stocks-rally-2021-energy-technology-markets-195153458.html',\n",
              "  'https://www.google.com/search?q%3Dyahoo%2Bfinance%2BGME%26tbm%3Dnws%26pccc%3D1',\n",
              "  'https://finance.yahoo.com/news/midday-movers-airline-stocks-tesla-135534803.html',\n",
              "  'https://finance.yahoo.com/news/meme-stocks-i-bought-amc-thinking-it-would-be-the-next-tesla-retail-trader-on-2-year-anniversary-of-craze-150734011.html',\n",
              "  'https://finance.yahoo.com/news/equus-software-releases-2022-global-135300919.html'],\n",
              " 'TSLA': ['https://finance.yahoo.com/news/tesla-stock-heres-goldmans-most-important-takeaway-from-musks-earnings-call-110543602.html',\n",
              "  'https://finance.yahoo.com/news/auto-draft-180527207.html',\n",
              "  'https://ca.finance.yahoo.com/news/tesla-one-stock-ark-invests-191323292.html',\n",
              "  'https://finance.yahoo.com/news/tesla-arkk-meme-stocks-rally-2021-energy-technology-markets-195153458.html',\n",
              "  'https://finance.yahoo.com/news/stocks-moving-in-after-hours-tesla-ibm-servicenow-levi-231917403.html',\n",
              "  'https://finance.yahoo.com/news/the-enemy-is-inside-of-tesla-wall-street-analyst-warns-on-elon-musk-182658984.html',\n",
              "  'https://finance.yahoo.com/news/tesla-sold-66-051-china-085022824.html',\n",
              "  'https://finance.yahoo.com/news/cathie-wood-on-tesla-price-cuts-rival-ev-makers-will-have-trouble-keeping-up-174435735.html',\n",
              "  'https://finance.yahoo.com/news/tesla-stock-jp-morgan-note-pours-cold-water-on-sizzling-rally-110737838.html',\n",
              "  'https://finance.yahoo.com/news/tesla-stock-investors-buying-piper-sandler-165217005.html'],\n",
              " 'BTC': ['https://finance.yahoo.com/news/first-mover-asia-bitcoin-dips-021449928.html',\n",
              "  'https://finance.yahoo.com/news/bitcoin-jumps-highest-since-august-014833211.html',\n",
              "  'https://finance.yahoo.com/news/bitcoin-suffers-largest-daily-plunge-231303525.html',\n",
              "  'https://finance.yahoo.com/news/marathon-digital-holdings-announces-bitcoin-233000428.html',\n",
              "  'https://finance.yahoo.com/news/cleanspark-releases-january-2023-bitcoin-140000819.html',\n",
              "  'https://finance.yahoo.com/news/bitfarms-mines-486-bitcoin-january-120000978.html',\n",
              "  'https://finance.yahoo.com/news/markets-bitcoin-ether-drop-dogecoin-110909157.html',\n",
              "  'https://finance.yahoo.com/news/crypto-market-post-fed-rally-222957560.html',\n",
              "  'https://finance.yahoo.com/news/cipher-mining-announces-january-2023-210500754.html',\n",
              "  'https://finance.yahoo.com/news/bitcoin-closes-out-best-january-since-2013-232215270.html']}"
            ]
          },
          "metadata": {},
          "execution_count": 34
        }
      ]
    },
    {
      "cell_type": "code",
      "source": [
        "range(len(summaries['GME']))"
      ],
      "metadata": {
        "colab": {
          "base_uri": "https://localhost:8080/"
        },
        "id": "i2pdMgxz-JP3",
        "outputId": "bdb16531-24db-4f6d-bcb7-c4a04291af40"
      },
      "execution_count": null,
      "outputs": [
        {
          "output_type": "execute_result",
          "data": {
            "text/plain": [
              "range(0, 11)"
            ]
          },
          "metadata": {},
          "execution_count": 35
        }
      ]
    },
    {
      "cell_type": "code",
      "source": [
        "summaries['GME'][3]"
      ],
      "metadata": {
        "colab": {
          "base_uri": "https://localhost:8080/",
          "height": 35
        },
        "id": "xHb5WgBw-NQq",
        "outputId": "8d9a762c-df1d-4d92-e929-e3505c294895"
      },
      "execution_count": null,
      "outputs": [
        {
          "output_type": "execute_result",
          "data": {
            "text/plain": [
              "'Retailer to hold conference call on Thursday. Shares have surged 105% in the past three days'"
            ],
            "application/vnd.google.colaboratory.intrinsic+json": {
              "type": "string"
            }
          },
          "metadata": {},
          "execution_count": 36
        }
      ]
    },
    {
      "cell_type": "code",
      "source": [
        "def create_output_array(summaries, scores, urls):\n",
        "    output = []\n",
        "    for ticker in monitored_tickers:\n",
        "        for counter in range(len(summaries[ticker])):\n",
        "            output_this = [\n",
        "                ticker,\n",
        "                summaries[ticker][counter],\n",
        "                scores[ticker][counter]['label'],\n",
        "                scores[ticker][counter]['score'],\n",
        "                urls[ticker][counter]\n",
        "            ]\n",
        "            output.append(output_this)\n",
        "    return output"
      ],
      "metadata": {
        "id": "AvceF2RI-O-k"
      },
      "execution_count": null,
      "outputs": []
    },
    {
      "cell_type": "code",
      "source": [
        "final_output = create_output_array(summaries, scores, cleaned_urls)\n",
        "final_output\n"
      ],
      "metadata": {
        "colab": {
          "base_uri": "https://localhost:8080/"
        },
        "id": "FjHOXvb7-RlM",
        "outputId": "d65681f6-0b98-4f45-e285-bff4428dcb01"
      },
      "execution_count": null,
      "outputs": [
        {
          "output_type": "execute_result",
          "data": {
            "text/plain": [
              "[['GME',\n",
              "  'Company says it’s defaulted on its loans and lacks financial means. More than 50 years of growth, ups and downs',\n",
              "  'NEGATIVE',\n",
              "  0.9996053576469421,\n",
              "  'https://finance.yahoo.com/news/bed-bath-beyond-timeline-loan-default-bankruptcy-212526437.html'],\n",
              " ['GME',\n",
              "  'It all started with a meteoric rise of video game retailer GME. The buying of shares became a self-fulfilling prophecy',\n",
              "  'NEGATIVE',\n",
              "  0.9903987646102905,\n",
              "  'https://finance.yahoo.com/news/meme-stock-mania-5-lessons-220010930.html'],\n",
              " ['GME',\n",
              "  'Top 12 one dollar stocks to buy among hedge funds. These are the most popular stocks among hedge funds.',\n",
              "  'POSITIVE',\n",
              "  0.9996557235717773,\n",
              "  'https://finance.yahoo.com/news/12-best-one-dollar-stocks-143215032.html'],\n",
              " ['GME',\n",
              "  'Retailer to hold conference call on Thursday. Shares have surged 105% in the past three days',\n",
              "  'POSITIVE',\n",
              "  0.9471070766448975,\n",
              "  'https://ca.finance.yahoo.com/news/bed-bath-beyond-surged-105-185829217.html'],\n",
              " ['GME',\n",
              "  'Video game retailer is set to report third-quarter results on Oct 26.',\n",
              "  'NEGATIVE',\n",
              "  0.9792588949203491,\n",
              "  'https://finance.yahoo.com/news/strength-seen-gamestop-gme-14-144602277.html'],\n",
              " ['GME',\n",
              "  'Uerkwitz cuts price target on gaming retailer to $20 from $26.',\n",
              "  'NEGATIVE',\n",
              "  0.9943915009498596,\n",
              "  'https://finance.yahoo.com/news/why-game-stop-stock-is-probably-dead-money-for-a-while-according-to-one-analyst-180851839.html'],\n",
              " ['GME',\n",
              "  'Beaten-down names including Tesla, Carvana, and Coinbase all advance. A mini meme trade was also in the works on Friday',\n",
              "  'NEGATIVE',\n",
              "  0.9974543452262878,\n",
              "  'https://finance.yahoo.com/news/tesla-arkk-meme-stocks-rally-2021-energy-technology-markets-195153458.html'],\n",
              " ['GME',\n",
              "  'All images are copyrighted.',\n",
              "  'NEGATIVE',\n",
              "  0.9880996346473694,\n",
              "  'https://www.google.com/search?q%3Dyahoo%2Bfinance%2BGME%26tbm%3Dnws%26pccc%3D1'],\n",
              " ['GME',\n",
              "  'Airline stocks, Tesla, AMC Entertainment lead the way. BlackRock, Bed Bath & Beyond among day’s gainers',\n",
              "  'POSITIVE',\n",
              "  0.994852602481842,\n",
              "  'https://finance.yahoo.com/news/midday-movers-airline-stocks-tesla-135534803.html'],\n",
              " ['GME',\n",
              "  'Two years ago, retail investors poured money into stocks. Activity related to meme stocks has tapered off',\n",
              "  'NEGATIVE',\n",
              "  0.9995341300964355,\n",
              "  'https://finance.yahoo.com/news/meme-stocks-i-bought-amc-thinking-it-would-be-the-next-tesla-retail-trader-on-2-year-anniversary-of-craze-150734011.html'],\n",
              " ['GME',\n",
              "  'Mobility industry evolves as an interdependent ecosystem, report finds.',\n",
              "  'POSITIVE',\n",
              "  0.9941892623901367,\n",
              "  'https://finance.yahoo.com/news/equus-software-releases-2022-global-135300919.html'],\n",
              " ['TSLA',\n",
              "  'Tesla reported mixed fourth-quarter and full-year outlook. Analyst sees order strength as most important takeaway from call',\n",
              "  'NEGATIVE',\n",
              "  0.9633318781852722,\n",
              "  'https://finance.yahoo.com/news/tesla-stock-heres-goldmans-most-important-takeaway-from-musks-earnings-call-110543602.html'],\n",
              " ['TSLA',\n",
              "  'All photographs subject to copyright.',\n",
              "  'NEGATIVE',\n",
              "  0.9676677584648132,\n",
              "  'https://finance.yahoo.com/news/auto-draft-180527207.html'],\n",
              " ['TSLA',\n",
              "  'Wood says EV maker will be a leader in the delivery robot market. She has been snapping up the stock since it closed out a dismal year',\n",
              "  'NEGATIVE',\n",
              "  0.9900915622711182,\n",
              "  'https://ca.finance.yahoo.com/news/tesla-one-stock-ark-invests-191323292.html'],\n",
              " ['TSLA',\n",
              "  'Beaten-down names including Tesla, Carvana, and Coinbase all advance. A mini meme trade was also in the works on Friday',\n",
              "  'NEGATIVE',\n",
              "  0.9974543452262878,\n",
              "  'https://finance.yahoo.com/news/tesla-arkk-meme-stocks-rally-2021-energy-technology-markets-195153458.html'],\n",
              " ['TSLA',\n",
              "  'Tesla, IBM, ServiceNow report mixed fourth-quarter results.',\n",
              "  'NEGATIVE',\n",
              "  0.9977608919143677,\n",
              "  'https://finance.yahoo.com/news/stocks-moving-in-after-hours-tesla-ibm-servicenow-levi-231917403.html'],\n",
              " ['TSLA',\n",
              "  'Musk is an incredible driving force, but also brings unnecessary risk.',\n",
              "  'NEGATIVE',\n",
              "  0.9798082709312439,\n",
              "  'https://finance.yahoo.com/news/the-enemy-is-inside-of-tesla-wall-street-analyst-warns-on-elon-musk-182658984.html'],\n",
              " ['TSLA',\n",
              "  'Tesla delivered 66,051 electric vehicles in China in January.',\n",
              "  'POSITIVE',\n",
              "  0.9783797264099121,\n",
              "  'https://finance.yahoo.com/news/tesla-sold-66-051-china-085022824.html'],\n",
              " ['TSLA',\n",
              "  'EV maker’s recent price cuts stem from cost leadership position. ‘Traditional auto manufacturers are going to have trouble keeping up,’ she says',\n",
              "  'NEGATIVE',\n",
              "  0.9980504512786865,\n",
              "  'https://finance.yahoo.com/news/cathie-wood-on-tesla-price-cuts-rival-ev-makers-will-have-trouble-keeping-up-174435735.html'],\n",
              " ['TSLA',\n",
              "  'EV maker to cut prices in first quarter: JP Morgan. Tesla reported mixed fourth-quarter and full-year outlook',\n",
              "  'NEGATIVE',\n",
              "  0.9939809441566467,\n",
              "  'https://finance.yahoo.com/news/tesla-stock-jp-morgan-note-pours-cold-water-on-sizzling-rally-110737838.html'],\n",
              " ['TSLA',\n",
              "  'Lower prices could boost U.S. demand by 300K units, Piper Sandler says.',\n",
              "  'NEGATIVE',\n",
              "  0.9950372576713562,\n",
              "  'https://finance.yahoo.com/news/tesla-stock-investors-buying-piper-sandler-165217005.html'],\n",
              " ['BTC',\n",
              "  'CoinDesk Market Index (CMI) 1,101 18.9  1.7%',\n",
              "  'NEGATIVE',\n",
              "  0.9771423935890198,\n",
              "  'https://finance.yahoo.com/news/first-mover-asia-bitcoin-dips-021449928.html'],\n",
              " ['BTC',\n",
              "  'Ether, Cardano lead gains among smaller coins. Bitcoin pares strong advance after hitting five-month high Wednesday',\n",
              "  'POSITIVE',\n",
              "  0.7815185785293579,\n",
              "  'https://finance.yahoo.com/news/bitcoin-jumps-highest-since-august-014833211.html'],\n",
              " ['BTC',\n",
              "  'Bitcoin drops below $22,600 on Monday, recording its biggest one-day percentage loss since November. Some $44 million worth of BTC long positions liquidated in past 24 hours',\n",
              "  'NEGATIVE',\n",
              "  0.9996176958084106,\n",
              "  'https://finance.yahoo.com/news/bitcoin-suffers-largest-daily-plunge-231303525.html'],\n",
              " ['BTC',\n",
              "  'Record 687 BTC produced in January 2023, 45% increase from prior month. Unrestricted Bitcoin Holdings increased to 8,090 BTC as of January 31',\n",
              "  'POSITIVE',\n",
              "  0.9032465815544128,\n",
              "  'https://finance.yahoo.com/news/marathon-digital-holdings-announces-bitcoin-233000428.html'],\n",
              " ['BTC',\n",
              "  'Company mines record 697 bitcoins in January, up 50% from prior month. Mining fleet of 66,000 latest-generation miners up 214% from December 2022',\n",
              "  'POSITIVE',\n",
              "  0.7537873387336731,\n",
              "  'https://finance.yahoo.com/news/cleanspark-releases-january-2023-bitcoin-140000819.html'],\n",
              " ['BTC',\n",
              "  'Paraguay farm with 2,888 new miners increasing hashrate 168 PH/s. Bitfarms to benefit from disciplined approach to investment as industry recovers',\n",
              "  'POSITIVE',\n",
              "  0.7796147465705872,\n",
              "  'https://finance.yahoo.com/news/bitfarms-mines-486-bitcoin-january-120000978.html'],\n",
              " ['BTC',\n",
              "  'Dogecoin is sole winner among top 10 cryptos on Tuesday afternoon. Asian stock markets drop as investors look ahead to U.S. policy announcements',\n",
              "  'NEGATIVE',\n",
              "  0.9796889424324036,\n",
              "  'https://finance.yahoo.com/news/markets-bitcoin-ether-drop-dogecoin-110909157.html'],\n",
              " ['BTC',\n",
              "  'Altcoins’ gains have been part of post-Fed market upswing. Bitcoin flat, Ether slightly higher after post-Fed rally',\n",
              "  'NEGATIVE',\n",
              "  0.9966051578521729,\n",
              "  'https://finance.yahoo.com/news/crypto-market-post-fed-rally-222957560.html'],\n",
              " ['BTC',\n",
              "  'Company has over 3.3/s of self-mining capacity at its Odessa data center. Odessa is on track to add 6/s of self-mining capacity in first quarter of 2023',\n",
              "  'POSITIVE',\n",
              "  0.9608860015869141,\n",
              "  'https://finance.yahoo.com/news/cipher-mining-announces-january-2023-210500754.html'],\n",
              " ['BTC',\n",
              "  'Largest cryptocurrency is closing out its best January in a decade. Speculators have returned to the market, driving gains',\n",
              "  'POSITIVE',\n",
              "  0.9985652565956116,\n",
              "  'https://finance.yahoo.com/news/bitcoin-closes-out-best-january-since-2013-232215270.html']]"
            ]
          },
          "metadata": {},
          "execution_count": 38
        }
      ]
    },
    {
      "cell_type": "code",
      "source": [
        "final_output.insert(0, ['Ticker', 'Summary', 'Label', 'Confidence', 'URL'])"
      ],
      "metadata": {
        "id": "jENS9KZE-WmU"
      },
      "execution_count": null,
      "outputs": []
    },
    {
      "cell_type": "code",
      "source": [
        "final_output"
      ],
      "metadata": {
        "colab": {
          "base_uri": "https://localhost:8080/"
        },
        "id": "-hR428Rr-YWf",
        "outputId": "f9784b78-a566-4d4e-f041-b5871f775389"
      },
      "execution_count": null,
      "outputs": [
        {
          "output_type": "execute_result",
          "data": {
            "text/plain": [
              "[['Ticker', 'Summary', 'Label', 'Confidence', 'URL'],\n",
              " ['GME',\n",
              "  'Company says it’s defaulted on its loans and lacks financial means. More than 50 years of growth, ups and downs',\n",
              "  'NEGATIVE',\n",
              "  0.9996053576469421,\n",
              "  'https://finance.yahoo.com/news/bed-bath-beyond-timeline-loan-default-bankruptcy-212526437.html'],\n",
              " ['GME',\n",
              "  'It all started with a meteoric rise of video game retailer GME. The buying of shares became a self-fulfilling prophecy',\n",
              "  'NEGATIVE',\n",
              "  0.9903987646102905,\n",
              "  'https://finance.yahoo.com/news/meme-stock-mania-5-lessons-220010930.html'],\n",
              " ['GME',\n",
              "  'Top 12 one dollar stocks to buy among hedge funds. These are the most popular stocks among hedge funds.',\n",
              "  'POSITIVE',\n",
              "  0.9996557235717773,\n",
              "  'https://finance.yahoo.com/news/12-best-one-dollar-stocks-143215032.html'],\n",
              " ['GME',\n",
              "  'Retailer to hold conference call on Thursday. Shares have surged 105% in the past three days',\n",
              "  'POSITIVE',\n",
              "  0.9471070766448975,\n",
              "  'https://ca.finance.yahoo.com/news/bed-bath-beyond-surged-105-185829217.html'],\n",
              " ['GME',\n",
              "  'Video game retailer is set to report third-quarter results on Oct 26.',\n",
              "  'NEGATIVE',\n",
              "  0.9792588949203491,\n",
              "  'https://finance.yahoo.com/news/strength-seen-gamestop-gme-14-144602277.html'],\n",
              " ['GME',\n",
              "  'Uerkwitz cuts price target on gaming retailer to $20 from $26.',\n",
              "  'NEGATIVE',\n",
              "  0.9943915009498596,\n",
              "  'https://finance.yahoo.com/news/why-game-stop-stock-is-probably-dead-money-for-a-while-according-to-one-analyst-180851839.html'],\n",
              " ['GME',\n",
              "  'Beaten-down names including Tesla, Carvana, and Coinbase all advance. A mini meme trade was also in the works on Friday',\n",
              "  'NEGATIVE',\n",
              "  0.9974543452262878,\n",
              "  'https://finance.yahoo.com/news/tesla-arkk-meme-stocks-rally-2021-energy-technology-markets-195153458.html'],\n",
              " ['GME',\n",
              "  'All images are copyrighted.',\n",
              "  'NEGATIVE',\n",
              "  0.9880996346473694,\n",
              "  'https://www.google.com/search?q%3Dyahoo%2Bfinance%2BGME%26tbm%3Dnws%26pccc%3D1'],\n",
              " ['GME',\n",
              "  'Airline stocks, Tesla, AMC Entertainment lead the way. BlackRock, Bed Bath & Beyond among day’s gainers',\n",
              "  'POSITIVE',\n",
              "  0.994852602481842,\n",
              "  'https://finance.yahoo.com/news/midday-movers-airline-stocks-tesla-135534803.html'],\n",
              " ['GME',\n",
              "  'Two years ago, retail investors poured money into stocks. Activity related to meme stocks has tapered off',\n",
              "  'NEGATIVE',\n",
              "  0.9995341300964355,\n",
              "  'https://finance.yahoo.com/news/meme-stocks-i-bought-amc-thinking-it-would-be-the-next-tesla-retail-trader-on-2-year-anniversary-of-craze-150734011.html'],\n",
              " ['GME',\n",
              "  'Mobility industry evolves as an interdependent ecosystem, report finds.',\n",
              "  'POSITIVE',\n",
              "  0.9941892623901367,\n",
              "  'https://finance.yahoo.com/news/equus-software-releases-2022-global-135300919.html'],\n",
              " ['TSLA',\n",
              "  'Tesla reported mixed fourth-quarter and full-year outlook. Analyst sees order strength as most important takeaway from call',\n",
              "  'NEGATIVE',\n",
              "  0.9633318781852722,\n",
              "  'https://finance.yahoo.com/news/tesla-stock-heres-goldmans-most-important-takeaway-from-musks-earnings-call-110543602.html'],\n",
              " ['TSLA',\n",
              "  'All photographs subject to copyright.',\n",
              "  'NEGATIVE',\n",
              "  0.9676677584648132,\n",
              "  'https://finance.yahoo.com/news/auto-draft-180527207.html'],\n",
              " ['TSLA',\n",
              "  'Wood says EV maker will be a leader in the delivery robot market. She has been snapping up the stock since it closed out a dismal year',\n",
              "  'NEGATIVE',\n",
              "  0.9900915622711182,\n",
              "  'https://ca.finance.yahoo.com/news/tesla-one-stock-ark-invests-191323292.html'],\n",
              " ['TSLA',\n",
              "  'Beaten-down names including Tesla, Carvana, and Coinbase all advance. A mini meme trade was also in the works on Friday',\n",
              "  'NEGATIVE',\n",
              "  0.9974543452262878,\n",
              "  'https://finance.yahoo.com/news/tesla-arkk-meme-stocks-rally-2021-energy-technology-markets-195153458.html'],\n",
              " ['TSLA',\n",
              "  'Tesla, IBM, ServiceNow report mixed fourth-quarter results.',\n",
              "  'NEGATIVE',\n",
              "  0.9977608919143677,\n",
              "  'https://finance.yahoo.com/news/stocks-moving-in-after-hours-tesla-ibm-servicenow-levi-231917403.html'],\n",
              " ['TSLA',\n",
              "  'Musk is an incredible driving force, but also brings unnecessary risk.',\n",
              "  'NEGATIVE',\n",
              "  0.9798082709312439,\n",
              "  'https://finance.yahoo.com/news/the-enemy-is-inside-of-tesla-wall-street-analyst-warns-on-elon-musk-182658984.html'],\n",
              " ['TSLA',\n",
              "  'Tesla delivered 66,051 electric vehicles in China in January.',\n",
              "  'POSITIVE',\n",
              "  0.9783797264099121,\n",
              "  'https://finance.yahoo.com/news/tesla-sold-66-051-china-085022824.html'],\n",
              " ['TSLA',\n",
              "  'EV maker’s recent price cuts stem from cost leadership position. ‘Traditional auto manufacturers are going to have trouble keeping up,’ she says',\n",
              "  'NEGATIVE',\n",
              "  0.9980504512786865,\n",
              "  'https://finance.yahoo.com/news/cathie-wood-on-tesla-price-cuts-rival-ev-makers-will-have-trouble-keeping-up-174435735.html'],\n",
              " ['TSLA',\n",
              "  'EV maker to cut prices in first quarter: JP Morgan. Tesla reported mixed fourth-quarter and full-year outlook',\n",
              "  'NEGATIVE',\n",
              "  0.9939809441566467,\n",
              "  'https://finance.yahoo.com/news/tesla-stock-jp-morgan-note-pours-cold-water-on-sizzling-rally-110737838.html'],\n",
              " ['TSLA',\n",
              "  'Lower prices could boost U.S. demand by 300K units, Piper Sandler says.',\n",
              "  'NEGATIVE',\n",
              "  0.9950372576713562,\n",
              "  'https://finance.yahoo.com/news/tesla-stock-investors-buying-piper-sandler-165217005.html'],\n",
              " ['BTC',\n",
              "  'CoinDesk Market Index (CMI) 1,101 18.9  1.7%',\n",
              "  'NEGATIVE',\n",
              "  0.9771423935890198,\n",
              "  'https://finance.yahoo.com/news/first-mover-asia-bitcoin-dips-021449928.html'],\n",
              " ['BTC',\n",
              "  'Ether, Cardano lead gains among smaller coins. Bitcoin pares strong advance after hitting five-month high Wednesday',\n",
              "  'POSITIVE',\n",
              "  0.7815185785293579,\n",
              "  'https://finance.yahoo.com/news/bitcoin-jumps-highest-since-august-014833211.html'],\n",
              " ['BTC',\n",
              "  'Bitcoin drops below $22,600 on Monday, recording its biggest one-day percentage loss since November. Some $44 million worth of BTC long positions liquidated in past 24 hours',\n",
              "  'NEGATIVE',\n",
              "  0.9996176958084106,\n",
              "  'https://finance.yahoo.com/news/bitcoin-suffers-largest-daily-plunge-231303525.html'],\n",
              " ['BTC',\n",
              "  'Record 687 BTC produced in January 2023, 45% increase from prior month. Unrestricted Bitcoin Holdings increased to 8,090 BTC as of January 31',\n",
              "  'POSITIVE',\n",
              "  0.9032465815544128,\n",
              "  'https://finance.yahoo.com/news/marathon-digital-holdings-announces-bitcoin-233000428.html'],\n",
              " ['BTC',\n",
              "  'Company mines record 697 bitcoins in January, up 50% from prior month. Mining fleet of 66,000 latest-generation miners up 214% from December 2022',\n",
              "  'POSITIVE',\n",
              "  0.7537873387336731,\n",
              "  'https://finance.yahoo.com/news/cleanspark-releases-january-2023-bitcoin-140000819.html'],\n",
              " ['BTC',\n",
              "  'Paraguay farm with 2,888 new miners increasing hashrate 168 PH/s. Bitfarms to benefit from disciplined approach to investment as industry recovers',\n",
              "  'POSITIVE',\n",
              "  0.7796147465705872,\n",
              "  'https://finance.yahoo.com/news/bitfarms-mines-486-bitcoin-january-120000978.html'],\n",
              " ['BTC',\n",
              "  'Dogecoin is sole winner among top 10 cryptos on Tuesday afternoon. Asian stock markets drop as investors look ahead to U.S. policy announcements',\n",
              "  'NEGATIVE',\n",
              "  0.9796889424324036,\n",
              "  'https://finance.yahoo.com/news/markets-bitcoin-ether-drop-dogecoin-110909157.html'],\n",
              " ['BTC',\n",
              "  'Altcoins’ gains have been part of post-Fed market upswing. Bitcoin flat, Ether slightly higher after post-Fed rally',\n",
              "  'NEGATIVE',\n",
              "  0.9966051578521729,\n",
              "  'https://finance.yahoo.com/news/crypto-market-post-fed-rally-222957560.html'],\n",
              " ['BTC',\n",
              "  'Company has over 3.3/s of self-mining capacity at its Odessa data center. Odessa is on track to add 6/s of self-mining capacity in first quarter of 2023',\n",
              "  'POSITIVE',\n",
              "  0.9608860015869141,\n",
              "  'https://finance.yahoo.com/news/cipher-mining-announces-january-2023-210500754.html'],\n",
              " ['BTC',\n",
              "  'Largest cryptocurrency is closing out its best January in a decade. Speculators have returned to the market, driving gains',\n",
              "  'POSITIVE',\n",
              "  0.9985652565956116,\n",
              "  'https://finance.yahoo.com/news/bitcoin-closes-out-best-january-since-2013-232215270.html']]"
            ]
          },
          "metadata": {},
          "execution_count": 40
        }
      ]
    },
    {
      "cell_type": "code",
      "source": [
        "import csv\n",
        "with open('assetsummaries.csv', mode='w', newline='') as f:\n",
        "    csv_writer = csv.writer(f, delimiter=',', quotechar='\"', quoting=csv.QUOTE_MINIMAL)\n",
        "    csv_writer.writerows(final_output)"
      ],
      "metadata": {
        "id": "q4moauyh-a9b"
      },
      "execution_count": null,
      "outputs": []
    },
    {
      "cell_type": "code",
      "source": [],
      "metadata": {
        "id": "-l4HvrQA-NP5"
      },
      "execution_count": null,
      "outputs": []
    }
  ]
}